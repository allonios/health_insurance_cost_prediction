{
 "cells": [
  {
   "cell_type": "markdown",
   "source": [
    "# Base Imports"
   ],
   "metadata": {
    "collapsed": false,
    "pycharm": {
     "name": "#%% md\n"
    }
   }
  },
  {
   "cell_type": "code",
   "execution_count": 1,
   "outputs": [],
   "source": [
    "import numpy as np\n",
    "from utils.dataset_utils import load_dataset\n",
    "from models.model_builder import generate_model_summary\n",
    "from sklearn.linear_model import Ridge, Lasso\n",
    "from sklearn.tree import DecisionTreeRegressor\n",
    "from sklearn.svm import LinearSVR, SVR\n",
    "from sklearn.ensemble import (\n",
    "    AdaBoostRegressor,\n",
    "    GradientBoostingRegressor,\n",
    "    RandomForestRegressor,\n",
    "    VotingRegressor,\n",
    "    BaggingRegressor\n",
    ")"
   ],
   "metadata": {
    "collapsed": false,
    "pycharm": {
     "name": "#%%\n"
    }
   }
  },
  {
   "cell_type": "code",
   "execution_count": 2,
   "outputs": [],
   "source": [
    "import warnings\n",
    "warnings.simplefilter(\"ignore\")"
   ],
   "metadata": {
    "collapsed": false,
    "pycharm": {
     "name": "#%%\n"
    }
   }
  },
  {
   "cell_type": "markdown",
   "source": [
    "# Loading Dataset\n",
    "The current dataset is being loaded with a StandardScaler on age, bmi and children columns and a OneHotEncoder on the region column."
   ],
   "metadata": {
    "collapsed": false,
    "pycharm": {
     "name": "#%% md\n"
    }
   }
  },
  {
   "cell_type": "code",
   "execution_count": 3,
   "outputs": [],
   "source": [
    "X_train, X_test, y_train, y_test = load_dataset(\n",
    "    \"dataset/data.csv\",\n",
    "    **{\n",
    "        \"std_scaler\": [\"age\", \"bmi\", \"children\"],\n",
    "        # \"min_max_scaler\": [\"age\", \"bmi\", \"children\"],\n",
    "        \"one_hot_encoder\": [\"region\"]\n",
    "    }\n",
    ")"
   ],
   "metadata": {
    "collapsed": false,
    "pycharm": {
     "name": "#%%\n"
    }
   }
  },
  {
   "cell_type": "markdown",
   "source": [
    "# Building Models"
   ],
   "metadata": {
    "collapsed": false,
    "pycharm": {
     "name": "#%% md\n"
    }
   }
  },
  {
   "cell_type": "markdown",
   "source": [
    "# 1- LinearRegression with Ridge Regularization"
   ],
   "metadata": {
    "collapsed": false,
    "pycharm": {
     "name": "#%% md\n"
    }
   }
  },
  {
   "cell_type": "code",
   "execution_count": 4,
   "outputs": [],
   "source": [
    "lr_ridge = generate_model_summary(\n",
    "    \"lr_ridge\",\n",
    "    Ridge(),\n",
    "    X_train,\n",
    "    X_test,\n",
    "    y_train,\n",
    "    y_test,\n",
    "    polynomial_features={\"degree\": 2},\n",
    "    grid_search={\n",
    "        \"param_grid\": {\n",
    "            \"polynomialfeatures__degree\": range(4),\n",
    "            \"ridge__alpha\": [0, 5, 10, 20],\n",
    "            \"ridge__max_iter\": [1000, 1500, 2000],\n",
    "        },\n",
    "        \"n_jobs\": 3\n",
    "    },\n",
    "    learning_curve={\n",
    "        \"train_sizes\": np.linspace(0.3, 1, 10)\n",
    "    },\n",
    ")"
   ],
   "metadata": {
    "collapsed": false,
    "pycharm": {
     "name": "#%%\n"
    }
   }
  },
  {
   "cell_type": "code",
   "execution_count": 5,
   "outputs": [
    {
     "name": "stdout",
     "output_type": "stream",
     "text": [
      "MSE:\n",
      "{'test': 18231470.57099238, 'train': 18217614.557389025}\n",
      "R2:\n",
      "{'test': 0.8621908409483714, 'train': 0.8379964352670441}\n",
      "Grid Search:\n",
      "{'best_params': {'polynomialfeatures__degree': 3, 'ridge__alpha': 5, 'ridge__max_iter': 1000}, 'cv_results': {'mean_fit_time': array([0.0053252 , 0.00461674, 0.00460541, 0.00410807, 0.00536752,\n",
      "       0.0042429 , 0.00578201, 0.00521183, 0.00436461, 0.00521016,\n",
      "       0.00618744, 0.0038166 , 0.00637364, 0.01215208, 0.00804591,\n",
      "       0.00693476, 0.00702918, 0.00730264, 0.00747561, 0.007424  ,\n",
      "       0.00693202, 0.00608444, 0.00741196, 0.01522398, 0.02393746,\n",
      "       0.01881683, 0.01930749, 0.01009369, 0.0245291 , 0.01162553,\n",
      "       0.0109123 , 0.01012158, 0.01055217, 0.00992239, 0.01027536,\n",
      "       0.00985277, 0.08262384, 0.10686564, 0.096012  , 0.02098453,\n",
      "       0.01878226, 0.02164114, 0.02164841, 0.02180052, 0.02249134,\n",
      "       0.0222249 , 0.02213645, 0.02203774]), 'std_fit_time': array([4.82439995e-04, 1.83105469e-04, 2.94804573e-04, 3.99351120e-05,\n",
      "       6.93321228e-04, 4.02927399e-05, 7.96914101e-04, 1.18565559e-03,\n",
      "       2.97665596e-04, 1.12271309e-03, 2.86102295e-05, 1.85012817e-04,\n",
      "       2.72274017e-04, 5.01215458e-03, 3.30209732e-04, 5.05328178e-04,\n",
      "       7.74025917e-04, 2.20537186e-05, 3.33547592e-04, 8.21352005e-05,\n",
      "       4.89950180e-04, 4.45842743e-05, 1.32369995e-03, 1.41429901e-03,\n",
      "       2.71248817e-03, 1.18374825e-04, 1.03628635e-03, 2.04086304e-04,\n",
      "       1.04333162e-02, 3.43084335e-04, 2.37107277e-04, 2.40325928e-04,\n",
      "       5.22613525e-04, 2.00152397e-04, 4.17232513e-05, 1.08480453e-05,\n",
      "       4.09591198e-03, 2.45578289e-02, 5.14864922e-04, 4.23789024e-04,\n",
      "       7.18414783e-03, 5.84483147e-04, 7.35282898e-04, 5.87701797e-04,\n",
      "       3.11970711e-04, 6.49452209e-04, 8.13961029e-04, 7.45296478e-04]), 'mean_score_time': array([0.00276899, 0.00219631, 0.00191796, 0.00186312, 0.00245011,\n",
      "       0.00199401, 0.00247073, 0.00224853, 0.00268304, 0.00234461,\n",
      "       0.00292385, 0.00176823, 0.00352204, 0.00323534, 0.00339472,\n",
      "       0.00308633, 0.00306654, 0.00363934, 0.00340056, 0.00335681,\n",
      "       0.00312579, 0.0027678 , 0.00321412, 0.0034771 , 0.00493693,\n",
      "       0.00481141, 0.00495934, 0.00475287, 0.00799525, 0.00572002,\n",
      "       0.00520277, 0.00459158, 0.00492251, 0.00487983, 0.00496459,\n",
      "       0.00455987, 0.00898921, 0.01468718, 0.0129174 , 0.00759637,\n",
      "       0.00662184, 0.00992048, 0.00910854, 0.0089736 , 0.00927448,\n",
      "       0.0093106 , 0.00929868, 0.00883269]), 'std_score_time': array([8.43286514e-04, 4.21047211e-04, 7.73668289e-05, 5.36441803e-06,\n",
      "       1.74403191e-04, 9.97781754e-05, 4.30107117e-04, 5.29766083e-04,\n",
      "       3.10301781e-04, 6.35147095e-04, 2.20537186e-05, 9.97781754e-05,\n",
      "       1.63316727e-05, 2.08616257e-04, 5.71012497e-05, 3.06367874e-04,\n",
      "       2.31981277e-04, 2.92897224e-04, 1.28984451e-04, 2.01463699e-05,\n",
      "       2.49981880e-04, 1.16825104e-05, 4.79698181e-04, 6.79492950e-05,\n",
      "       5.12599945e-05, 1.32322311e-05, 1.19447708e-04, 2.12907791e-04,\n",
      "       1.72197819e-03, 6.46471977e-04, 3.05652618e-04, 2.51531601e-05,\n",
      "       1.41859055e-05, 2.65836716e-05, 6.89029694e-05, 2.36868858e-04,\n",
      "       7.54237175e-04, 5.41913509e-03, 4.00388241e-03, 1.73819065e-03,\n",
      "       1.73068047e-03, 8.78930092e-04, 5.24520874e-06, 1.16109848e-04,\n",
      "       1.67608261e-04, 3.26514244e-04, 5.85317612e-05, 9.60826874e-05]), 'param_polynomialfeatures__degree': masked_array(data=[0, 0, 0, 0, 0, 0, 0, 0, 0, 0, 0, 0, 1, 1, 1, 1, 1, 1,\n",
      "                   1, 1, 1, 1, 1, 1, 2, 2, 2, 2, 2, 2, 2, 2, 2, 2, 2, 2,\n",
      "                   3, 3, 3, 3, 3, 3, 3, 3, 3, 3, 3, 3],\n",
      "             mask=[False, False, False, False, False, False, False, False,\n",
      "                   False, False, False, False, False, False, False, False,\n",
      "                   False, False, False, False, False, False, False, False,\n",
      "                   False, False, False, False, False, False, False, False,\n",
      "                   False, False, False, False, False, False, False, False,\n",
      "                   False, False, False, False, False, False, False, False],\n",
      "       fill_value='?',\n",
      "            dtype=object), 'param_ridge__alpha': masked_array(data=[0, 0, 0, 5, 5, 5, 10, 10, 10, 20, 20, 20, 0, 0, 0, 5,\n",
      "                   5, 5, 10, 10, 10, 20, 20, 20, 0, 0, 0, 5, 5, 5, 10, 10,\n",
      "                   10, 20, 20, 20, 0, 0, 0, 5, 5, 5, 10, 10, 10, 20, 20,\n",
      "                   20],\n",
      "             mask=[False, False, False, False, False, False, False, False,\n",
      "                   False, False, False, False, False, False, False, False,\n",
      "                   False, False, False, False, False, False, False, False,\n",
      "                   False, False, False, False, False, False, False, False,\n",
      "                   False, False, False, False, False, False, False, False,\n",
      "                   False, False, False, False, False, False, False, False],\n",
      "       fill_value='?',\n",
      "            dtype=object), 'param_ridge__max_iter': masked_array(data=[1000, 1500, 2000, 1000, 1500, 2000, 1000, 1500, 2000,\n",
      "                   1000, 1500, 2000, 1000, 1500, 2000, 1000, 1500, 2000,\n",
      "                   1000, 1500, 2000, 1000, 1500, 2000, 1000, 1500, 2000,\n",
      "                   1000, 1500, 2000, 1000, 1500, 2000, 1000, 1500, 2000,\n",
      "                   1000, 1500, 2000, 1000, 1500, 2000, 1000, 1500, 2000,\n",
      "                   1000, 1500, 2000],\n",
      "             mask=[False, False, False, False, False, False, False, False,\n",
      "                   False, False, False, False, False, False, False, False,\n",
      "                   False, False, False, False, False, False, False, False,\n",
      "                   False, False, False, False, False, False, False, False,\n",
      "                   False, False, False, False, False, False, False, False,\n",
      "                   False, False, False, False, False, False, False, False],\n",
      "       fill_value='?',\n",
      "            dtype=object), 'params': [{'polynomialfeatures__degree': 0, 'ridge__alpha': 0, 'ridge__max_iter': 1000}, {'polynomialfeatures__degree': 0, 'ridge__alpha': 0, 'ridge__max_iter': 1500}, {'polynomialfeatures__degree': 0, 'ridge__alpha': 0, 'ridge__max_iter': 2000}, {'polynomialfeatures__degree': 0, 'ridge__alpha': 5, 'ridge__max_iter': 1000}, {'polynomialfeatures__degree': 0, 'ridge__alpha': 5, 'ridge__max_iter': 1500}, {'polynomialfeatures__degree': 0, 'ridge__alpha': 5, 'ridge__max_iter': 2000}, {'polynomialfeatures__degree': 0, 'ridge__alpha': 10, 'ridge__max_iter': 1000}, {'polynomialfeatures__degree': 0, 'ridge__alpha': 10, 'ridge__max_iter': 1500}, {'polynomialfeatures__degree': 0, 'ridge__alpha': 10, 'ridge__max_iter': 2000}, {'polynomialfeatures__degree': 0, 'ridge__alpha': 20, 'ridge__max_iter': 1000}, {'polynomialfeatures__degree': 0, 'ridge__alpha': 20, 'ridge__max_iter': 1500}, {'polynomialfeatures__degree': 0, 'ridge__alpha': 20, 'ridge__max_iter': 2000}, {'polynomialfeatures__degree': 1, 'ridge__alpha': 0, 'ridge__max_iter': 1000}, {'polynomialfeatures__degree': 1, 'ridge__alpha': 0, 'ridge__max_iter': 1500}, {'polynomialfeatures__degree': 1, 'ridge__alpha': 0, 'ridge__max_iter': 2000}, {'polynomialfeatures__degree': 1, 'ridge__alpha': 5, 'ridge__max_iter': 1000}, {'polynomialfeatures__degree': 1, 'ridge__alpha': 5, 'ridge__max_iter': 1500}, {'polynomialfeatures__degree': 1, 'ridge__alpha': 5, 'ridge__max_iter': 2000}, {'polynomialfeatures__degree': 1, 'ridge__alpha': 10, 'ridge__max_iter': 1000}, {'polynomialfeatures__degree': 1, 'ridge__alpha': 10, 'ridge__max_iter': 1500}, {'polynomialfeatures__degree': 1, 'ridge__alpha': 10, 'ridge__max_iter': 2000}, {'polynomialfeatures__degree': 1, 'ridge__alpha': 20, 'ridge__max_iter': 1000}, {'polynomialfeatures__degree': 1, 'ridge__alpha': 20, 'ridge__max_iter': 1500}, {'polynomialfeatures__degree': 1, 'ridge__alpha': 20, 'ridge__max_iter': 2000}, {'polynomialfeatures__degree': 2, 'ridge__alpha': 0, 'ridge__max_iter': 1000}, {'polynomialfeatures__degree': 2, 'ridge__alpha': 0, 'ridge__max_iter': 1500}, {'polynomialfeatures__degree': 2, 'ridge__alpha': 0, 'ridge__max_iter': 2000}, {'polynomialfeatures__degree': 2, 'ridge__alpha': 5, 'ridge__max_iter': 1000}, {'polynomialfeatures__degree': 2, 'ridge__alpha': 5, 'ridge__max_iter': 1500}, {'polynomialfeatures__degree': 2, 'ridge__alpha': 5, 'ridge__max_iter': 2000}, {'polynomialfeatures__degree': 2, 'ridge__alpha': 10, 'ridge__max_iter': 1000}, {'polynomialfeatures__degree': 2, 'ridge__alpha': 10, 'ridge__max_iter': 1500}, {'polynomialfeatures__degree': 2, 'ridge__alpha': 10, 'ridge__max_iter': 2000}, {'polynomialfeatures__degree': 2, 'ridge__alpha': 20, 'ridge__max_iter': 1000}, {'polynomialfeatures__degree': 2, 'ridge__alpha': 20, 'ridge__max_iter': 1500}, {'polynomialfeatures__degree': 2, 'ridge__alpha': 20, 'ridge__max_iter': 2000}, {'polynomialfeatures__degree': 3, 'ridge__alpha': 0, 'ridge__max_iter': 1000}, {'polynomialfeatures__degree': 3, 'ridge__alpha': 0, 'ridge__max_iter': 1500}, {'polynomialfeatures__degree': 3, 'ridge__alpha': 0, 'ridge__max_iter': 2000}, {'polynomialfeatures__degree': 3, 'ridge__alpha': 5, 'ridge__max_iter': 1000}, {'polynomialfeatures__degree': 3, 'ridge__alpha': 5, 'ridge__max_iter': 1500}, {'polynomialfeatures__degree': 3, 'ridge__alpha': 5, 'ridge__max_iter': 2000}, {'polynomialfeatures__degree': 3, 'ridge__alpha': 10, 'ridge__max_iter': 1000}, {'polynomialfeatures__degree': 3, 'ridge__alpha': 10, 'ridge__max_iter': 1500}, {'polynomialfeatures__degree': 3, 'ridge__alpha': 10, 'ridge__max_iter': 2000}, {'polynomialfeatures__degree': 3, 'ridge__alpha': 20, 'ridge__max_iter': 1000}, {'polynomialfeatures__degree': 3, 'ridge__alpha': 20, 'ridge__max_iter': 1500}, {'polynomialfeatures__degree': 3, 'ridge__alpha': 20, 'ridge__max_iter': 2000}], 'split0_test_score': array([-3.13591198e-04, -3.13591198e-04, -3.13591198e-04, -3.13591198e-04,\n",
      "       -3.13591198e-04, -3.13591198e-04, -3.13591198e-04, -3.13591198e-04,\n",
      "       -3.13591198e-04, -3.13591198e-04, -3.13591198e-04, -3.13591198e-04,\n",
      "        6.97153333e-01,  6.97153333e-01,  6.97153333e-01,  6.97248802e-01,\n",
      "        6.97248802e-01,  6.97248802e-01,  6.96695281e-01,  6.96695281e-01,\n",
      "        6.96695281e-01,  6.93966124e-01,  6.93966124e-01,  6.93966124e-01,\n",
      "        7.92256152e-01,  7.92256152e-01,  7.92256152e-01,  7.99337609e-01,\n",
      "        7.99337609e-01,  7.99337609e-01,  7.99421366e-01,  7.99421366e-01,\n",
      "        7.99421366e-01,  7.98699785e-01,  7.98699785e-01,  7.98699785e-01,\n",
      "        7.28187212e-01,  7.28187212e-01,  7.28187212e-01,  8.00321734e-01,\n",
      "        8.00321734e-01,  8.00321734e-01,  8.01488439e-01,  8.01488439e-01,\n",
      "        8.01488439e-01,  8.01677839e-01,  8.01677839e-01,  8.01677839e-01]), 'split1_test_score': array([-2.95725790e-04, -2.95725790e-04, -2.95725790e-04, -2.95725790e-04,\n",
      "       -2.95725790e-04, -2.95725790e-04, -2.95725790e-04, -2.95725790e-04,\n",
      "       -2.95725790e-04, -2.95725790e-04, -2.95725790e-04, -2.95725790e-04,\n",
      "        7.18356725e-01,  7.18356725e-01,  7.18356725e-01,  7.20513469e-01,\n",
      "        7.20513469e-01,  7.20513469e-01,  7.19057505e-01,  7.19057505e-01,\n",
      "        7.19057505e-01,  7.14445183e-01,  7.14445183e-01,  7.14445183e-01,\n",
      "        7.68798767e-01,  7.68798767e-01,  7.68798767e-01,  8.20903734e-01,\n",
      "        8.20903734e-01,  8.20903734e-01,  8.19800468e-01,  8.19800468e-01,\n",
      "        8.19800468e-01,  8.17240052e-01,  8.17240052e-01,  8.17240052e-01,\n",
      "        7.36637961e-01,  7.36637961e-01,  7.36637961e-01,  8.23566860e-01,\n",
      "        8.23566860e-01,  8.23566860e-01,  8.22164136e-01,  8.22164136e-01,\n",
      "        8.22164136e-01,  8.18655833e-01,  8.18655833e-01,  8.18655833e-01]), 'mean_test_score': array([-3.04658494e-04, -3.04658494e-04, -3.04658494e-04, -3.04658494e-04,\n",
      "       -3.04658494e-04, -3.04658494e-04, -3.04658494e-04, -3.04658494e-04,\n",
      "       -3.04658494e-04, -3.04658494e-04, -3.04658494e-04, -3.04658494e-04,\n",
      "        7.07755029e-01,  7.07755029e-01,  7.07755029e-01,  7.08881135e-01,\n",
      "        7.08881135e-01,  7.08881135e-01,  7.07876393e-01,  7.07876393e-01,\n",
      "        7.07876393e-01,  7.04205654e-01,  7.04205654e-01,  7.04205654e-01,\n",
      "        7.80527460e-01,  7.80527460e-01,  7.80527460e-01,  8.10120672e-01,\n",
      "        8.10120672e-01,  8.10120672e-01,  8.09610917e-01,  8.09610917e-01,\n",
      "        8.09610917e-01,  8.07969918e-01,  8.07969918e-01,  8.07969918e-01,\n",
      "        7.32412586e-01,  7.32412586e-01,  7.32412586e-01,  8.11944297e-01,\n",
      "        8.11944297e-01,  8.11944297e-01,  8.11826288e-01,  8.11826288e-01,\n",
      "        8.11826288e-01,  8.10166836e-01,  8.10166836e-01,  8.10166836e-01]), 'std_test_score': array([8.93270386e-06, 8.93270386e-06, 8.93270386e-06, 8.93270386e-06,\n",
      "       8.93270386e-06, 8.93270386e-06, 8.93270386e-06, 8.93270386e-06,\n",
      "       8.93270386e-06, 8.93270386e-06, 8.93270386e-06, 8.93270386e-06,\n",
      "       1.06016960e-02, 1.06016960e-02, 1.06016960e-02, 1.16323336e-02,\n",
      "       1.16323336e-02, 1.16323336e-02, 1.11811120e-02, 1.11811120e-02,\n",
      "       1.11811120e-02, 1.02395297e-02, 1.02395297e-02, 1.02395297e-02,\n",
      "       1.17286921e-02, 1.17286921e-02, 1.17286921e-02, 1.07830625e-02,\n",
      "       1.07830625e-02, 1.07830625e-02, 1.01895510e-02, 1.01895510e-02,\n",
      "       1.01895510e-02, 9.27013361e-03, 9.27013361e-03, 9.27013361e-03,\n",
      "       4.22537449e-03, 4.22537449e-03, 4.22537449e-03, 1.16225633e-02,\n",
      "       1.16225633e-02, 1.16225633e-02, 1.03378487e-02, 1.03378487e-02,\n",
      "       1.03378487e-02, 8.48899712e-03, 8.48899712e-03, 8.48899712e-03]), 'rank_test_score': array([37, 37, 37, 37, 37, 37, 37, 37, 37, 37, 37, 37, 31, 31, 31, 25, 25,\n",
      "       25, 28, 28, 28, 34, 34, 34, 19, 19, 19, 10, 10, 10, 13, 13, 13, 16,\n",
      "       16, 16, 22, 22, 22,  1,  1,  1,  4,  4,  4,  7,  7,  7],\n",
      "      dtype=int32), 'split0_train_score': array([0.        , 0.        , 0.        , 0.        , 0.        ,\n",
      "       0.        , 0.        , 0.        , 0.        , 0.        ,\n",
      "       0.        , 0.        , 0.72391167, 0.72391167, 0.72391167,\n",
      "       0.72356368, 0.72356368, 0.72356368, 0.72256111, 0.72256111,\n",
      "       0.72256111, 0.71897802, 0.71897802, 0.71897802, 0.82354292,\n",
      "       0.82354292, 0.82354292, 0.83180429, 0.83180429, 0.83180429,\n",
      "       0.83101908, 0.83101908, 0.83101908, 0.82881747, 0.82881747,\n",
      "       0.82881747, 0.78970973, 0.78970973, 0.78970973, 0.85751903,\n",
      "       0.85751903, 0.85751903, 0.85606287, 0.85606287, 0.85606287,\n",
      "       0.85269678, 0.85269678, 0.85269678]), 'split1_train_score': array([0.        , 0.        , 0.        , 0.        , 0.        ,\n",
      "       0.        , 0.        , 0.        , 0.        , 0.        ,\n",
      "       0.        , 0.        , 0.69744435, 0.69744435, 0.69744435,\n",
      "       0.69957656, 0.69957656, 0.69957656, 0.69847135, 0.69847135,\n",
      "       0.69847135, 0.69455596, 0.69455596, 0.69455596, 0.75232565,\n",
      "       0.75232565, 0.75232565, 0.80911024, 0.80911024, 0.80911024,\n",
      "       0.80840192, 0.80840192, 0.80840192, 0.80641064, 0.80641064,\n",
      "       0.80641064, 0.761875  , 0.761875  , 0.761875  , 0.83207859,\n",
      "       0.83207859, 0.83207859, 0.83068745, 0.83068745, 0.83068745,\n",
      "       0.82773518, 0.82773518, 0.82773518]), 'mean_train_score': array([0.        , 0.        , 0.        , 0.        , 0.        ,\n",
      "       0.        , 0.        , 0.        , 0.        , 0.        ,\n",
      "       0.        , 0.        , 0.71067801, 0.71067801, 0.71067801,\n",
      "       0.71157012, 0.71157012, 0.71157012, 0.71051623, 0.71051623,\n",
      "       0.71051623, 0.70676699, 0.70676699, 0.70676699, 0.78793428,\n",
      "       0.78793428, 0.78793428, 0.82045727, 0.82045727, 0.82045727,\n",
      "       0.8197105 , 0.8197105 , 0.8197105 , 0.81761406, 0.81761406,\n",
      "       0.81761406, 0.77579236, 0.77579236, 0.77579236, 0.84479881,\n",
      "       0.84479881, 0.84479881, 0.84337516, 0.84337516, 0.84337516,\n",
      "       0.84021598, 0.84021598, 0.84021598]), 'std_train_score': array([0.        , 0.        , 0.        , 0.        , 0.        ,\n",
      "       0.        , 0.        , 0.        , 0.        , 0.        ,\n",
      "       0.        , 0.        , 0.01323366, 0.01323366, 0.01323366,\n",
      "       0.01199356, 0.01199356, 0.01199356, 0.01204488, 0.01204488,\n",
      "       0.01204488, 0.01221103, 0.01221103, 0.01221103, 0.03560864,\n",
      "       0.03560864, 0.03560864, 0.01134702, 0.01134702, 0.01134702,\n",
      "       0.01130858, 0.01130858, 0.01130858, 0.01120342, 0.01120342,\n",
      "       0.01120342, 0.01391737, 0.01391737, 0.01391737, 0.01272022,\n",
      "       0.01272022, 0.01272022, 0.01268771, 0.01268771, 0.01268771,\n",
      "       0.0124808 , 0.0124808 , 0.0124808 ])}, 'param_grid': {'polynomialfeatures__degree': range(0, 4), 'ridge__alpha': [0, 5, 10, 20], 'ridge__max_iter': [1000, 1500, 2000]}}\n"
     ]
    },
    {
     "data": {
      "text/plain": "<Figure size 432x288 with 1 Axes>",
      "image/png": "[encoded data removed]"
     },
     "metadata": {
      "needs_background": "light"
     },
     "output_type": "display_data"
    },
    {
     "data": {
      "text/plain": "<Figure size 1440x360 with 3 Axes>",
      "image/png": "[encoded data removed]"
     },
     "metadata": {
      "needs_background": "light"
     },
     "output_type": "display_data"
    }
   ],
   "source": [
    "lr_ridge.to_json(\"dist/result.json\")\n",
    "lr_ridge.display()"
   ],
   "metadata": {
    "collapsed": false,
    "pycharm": {
     "name": "#%%\n"
    }
   }
  },
  {
   "cell_type": "markdown",
   "source": [
    "# 2- LinearRegression with Ridge Regularization and RFE"
   ],
   "metadata": {
    "collapsed": false,
    "pycharm": {
     "name": "#%% md\n"
    }
   }
  },
  {
   "cell_type": "code",
   "execution_count": 6,
   "outputs": [],
   "source": [
    "lr_ridge_rfe = generate_model_summary(\n",
    "    \"lr_ridge_rfe\",\n",
    "    Ridge(),\n",
    "    X_train,\n",
    "    X_test,\n",
    "    y_train,\n",
    "    y_test,\n",
    "    polynomial_features={\"degree\": 2},\n",
    "    rfe={\n",
    "        \"estimator\": Ridge(),\n",
    "    },\n",
    "    grid_search={\n",
    "        \"param_grid\": {\n",
    "            \"polynomialfeatures__degree\": range(4),\n",
    "            \"ridge__alpha\": [0, 5, 10, 20],\n",
    "            \"ridge__max_iter\": [1000, 1500, 2000],\n",
    "        },\n",
    "        \"n_jobs\": 3\n",
    "    },\n",
    "    learning_curve={\n",
    "        \"train_sizes\": np.linspace(0.3, 1, 10)\n",
    "    },\n",
    "\n",
    ")"
   ],
   "metadata": {
    "collapsed": false,
    "pycharm": {
     "name": "#%%\n"
    }
   }
  },
  {
   "cell_type": "code",
   "execution_count": 7,
   "outputs": [
    {
     "name": "stdout",
     "output_type": "stream",
     "text": [
      "MSE:\n",
      "{'test': 18948674.968745925, 'train': 18630817.15530067}\n",
      "R2:\n",
      "{'test': 0.8567695923147147, 'train': 0.834321953429275}\n",
      "Grid Search:\n",
      "{'best_params': {'polynomialfeatures__degree': 3, 'ridge__alpha': 10, 'ridge__max_iter': 1000}, 'cv_results': {'mean_fit_time': array([0.00366092, 0.00413775, 0.00376856, 0.00455213, 0.00457537,\n",
      "       0.00368667, 0.00474536, 0.00375247, 0.00435531, 0.00486445,\n",
      "       0.00381196, 0.00349152, 0.01349199, 0.01589906, 0.0177964 ,\n",
      "       0.01221168, 0.00990939, 0.01788151, 0.01809013, 0.01402688,\n",
      "       0.01503932, 0.01893938, 0.0227468 , 0.01946485, 0.10441315,\n",
      "       0.09930122, 0.09739816, 0.09738731, 0.11245489, 0.08250034,\n",
      "       0.13396883, 0.07157075, 0.0758698 , 0.09252644, 0.10211992,\n",
      "       0.12776482, 1.44790673, 1.37807322, 1.34955406, 1.49245763,\n",
      "       1.27004135, 1.3373543 , 1.19649553, 1.34407258, 1.37919986,\n",
      "       1.51968193, 1.5095005 , 1.06900465]), 'std_fit_time': array([4.45842743e-05, 3.89814377e-04, 2.73585320e-04, 1.15466118e-03,\n",
      "       1.08993053e-03, 2.36988068e-04, 1.15036964e-04, 2.39133835e-04,\n",
      "       1.04773045e-03, 4.64439392e-04, 4.54545021e-04, 1.09314919e-04,\n",
      "       2.57408619e-03, 1.29473209e-03, 2.70962715e-04, 1.70433521e-03,\n",
      "       2.96831131e-04, 2.19464302e-04, 2.97188759e-04, 9.83238220e-04,\n",
      "       2.45451927e-04, 2.58576870e-03, 1.05619431e-03, 6.84142113e-04,\n",
      "       6.08575344e-03, 6.90710545e-03, 3.15725803e-03, 3.54194641e-03,\n",
      "       7.40909576e-03, 1.13383532e-02, 3.28710079e-02, 1.13451481e-03,\n",
      "       5.21874428e-03, 4.17089462e-03, 7.25269318e-04, 3.53540182e-02,\n",
      "       1.29962444e-01, 2.13865280e-01, 1.83589458e-02, 1.18917465e-01,\n",
      "       2.33784914e-02, 1.86719060e-01, 3.02586555e-02, 2.62589455e-02,\n",
      "       1.92252398e-02, 4.70991135e-02, 1.62377834e-01, 2.49272227e-01]), 'mean_score_time': array([0.        , 0.        , 0.        , 0.        , 0.        ,\n",
      "       0.        , 0.        , 0.        , 0.        , 0.        ,\n",
      "       0.        , 0.        , 0.00286913, 0.0037514 , 0.00372553,\n",
      "       0.00265026, 0.00211716, 0.00392735, 0.00409544, 0.00314987,\n",
      "       0.00331593, 0.00452363, 0.0049969 , 0.0043782 , 0.00554085,\n",
      "       0.00533712, 0.00554085, 0.00574851, 0.00567567, 0.00424421,\n",
      "       0.00595331, 0.00362468, 0.0042336 , 0.00560462, 0.00602901,\n",
      "       0.00595009, 0.01742721, 0.01069415, 0.01635087, 0.01125538,\n",
      "       0.01269066, 0.01724279, 0.01077485, 0.01069081, 0.0164026 ,\n",
      "       0.01080656, 0.0141896 , 0.01291609]), 'std_score_time': array([0.00000000e+00, 0.00000000e+00, 0.00000000e+00, 0.00000000e+00,\n",
      "       0.00000000e+00, 0.00000000e+00, 0.00000000e+00, 0.00000000e+00,\n",
      "       0.00000000e+00, 0.00000000e+00, 0.00000000e+00, 0.00000000e+00,\n",
      "       7.96079636e-04, 1.56164169e-05, 2.05039978e-05, 6.39915466e-04,\n",
      "       7.53402710e-05, 8.38041306e-05, 1.78456306e-04, 2.32100487e-04,\n",
      "       2.61783600e-04, 9.18745995e-04, 3.82781029e-04, 5.78165054e-05,\n",
      "       3.64780426e-04, 7.06911087e-05, 1.06334686e-04, 3.55243683e-04,\n",
      "       1.84774399e-05, 9.85503197e-04, 5.46693802e-04, 6.53505325e-04,\n",
      "       4.56094742e-04, 1.72972679e-04, 5.11050224e-04, 1.37579441e-03,\n",
      "       2.63118744e-03, 1.08373165e-03, 6.67941570e-03, 1.81317329e-04,\n",
      "       2.23028660e-03, 3.70919704e-03, 1.87873840e-04, 7.90953636e-04,\n",
      "       6.10268116e-03, 7.87973404e-04, 2.53593922e-03, 7.28631020e-03]), 'param_polynomialfeatures__degree': masked_array(data=[0, 0, 0, 0, 0, 0, 0, 0, 0, 0, 0, 0, 1, 1, 1, 1, 1, 1,\n",
      "                   1, 1, 1, 1, 1, 1, 2, 2, 2, 2, 2, 2, 2, 2, 2, 2, 2, 2,\n",
      "                   3, 3, 3, 3, 3, 3, 3, 3, 3, 3, 3, 3],\n",
      "             mask=[False, False, False, False, False, False, False, False,\n",
      "                   False, False, False, False, False, False, False, False,\n",
      "                   False, False, False, False, False, False, False, False,\n",
      "                   False, False, False, False, False, False, False, False,\n",
      "                   False, False, False, False, False, False, False, False,\n",
      "                   False, False, False, False, False, False, False, False],\n",
      "       fill_value='?',\n",
      "            dtype=object), 'param_ridge__alpha': masked_array(data=[0, 0, 0, 5, 5, 5, 10, 10, 10, 20, 20, 20, 0, 0, 0, 5,\n",
      "                   5, 5, 10, 10, 10, 20, 20, 20, 0, 0, 0, 5, 5, 5, 10, 10,\n",
      "                   10, 20, 20, 20, 0, 0, 0, 5, 5, 5, 10, 10, 10, 20, 20,\n",
      "                   20],\n",
      "             mask=[False, False, False, False, False, False, False, False,\n",
      "                   False, False, False, False, False, False, False, False,\n",
      "                   False, False, False, False, False, False, False, False,\n",
      "                   False, False, False, False, False, False, False, False,\n",
      "                   False, False, False, False, False, False, False, False,\n",
      "                   False, False, False, False, False, False, False, False],\n",
      "       fill_value='?',\n",
      "            dtype=object), 'param_ridge__max_iter': masked_array(data=[1000, 1500, 2000, 1000, 1500, 2000, 1000, 1500, 2000,\n",
      "                   1000, 1500, 2000, 1000, 1500, 2000, 1000, 1500, 2000,\n",
      "                   1000, 1500, 2000, 1000, 1500, 2000, 1000, 1500, 2000,\n",
      "                   1000, 1500, 2000, 1000, 1500, 2000, 1000, 1500, 2000,\n",
      "                   1000, 1500, 2000, 1000, 1500, 2000, 1000, 1500, 2000,\n",
      "                   1000, 1500, 2000],\n",
      "             mask=[False, False, False, False, False, False, False, False,\n",
      "                   False, False, False, False, False, False, False, False,\n",
      "                   False, False, False, False, False, False, False, False,\n",
      "                   False, False, False, False, False, False, False, False,\n",
      "                   False, False, False, False, False, False, False, False,\n",
      "                   False, False, False, False, False, False, False, False],\n",
      "       fill_value='?',\n",
      "            dtype=object), 'params': [{'polynomialfeatures__degree': 0, 'ridge__alpha': 0, 'ridge__max_iter': 1000}, {'polynomialfeatures__degree': 0, 'ridge__alpha': 0, 'ridge__max_iter': 1500}, {'polynomialfeatures__degree': 0, 'ridge__alpha': 0, 'ridge__max_iter': 2000}, {'polynomialfeatures__degree': 0, 'ridge__alpha': 5, 'ridge__max_iter': 1000}, {'polynomialfeatures__degree': 0, 'ridge__alpha': 5, 'ridge__max_iter': 1500}, {'polynomialfeatures__degree': 0, 'ridge__alpha': 5, 'ridge__max_iter': 2000}, {'polynomialfeatures__degree': 0, 'ridge__alpha': 10, 'ridge__max_iter': 1000}, {'polynomialfeatures__degree': 0, 'ridge__alpha': 10, 'ridge__max_iter': 1500}, {'polynomialfeatures__degree': 0, 'ridge__alpha': 10, 'ridge__max_iter': 2000}, {'polynomialfeatures__degree': 0, 'ridge__alpha': 20, 'ridge__max_iter': 1000}, {'polynomialfeatures__degree': 0, 'ridge__alpha': 20, 'ridge__max_iter': 1500}, {'polynomialfeatures__degree': 0, 'ridge__alpha': 20, 'ridge__max_iter': 2000}, {'polynomialfeatures__degree': 1, 'ridge__alpha': 0, 'ridge__max_iter': 1000}, {'polynomialfeatures__degree': 1, 'ridge__alpha': 0, 'ridge__max_iter': 1500}, {'polynomialfeatures__degree': 1, 'ridge__alpha': 0, 'ridge__max_iter': 2000}, {'polynomialfeatures__degree': 1, 'ridge__alpha': 5, 'ridge__max_iter': 1000}, {'polynomialfeatures__degree': 1, 'ridge__alpha': 5, 'ridge__max_iter': 1500}, {'polynomialfeatures__degree': 1, 'ridge__alpha': 5, 'ridge__max_iter': 2000}, {'polynomialfeatures__degree': 1, 'ridge__alpha': 10, 'ridge__max_iter': 1000}, {'polynomialfeatures__degree': 1, 'ridge__alpha': 10, 'ridge__max_iter': 1500}, {'polynomialfeatures__degree': 1, 'ridge__alpha': 10, 'ridge__max_iter': 2000}, {'polynomialfeatures__degree': 1, 'ridge__alpha': 20, 'ridge__max_iter': 1000}, {'polynomialfeatures__degree': 1, 'ridge__alpha': 20, 'ridge__max_iter': 1500}, {'polynomialfeatures__degree': 1, 'ridge__alpha': 20, 'ridge__max_iter': 2000}, {'polynomialfeatures__degree': 2, 'ridge__alpha': 0, 'ridge__max_iter': 1000}, {'polynomialfeatures__degree': 2, 'ridge__alpha': 0, 'ridge__max_iter': 1500}, {'polynomialfeatures__degree': 2, 'ridge__alpha': 0, 'ridge__max_iter': 2000}, {'polynomialfeatures__degree': 2, 'ridge__alpha': 5, 'ridge__max_iter': 1000}, {'polynomialfeatures__degree': 2, 'ridge__alpha': 5, 'ridge__max_iter': 1500}, {'polynomialfeatures__degree': 2, 'ridge__alpha': 5, 'ridge__max_iter': 2000}, {'polynomialfeatures__degree': 2, 'ridge__alpha': 10, 'ridge__max_iter': 1000}, {'polynomialfeatures__degree': 2, 'ridge__alpha': 10, 'ridge__max_iter': 1500}, {'polynomialfeatures__degree': 2, 'ridge__alpha': 10, 'ridge__max_iter': 2000}, {'polynomialfeatures__degree': 2, 'ridge__alpha': 20, 'ridge__max_iter': 1000}, {'polynomialfeatures__degree': 2, 'ridge__alpha': 20, 'ridge__max_iter': 1500}, {'polynomialfeatures__degree': 2, 'ridge__alpha': 20, 'ridge__max_iter': 2000}, {'polynomialfeatures__degree': 3, 'ridge__alpha': 0, 'ridge__max_iter': 1000}, {'polynomialfeatures__degree': 3, 'ridge__alpha': 0, 'ridge__max_iter': 1500}, {'polynomialfeatures__degree': 3, 'ridge__alpha': 0, 'ridge__max_iter': 2000}, {'polynomialfeatures__degree': 3, 'ridge__alpha': 5, 'ridge__max_iter': 1000}, {'polynomialfeatures__degree': 3, 'ridge__alpha': 5, 'ridge__max_iter': 1500}, {'polynomialfeatures__degree': 3, 'ridge__alpha': 5, 'ridge__max_iter': 2000}, {'polynomialfeatures__degree': 3, 'ridge__alpha': 10, 'ridge__max_iter': 1000}, {'polynomialfeatures__degree': 3, 'ridge__alpha': 10, 'ridge__max_iter': 1500}, {'polynomialfeatures__degree': 3, 'ridge__alpha': 10, 'ridge__max_iter': 2000}, {'polynomialfeatures__degree': 3, 'ridge__alpha': 20, 'ridge__max_iter': 1000}, {'polynomialfeatures__degree': 3, 'ridge__alpha': 20, 'ridge__max_iter': 1500}, {'polynomialfeatures__degree': 3, 'ridge__alpha': 20, 'ridge__max_iter': 2000}], 'split0_test_score': array([       nan,        nan,        nan,        nan,        nan,\n",
      "              nan,        nan,        nan,        nan,        nan,\n",
      "              nan,        nan, 0.69135314, 0.69135314, 0.69135314,\n",
      "       0.69158284, 0.69158284, 0.69158284, 0.69118476, 0.69118476,\n",
      "       0.69118476, 0.68883081, 0.68883081, 0.68883081, 0.7949336 ,\n",
      "       0.7949336 , 0.7949336 , 0.79694382, 0.79694382, 0.79694382,\n",
      "       0.79689365, 0.79689365, 0.79689365, 0.79604901, 0.79604901,\n",
      "       0.79604901, 0.78070281, 0.78070281, 0.78070281, 0.80059117,\n",
      "       0.80059117, 0.80059117, 0.80183105, 0.80183105, 0.80183105,\n",
      "       0.80220316, 0.80220316, 0.80220316]), 'split1_test_score': array([       nan,        nan,        nan,        nan,        nan,\n",
      "              nan,        nan,        nan,        nan,        nan,\n",
      "              nan,        nan, 0.71782137, 0.71782137, 0.71782137,\n",
      "       0.71702658, 0.71702658, 0.71702658, 0.71553157, 0.71553157,\n",
      "       0.71553157, 0.71085371, 0.71085371, 0.71085371, 0.81257015,\n",
      "       0.81257015, 0.81257015, 0.82075106, 0.82075106, 0.82075106,\n",
      "       0.82034085, 0.82034085, 0.82034085, 0.81873567, 0.81873567,\n",
      "       0.81873567, 0.77634413, 0.77634413, 0.77634413, 0.8236589 ,\n",
      "       0.8236589 , 0.8236589 , 0.82310202, 0.82310202, 0.82310202,\n",
      "       0.82138163, 0.82138163, 0.82138163]), 'mean_test_score': array([       nan,        nan,        nan,        nan,        nan,\n",
      "              nan,        nan,        nan,        nan,        nan,\n",
      "              nan,        nan, 0.70458726, 0.70458726, 0.70458726,\n",
      "       0.70430471, 0.70430471, 0.70430471, 0.70335817, 0.70335817,\n",
      "       0.70335817, 0.69984226, 0.69984226, 0.69984226, 0.80375187,\n",
      "       0.80375187, 0.80375187, 0.80884744, 0.80884744, 0.80884744,\n",
      "       0.80861725, 0.80861725, 0.80861725, 0.80739234, 0.80739234,\n",
      "       0.80739234, 0.77852347, 0.77852347, 0.77852347, 0.81212504,\n",
      "       0.81212504, 0.81212504, 0.81246654, 0.81246654, 0.81246654,\n",
      "       0.81179239, 0.81179239, 0.81179239]), 'std_test_score': array([       nan,        nan,        nan,        nan,        nan,\n",
      "              nan,        nan,        nan,        nan,        nan,\n",
      "              nan,        nan, 0.01323411, 0.01323411, 0.01323411,\n",
      "       0.01272187, 0.01272187, 0.01272187, 0.0121734 , 0.0121734 ,\n",
      "       0.0121734 , 0.01101145, 0.01101145, 0.01101145, 0.00881828,\n",
      "       0.00881828, 0.00881828, 0.01190362, 0.01190362, 0.01190362,\n",
      "       0.0117236 , 0.0117236 , 0.0117236 , 0.01134333, 0.01134333,\n",
      "       0.01134333, 0.00217934, 0.00217934, 0.00217934, 0.01153387,\n",
      "       0.01153387, 0.01153387, 0.01063548, 0.01063548, 0.01063548,\n",
      "       0.00958924, 0.00958924, 0.00958924]), 'rank_test_score': array([48, 47, 46, 45, 44, 43, 42, 41, 40, 39, 38, 37, 25, 25, 25, 28, 28,\n",
      "       28, 31, 31, 31, 34, 34, 34, 19, 19, 19, 10, 10, 10, 13, 13, 13, 16,\n",
      "       16, 16, 22, 22, 22,  4,  4,  4,  1,  1,  1,  7,  7,  7],\n",
      "      dtype=int32), 'split0_train_score': array([       nan,        nan,        nan,        nan,        nan,\n",
      "              nan,        nan,        nan,        nan,        nan,\n",
      "              nan,        nan, 0.71702441, 0.71702441, 0.71702441,\n",
      "       0.71669267, 0.71669267, 0.71669267, 0.71575887, 0.71575887,\n",
      "       0.71575887, 0.71240459, 0.71240459, 0.71240459, 0.82675632,\n",
      "       0.82675632, 0.82675632, 0.83009931, 0.83009931, 0.83009931,\n",
      "       0.82937222, 0.82937222, 0.82937222, 0.82729965, 0.82729965,\n",
      "       0.82729965, 0.84011889, 0.84011889, 0.84011889, 0.85408886,\n",
      "       0.85408886, 0.85408886, 0.85274298, 0.85274298, 0.85274298,\n",
      "       0.84958615, 0.84958615, 0.84958615]), 'split1_train_score': array([       nan,        nan,        nan,        nan,        nan,\n",
      "              nan,        nan,        nan,        nan,        nan,\n",
      "              nan,        nan, 0.69853834, 0.69853834, 0.69853834,\n",
      "       0.69814177, 0.69814177, 0.69814177, 0.6970326 , 0.6970326 ,\n",
      "       0.6970326 , 0.69308968, 0.69308968, 0.69308968, 0.80224048,\n",
      "       0.80224048, 0.80224048, 0.80744113, 0.80744113, 0.80744113,\n",
      "       0.80696687, 0.80696687, 0.80696687, 0.80537866, 0.80537866,\n",
      "       0.80537866, 0.78548192, 0.78548192, 0.78548192, 0.82829008,\n",
      "       0.82829008, 0.82829008, 0.8269961 , 0.8269961 , 0.8269961 ,\n",
      "       0.82427766, 0.82427766, 0.82427766]), 'mean_train_score': array([       nan,        nan,        nan,        nan,        nan,\n",
      "              nan,        nan,        nan,        nan,        nan,\n",
      "              nan,        nan, 0.70778137, 0.70778137, 0.70778137,\n",
      "       0.70741722, 0.70741722, 0.70741722, 0.70639573, 0.70639573,\n",
      "       0.70639573, 0.70274713, 0.70274713, 0.70274713, 0.8144984 ,\n",
      "       0.8144984 , 0.8144984 , 0.81877022, 0.81877022, 0.81877022,\n",
      "       0.81816955, 0.81816955, 0.81816955, 0.81633915, 0.81633915,\n",
      "       0.81633915, 0.8128004 , 0.8128004 , 0.8128004 , 0.84118947,\n",
      "       0.84118947, 0.84118947, 0.83986954, 0.83986954, 0.83986954,\n",
      "       0.8369319 , 0.8369319 , 0.8369319 ]), 'std_train_score': array([       nan,        nan,        nan,        nan,        nan,\n",
      "              nan,        nan,        nan,        nan,        nan,\n",
      "              nan,        nan, 0.00924304, 0.00924304, 0.00924304,\n",
      "       0.00927545, 0.00927545, 0.00927545, 0.00936313, 0.00936313,\n",
      "       0.00936313, 0.00965745, 0.00965745, 0.00965745, 0.01225792,\n",
      "       0.01225792, 0.01225792, 0.01132909, 0.01132909, 0.01132909,\n",
      "       0.01120268, 0.01120268, 0.01120268, 0.01096049, 0.01096049,\n",
      "       0.01096049, 0.02731849, 0.02731849, 0.02731849, 0.01289939,\n",
      "       0.01289939, 0.01289939, 0.01287344, 0.01287344, 0.01287344,\n",
      "       0.01265425, 0.01265425, 0.01265425])}, 'param_grid': {'polynomialfeatures__degree': range(0, 4), 'ridge__alpha': [0, 5, 10, 20], 'ridge__max_iter': [1000, 1500, 2000]}}\n"
     ]
    },
    {
     "data": {
      "text/plain": "<Figure size 432x288 with 1 Axes>",
      "image/png": "[encoded data removed]"
     },
     "metadata": {
      "needs_background": "light"
     },
     "output_type": "display_data"
    },
    {
     "data": {
      "text/plain": "<Figure size 1440x360 with 3 Axes>",
      "image/png": "[encoded data removed]"
     },
     "metadata": {
      "needs_background": "light"
     },
     "output_type": "display_data"
    }
   ],
   "source": [
    "lr_ridge_rfe.to_json(\"dist/result.json\")\n",
    "lr_ridge_rfe.display()"
   ],
   "metadata": {
    "collapsed": false,
    "pycharm": {
     "name": "#%%\n"
    }
   }
  },
  {
   "cell_type": "markdown",
   "source": [
    "# 3- Linear Regression with Lasso Regularization"
   ],
   "metadata": {
    "collapsed": false,
    "pycharm": {
     "name": "#%% md\n"
    }
   }
  },
  {
   "cell_type": "code",
   "execution_count": 8,
   "outputs": [
    {
     "name": "stderr",
     "output_type": "stream",
     "text": [
      "/home/allonios/PycharmProjects/health_insurance_cost_prediction/.venv/lib/python3.10/site-packages/sklearn/pipeline.py:382: UserWarning: With alpha=0, this algorithm does not converge well. You are advised to use the LinearRegression estimator\n",
      "  self._final_estimator.fit(Xt, y, **fit_params_last_step)\n",
      "/home/allonios/PycharmProjects/health_insurance_cost_prediction/.venv/lib/python3.10/site-packages/sklearn/linear_model/_coordinate_descent.py:648: UserWarning: Coordinate descent with no regularization may lead to unexpected results and is discouraged.\n",
      "  model = cd_fast.enet_coordinate_descent(\n",
      "/home/allonios/PycharmProjects/health_insurance_cost_prediction/.venv/lib/python3.10/site-packages/sklearn/pipeline.py:382: UserWarning: With alpha=0, this algorithm does not converge well. You are advised to use the LinearRegression estimator\n",
      "  self._final_estimator.fit(Xt, y, **fit_params_last_step)\n",
      "/home/allonios/PycharmProjects/health_insurance_cost_prediction/.venv/lib/python3.10/site-packages/sklearn/linear_model/_coordinate_descent.py:648: UserWarning: Coordinate descent with no regularization may lead to unexpected results and is discouraged.\n",
      "  model = cd_fast.enet_coordinate_descent(\n",
      "/home/allonios/PycharmProjects/health_insurance_cost_prediction/.venv/lib/python3.10/site-packages/sklearn/pipeline.py:382: UserWarning: With alpha=0, this algorithm does not converge well. You are advised to use the LinearRegression estimator\n",
      "  self._final_estimator.fit(Xt, y, **fit_params_last_step)\n",
      "/home/allonios/PycharmProjects/health_insurance_cost_prediction/.venv/lib/python3.10/site-packages/sklearn/linear_model/_coordinate_descent.py:648: UserWarning: Coordinate descent with no regularization may lead to unexpected results and is discouraged.\n",
      "  model = cd_fast.enet_coordinate_descent(\n",
      "/home/allonios/PycharmProjects/health_insurance_cost_prediction/.venv/lib/python3.10/site-packages/sklearn/pipeline.py:382: UserWarning: With alpha=0, this algorithm does not converge well. You are advised to use the LinearRegression estimator\n",
      "  self._final_estimator.fit(Xt, y, **fit_params_last_step)\n",
      "/home/allonios/PycharmProjects/health_insurance_cost_prediction/.venv/lib/python3.10/site-packages/sklearn/linear_model/_coordinate_descent.py:648: UserWarning: Coordinate descent with no regularization may lead to unexpected results and is discouraged.\n",
      "  model = cd_fast.enet_coordinate_descent(\n",
      "/home/allonios/PycharmProjects/health_insurance_cost_prediction/.venv/lib/python3.10/site-packages/sklearn/pipeline.py:382: UserWarning: With alpha=0, this algorithm does not converge well. You are advised to use the LinearRegression estimator\n",
      "  self._final_estimator.fit(Xt, y, **fit_params_last_step)\n",
      "/home/allonios/PycharmProjects/health_insurance_cost_prediction/.venv/lib/python3.10/site-packages/sklearn/linear_model/_coordinate_descent.py:648: UserWarning: Coordinate descent with no regularization may lead to unexpected results and is discouraged.\n",
      "  model = cd_fast.enet_coordinate_descent(\n",
      "/home/allonios/PycharmProjects/health_insurance_cost_prediction/.venv/lib/python3.10/site-packages/sklearn/linear_model/_coordinate_descent.py:648: ConvergenceWarning: Objective did not converge. You might want to increase the number of iterations, check the scale of the features or consider increasing regularisation. Duality gap: 2.464e+10, tolerance: 1.785e+07 Linear regression models with null weight for the l1 regularization term are more efficiently fitted using one of the solvers implemented in sklearn.linear_model.Ridge/RidgeCV instead.\n",
      "  model = cd_fast.enet_coordinate_descent(\n",
      "/home/allonios/PycharmProjects/health_insurance_cost_prediction/.venv/lib/python3.10/site-packages/sklearn/linear_model/_coordinate_descent.py:648: ConvergenceWarning: Objective did not converge. You might want to increase the number of iterations, check the scale of the features or consider increasing regularisation. Duality gap: 2.526e+10, tolerance: 1.684e+07 Linear regression models with null weight for the l1 regularization term are more efficiently fitted using one of the solvers implemented in sklearn.linear_model.Ridge/RidgeCV instead.\n",
      "  model = cd_fast.enet_coordinate_descent(\n",
      "/home/allonios/PycharmProjects/health_insurance_cost_prediction/.venv/lib/python3.10/site-packages/sklearn/pipeline.py:382: UserWarning: With alpha=0, this algorithm does not converge well. You are advised to use the LinearRegression estimator\n",
      "  self._final_estimator.fit(Xt, y, **fit_params_last_step)\n",
      "/home/allonios/PycharmProjects/health_insurance_cost_prediction/.venv/lib/python3.10/site-packages/sklearn/linear_model/_coordinate_descent.py:648: UserWarning: Coordinate descent with no regularization may lead to unexpected results and is discouraged.\n",
      "  model = cd_fast.enet_coordinate_descent(\n",
      "/home/allonios/PycharmProjects/health_insurance_cost_prediction/.venv/lib/python3.10/site-packages/sklearn/pipeline.py:382: UserWarning: With alpha=0, this algorithm does not converge well. You are advised to use the LinearRegression estimator\n",
      "  self._final_estimator.fit(Xt, y, **fit_params_last_step)\n",
      "/home/allonios/PycharmProjects/health_insurance_cost_prediction/.venv/lib/python3.10/site-packages/sklearn/linear_model/_coordinate_descent.py:648: UserWarning: Coordinate descent with no regularization may lead to unexpected results and is discouraged.\n",
      "  model = cd_fast.enet_coordinate_descent(\n",
      "/home/allonios/PycharmProjects/health_insurance_cost_prediction/.venv/lib/python3.10/site-packages/sklearn/linear_model/_coordinate_descent.py:648: ConvergenceWarning: Objective did not converge. You might want to increase the number of iterations, check the scale of the features or consider increasing regularisation. Duality gap: 1.498e+10, tolerance: 1.785e+07 Linear regression models with null weight for the l1 regularization term are more efficiently fitted using one of the solvers implemented in sklearn.linear_model.Ridge/RidgeCV instead.\n",
      "  model = cd_fast.enet_coordinate_descent(\n",
      "/home/allonios/PycharmProjects/health_insurance_cost_prediction/.venv/lib/python3.10/site-packages/sklearn/pipeline.py:382: UserWarning: With alpha=0, this algorithm does not converge well. You are advised to use the LinearRegression estimator\n",
      "  self._final_estimator.fit(Xt, y, **fit_params_last_step)\n",
      "/home/allonios/PycharmProjects/health_insurance_cost_prediction/.venv/lib/python3.10/site-packages/sklearn/linear_model/_coordinate_descent.py:648: UserWarning: Coordinate descent with no regularization may lead to unexpected results and is discouraged.\n",
      "  model = cd_fast.enet_coordinate_descent(\n",
      "/home/allonios/PycharmProjects/health_insurance_cost_prediction/.venv/lib/python3.10/site-packages/sklearn/pipeline.py:382: UserWarning: With alpha=0, this algorithm does not converge well. You are advised to use the LinearRegression estimator\n",
      "  self._final_estimator.fit(Xt, y, **fit_params_last_step)\n",
      "/home/allonios/PycharmProjects/health_insurance_cost_prediction/.venv/lib/python3.10/site-packages/sklearn/linear_model/_coordinate_descent.py:648: UserWarning: Coordinate descent with no regularization may lead to unexpected results and is discouraged.\n",
      "  model = cd_fast.enet_coordinate_descent(\n",
      "/home/allonios/PycharmProjects/health_insurance_cost_prediction/.venv/lib/python3.10/site-packages/sklearn/pipeline.py:382: UserWarning: With alpha=0, this algorithm does not converge well. You are advised to use the LinearRegression estimator\n",
      "  self._final_estimator.fit(Xt, y, **fit_params_last_step)\n",
      "/home/allonios/PycharmProjects/health_insurance_cost_prediction/.venv/lib/python3.10/site-packages/sklearn/linear_model/_coordinate_descent.py:648: UserWarning: Coordinate descent with no regularization may lead to unexpected results and is discouraged.\n",
      "  model = cd_fast.enet_coordinate_descent(\n",
      "/home/allonios/PycharmProjects/health_insurance_cost_prediction/.venv/lib/python3.10/site-packages/sklearn/linear_model/_coordinate_descent.py:648: ConvergenceWarning: Objective did not converge. You might want to increase the number of iterations, check the scale of the features or consider increasing regularisation. Duality gap: 2.464e+10, tolerance: 1.785e+07 Linear regression models with null weight for the l1 regularization term are more efficiently fitted using one of the solvers implemented in sklearn.linear_model.Ridge/RidgeCV instead.\n",
      "  model = cd_fast.enet_coordinate_descent(\n",
      "/home/allonios/PycharmProjects/health_insurance_cost_prediction/.venv/lib/python3.10/site-packages/sklearn/linear_model/_coordinate_descent.py:648: ConvergenceWarning: Objective did not converge. You might want to increase the number of iterations, check the scale of the features or consider increasing regularisation. Duality gap: 1.605e+10, tolerance: 1.684e+07 Linear regression models with null weight for the l1 regularization term are more efficiently fitted using one of the solvers implemented in sklearn.linear_model.Ridge/RidgeCV instead.\n",
      "  model = cd_fast.enet_coordinate_descent(\n",
      "/home/allonios/PycharmProjects/health_insurance_cost_prediction/.venv/lib/python3.10/site-packages/sklearn/pipeline.py:382: UserWarning: With alpha=0, this algorithm does not converge well. You are advised to use the LinearRegression estimator\n",
      "  self._final_estimator.fit(Xt, y, **fit_params_last_step)\n",
      "/home/allonios/PycharmProjects/health_insurance_cost_prediction/.venv/lib/python3.10/site-packages/sklearn/linear_model/_coordinate_descent.py:648: UserWarning: Coordinate descent with no regularization may lead to unexpected results and is discouraged.\n",
      "  model = cd_fast.enet_coordinate_descent(\n",
      "/home/allonios/PycharmProjects/health_insurance_cost_prediction/.venv/lib/python3.10/site-packages/sklearn/pipeline.py:382: UserWarning: With alpha=0, this algorithm does not converge well. You are advised to use the LinearRegression estimator\n",
      "  self._final_estimator.fit(Xt, y, **fit_params_last_step)\n",
      "/home/allonios/PycharmProjects/health_insurance_cost_prediction/.venv/lib/python3.10/site-packages/sklearn/linear_model/_coordinate_descent.py:648: UserWarning: Coordinate descent with no regularization may lead to unexpected results and is discouraged.\n",
      "  model = cd_fast.enet_coordinate_descent(\n",
      "/home/allonios/PycharmProjects/health_insurance_cost_prediction/.venv/lib/python3.10/site-packages/sklearn/linear_model/_coordinate_descent.py:648: ConvergenceWarning: Objective did not converge. You might want to increase the number of iterations, check the scale of the features or consider increasing regularisation. Duality gap: 2.526e+10, tolerance: 1.684e+07 Linear regression models with null weight for the l1 regularization term are more efficiently fitted using one of the solvers implemented in sklearn.linear_model.Ridge/RidgeCV instead.\n",
      "  model = cd_fast.enet_coordinate_descent(\n",
      "/home/allonios/PycharmProjects/health_insurance_cost_prediction/.venv/lib/python3.10/site-packages/sklearn/pipeline.py:382: UserWarning: With alpha=0, this algorithm does not converge well. You are advised to use the LinearRegression estimator\n",
      "  self._final_estimator.fit(Xt, y, **fit_params_last_step)\n",
      "/home/allonios/PycharmProjects/health_insurance_cost_prediction/.venv/lib/python3.10/site-packages/sklearn/linear_model/_coordinate_descent.py:648: UserWarning: Coordinate descent with no regularization may lead to unexpected results and is discouraged.\n",
      "  model = cd_fast.enet_coordinate_descent(\n",
      "/home/allonios/PycharmProjects/health_insurance_cost_prediction/.venv/lib/python3.10/site-packages/sklearn/linear_model/_coordinate_descent.py:648: ConvergenceWarning: Objective did not converge. You might want to increase the number of iterations, check the scale of the features or consider increasing regularisation. Duality gap: 1.498e+10, tolerance: 1.785e+07 Linear regression models with null weight for the l1 regularization term are more efficiently fitted using one of the solvers implemented in sklearn.linear_model.Ridge/RidgeCV instead.\n",
      "  model = cd_fast.enet_coordinate_descent(\n",
      "/home/allonios/PycharmProjects/health_insurance_cost_prediction/.venv/lib/python3.10/site-packages/sklearn/pipeline.py:382: UserWarning: With alpha=0, this algorithm does not converge well. You are advised to use the LinearRegression estimator\n",
      "  self._final_estimator.fit(Xt, y, **fit_params_last_step)\n",
      "/home/allonios/PycharmProjects/health_insurance_cost_prediction/.venv/lib/python3.10/site-packages/sklearn/linear_model/_coordinate_descent.py:648: UserWarning: Coordinate descent with no regularization may lead to unexpected results and is discouraged.\n",
      "  model = cd_fast.enet_coordinate_descent(\n",
      "/home/allonios/PycharmProjects/health_insurance_cost_prediction/.venv/lib/python3.10/site-packages/sklearn/linear_model/_coordinate_descent.py:648: ConvergenceWarning: Objective did not converge. You might want to increase the number of iterations, check the scale of the features or consider increasing regularisation. Duality gap: 1.605e+10, tolerance: 1.684e+07 Linear regression models with null weight for the l1 regularization term are more efficiently fitted using one of the solvers implemented in sklearn.linear_model.Ridge/RidgeCV instead.\n",
      "  model = cd_fast.enet_coordinate_descent(\n",
      "/home/allonios/PycharmProjects/health_insurance_cost_prediction/.venv/lib/python3.10/site-packages/sklearn/pipeline.py:382: UserWarning: With alpha=0, this algorithm does not converge well. You are advised to use the LinearRegression estimator\n",
      "  self._final_estimator.fit(Xt, y, **fit_params_last_step)\n",
      "/home/allonios/PycharmProjects/health_insurance_cost_prediction/.venv/lib/python3.10/site-packages/sklearn/linear_model/_coordinate_descent.py:648: UserWarning: Coordinate descent with no regularization may lead to unexpected results and is discouraged.\n",
      "  model = cd_fast.enet_coordinate_descent(\n",
      "/home/allonios/PycharmProjects/health_insurance_cost_prediction/.venv/lib/python3.10/site-packages/sklearn/pipeline.py:382: UserWarning: With alpha=0, this algorithm does not converge well. You are advised to use the LinearRegression estimator\n",
      "  self._final_estimator.fit(Xt, y, **fit_params_last_step)\n",
      "/home/allonios/PycharmProjects/health_insurance_cost_prediction/.venv/lib/python3.10/site-packages/sklearn/linear_model/_coordinate_descent.py:648: UserWarning: Coordinate descent with no regularization may lead to unexpected results and is discouraged.\n",
      "  model = cd_fast.enet_coordinate_descent(\n",
      "/home/allonios/PycharmProjects/health_insurance_cost_prediction/.venv/lib/python3.10/site-packages/sklearn/linear_model/_coordinate_descent.py:648: ConvergenceWarning: Objective did not converge. You might want to increase the number of iterations, check the scale of the features or consider increasing regularisation. Duality gap: 1.264e+10, tolerance: 1.785e+07 Linear regression models with null weight for the l1 regularization term are more efficiently fitted using one of the solvers implemented in sklearn.linear_model.Ridge/RidgeCV instead.\n",
      "  model = cd_fast.enet_coordinate_descent(\n",
      "/home/allonios/PycharmProjects/health_insurance_cost_prediction/.venv/lib/python3.10/site-packages/sklearn/pipeline.py:382: UserWarning: With alpha=0, this algorithm does not converge well. You are advised to use the LinearRegression estimator\n",
      "  self._final_estimator.fit(Xt, y, **fit_params_last_step)\n",
      "/home/allonios/PycharmProjects/health_insurance_cost_prediction/.venv/lib/python3.10/site-packages/sklearn/linear_model/_coordinate_descent.py:648: UserWarning: Coordinate descent with no regularization may lead to unexpected results and is discouraged.\n",
      "  model = cd_fast.enet_coordinate_descent(\n",
      "/home/allonios/PycharmProjects/health_insurance_cost_prediction/.venv/lib/python3.10/site-packages/sklearn/pipeline.py:382: UserWarning: With alpha=0, this algorithm does not converge well. You are advised to use the LinearRegression estimator\n",
      "  self._final_estimator.fit(Xt, y, **fit_params_last_step)\n",
      "/home/allonios/PycharmProjects/health_insurance_cost_prediction/.venv/lib/python3.10/site-packages/sklearn/linear_model/_coordinate_descent.py:648: UserWarning: Coordinate descent with no regularization may lead to unexpected results and is discouraged.\n",
      "  model = cd_fast.enet_coordinate_descent(\n",
      "/home/allonios/PycharmProjects/health_insurance_cost_prediction/.venv/lib/python3.10/site-packages/sklearn/linear_model/_coordinate_descent.py:648: ConvergenceWarning: Objective did not converge. You might want to increase the number of iterations, check the scale of the features or consider increasing regularisation. Duality gap: 2.464e+10, tolerance: 1.785e+07 Linear regression models with null weight for the l1 regularization term are more efficiently fitted using one of the solvers implemented in sklearn.linear_model.Ridge/RidgeCV instead.\n",
      "  model = cd_fast.enet_coordinate_descent(\n",
      "/home/allonios/PycharmProjects/health_insurance_cost_prediction/.venv/lib/python3.10/site-packages/sklearn/pipeline.py:382: UserWarning: With alpha=0, this algorithm does not converge well. You are advised to use the LinearRegression estimator\n",
      "  self._final_estimator.fit(Xt, y, **fit_params_last_step)\n",
      "/home/allonios/PycharmProjects/health_insurance_cost_prediction/.venv/lib/python3.10/site-packages/sklearn/linear_model/_coordinate_descent.py:648: UserWarning: Coordinate descent with no regularization may lead to unexpected results and is discouraged.\n",
      "  model = cd_fast.enet_coordinate_descent(\n",
      "/home/allonios/PycharmProjects/health_insurance_cost_prediction/.venv/lib/python3.10/site-packages/sklearn/linear_model/_coordinate_descent.py:648: ConvergenceWarning: Objective did not converge. You might want to increase the number of iterations, check the scale of the features or consider increasing regularisation. Duality gap: 2.526e+10, tolerance: 1.684e+07 Linear regression models with null weight for the l1 regularization term are more efficiently fitted using one of the solvers implemented in sklearn.linear_model.Ridge/RidgeCV instead.\n",
      "  model = cd_fast.enet_coordinate_descent(\n",
      "/home/allonios/PycharmProjects/health_insurance_cost_prediction/.venv/lib/python3.10/site-packages/sklearn/pipeline.py:382: UserWarning: With alpha=0, this algorithm does not converge well. You are advised to use the LinearRegression estimator\n",
      "  self._final_estimator.fit(Xt, y, **fit_params_last_step)\n",
      "/home/allonios/PycharmProjects/health_insurance_cost_prediction/.venv/lib/python3.10/site-packages/sklearn/linear_model/_coordinate_descent.py:648: UserWarning: Coordinate descent with no regularization may lead to unexpected results and is discouraged.\n",
      "  model = cd_fast.enet_coordinate_descent(\n",
      "/home/allonios/PycharmProjects/health_insurance_cost_prediction/.venv/lib/python3.10/site-packages/sklearn/linear_model/_coordinate_descent.py:648: ConvergenceWarning: Objective did not converge. You might want to increase the number of iterations, check the scale of the features or consider increasing regularisation. Duality gap: 1.498e+10, tolerance: 1.785e+07 Linear regression models with null weight for the l1 regularization term are more efficiently fitted using one of the solvers implemented in sklearn.linear_model.Ridge/RidgeCV instead.\n",
      "  model = cd_fast.enet_coordinate_descent(\n",
      "/home/allonios/PycharmProjects/health_insurance_cost_prediction/.venv/lib/python3.10/site-packages/sklearn/linear_model/_coordinate_descent.py:648: ConvergenceWarning: Objective did not converge. You might want to increase the number of iterations, check the scale of the features or consider increasing regularisation. Duality gap: 1.264e+10, tolerance: 1.785e+07 Linear regression models with null weight for the l1 regularization term are more efficiently fitted using one of the solvers implemented in sklearn.linear_model.Ridge/RidgeCV instead.\n",
      "  model = cd_fast.enet_coordinate_descent(\n",
      "/home/allonios/PycharmProjects/health_insurance_cost_prediction/.venv/lib/python3.10/site-packages/sklearn/pipeline.py:382: UserWarning: With alpha=0, this algorithm does not converge well. You are advised to use the LinearRegression estimator\n",
      "  self._final_estimator.fit(Xt, y, **fit_params_last_step)\n",
      "/home/allonios/PycharmProjects/health_insurance_cost_prediction/.venv/lib/python3.10/site-packages/sklearn/linear_model/_coordinate_descent.py:648: UserWarning: Coordinate descent with no regularization may lead to unexpected results and is discouraged.\n",
      "  model = cd_fast.enet_coordinate_descent(\n",
      "/home/allonios/PycharmProjects/health_insurance_cost_prediction/.venv/lib/python3.10/site-packages/sklearn/pipeline.py:382: UserWarning: With alpha=0, this algorithm does not converge well. You are advised to use the LinearRegression estimator\n",
      "  self._final_estimator.fit(Xt, y, **fit_params_last_step)\n",
      "/home/allonios/PycharmProjects/health_insurance_cost_prediction/.venv/lib/python3.10/site-packages/sklearn/linear_model/_coordinate_descent.py:648: UserWarning: Coordinate descent with no regularization may lead to unexpected results and is discouraged.\n",
      "  model = cd_fast.enet_coordinate_descent(\n",
      "/home/allonios/PycharmProjects/health_insurance_cost_prediction/.venv/lib/python3.10/site-packages/sklearn/linear_model/_coordinate_descent.py:648: ConvergenceWarning: Objective did not converge. You might want to increase the number of iterations, check the scale of the features or consider increasing regularisation. Duality gap: 1.406e+10, tolerance: 1.684e+07 Linear regression models with null weight for the l1 regularization term are more efficiently fitted using one of the solvers implemented in sklearn.linear_model.Ridge/RidgeCV instead.\n",
      "  model = cd_fast.enet_coordinate_descent(\n",
      "/home/allonios/PycharmProjects/health_insurance_cost_prediction/.venv/lib/python3.10/site-packages/sklearn/pipeline.py:382: UserWarning: With alpha=0, this algorithm does not converge well. You are advised to use the LinearRegression estimator\n",
      "  self._final_estimator.fit(Xt, y, **fit_params_last_step)\n",
      "/home/allonios/PycharmProjects/health_insurance_cost_prediction/.venv/lib/python3.10/site-packages/sklearn/linear_model/_coordinate_descent.py:648: UserWarning: Coordinate descent with no regularization may lead to unexpected results and is discouraged.\n",
      "  model = cd_fast.enet_coordinate_descent(\n",
      "/home/allonios/PycharmProjects/health_insurance_cost_prediction/.venv/lib/python3.10/site-packages/sklearn/linear_model/_coordinate_descent.py:648: ConvergenceWarning: Objective did not converge. You might want to increase the number of iterations, check the scale of the features or consider increasing regularisation. Duality gap: 1.605e+10, tolerance: 1.684e+07 Linear regression models with null weight for the l1 regularization term are more efficiently fitted using one of the solvers implemented in sklearn.linear_model.Ridge/RidgeCV instead.\n",
      "  model = cd_fast.enet_coordinate_descent(\n",
      "/home/allonios/PycharmProjects/health_insurance_cost_prediction/.venv/lib/python3.10/site-packages/sklearn/linear_model/_coordinate_descent.py:648: ConvergenceWarning: Objective did not converge. You might want to increase the number of iterations, check the scale of the features or consider increasing regularisation. Duality gap: 1.406e+10, tolerance: 1.684e+07 Linear regression models with null weight for the l1 regularization term are more efficiently fitted using one of the solvers implemented in sklearn.linear_model.Ridge/RidgeCV instead.\n",
      "  model = cd_fast.enet_coordinate_descent(\n",
      "/home/allonios/PycharmProjects/health_insurance_cost_prediction/.venv/lib/python3.10/site-packages/sklearn/linear_model/_coordinate_descent.py:648: ConvergenceWarning: Objective did not converge. You might want to increase the number of iterations, check the scale of the features or consider increasing regularisation. Duality gap: 1.264e+10, tolerance: 1.785e+07 Linear regression models with null weight for the l1 regularization term are more efficiently fitted using one of the solvers implemented in sklearn.linear_model.Ridge/RidgeCV instead.\n",
      "  model = cd_fast.enet_coordinate_descent(\n",
      "/home/allonios/PycharmProjects/health_insurance_cost_prediction/.venv/lib/python3.10/site-packages/sklearn/pipeline.py:382: UserWarning: With alpha=0, this algorithm does not converge well. You are advised to use the LinearRegression estimator\n",
      "  self._final_estimator.fit(Xt, y, **fit_params_last_step)\n",
      "/home/allonios/PycharmProjects/health_insurance_cost_prediction/.venv/lib/python3.10/site-packages/sklearn/linear_model/_coordinate_descent.py:648: UserWarning: Coordinate descent with no regularization may lead to unexpected results and is discouraged.\n",
      "  model = cd_fast.enet_coordinate_descent(\n",
      "/home/allonios/PycharmProjects/health_insurance_cost_prediction/.venv/lib/python3.10/site-packages/sklearn/linear_model/_coordinate_descent.py:648: ConvergenceWarning: Objective did not converge. You might want to increase the number of iterations, check the scale of the features or consider increasing regularisation. Duality gap: 1.406e+10, tolerance: 1.684e+07 Linear regression models with null weight for the l1 regularization term are more efficiently fitted using one of the solvers implemented in sklearn.linear_model.Ridge/RidgeCV instead.\n",
      "  model = cd_fast.enet_coordinate_descent(\n"
     ]
    }
   ],
   "source": [
    "lr_lasso = generate_model_summary(\n",
    "    \"lr_lasso\",\n",
    "    Lasso(),\n",
    "    X_train,\n",
    "    X_test,\n",
    "    y_train,\n",
    "    y_test,\n",
    "    polynomial_features={\"degree\": 2},\n",
    "    grid_search={\n",
    "        \"param_grid\": {\n",
    "            \"polynomialfeatures__degree\": range(4),\n",
    "            \"lasso__alpha\": [0, 5, 10, 20],\n",
    "            \"lasso__max_iter\": [1000, 1500, 2000],\n",
    "        },\n",
    "        \"n_jobs\": 3\n",
    "    },\n",
    "    learning_curve={\n",
    "        \"train_sizes\": np.linspace(0.3, 1, 10)\n",
    "    },\n",
    ")"
   ],
   "metadata": {
    "collapsed": false,
    "pycharm": {
     "name": "#%%\n"
    }
   }
  },
  {
   "cell_type": "code",
   "execution_count": 9,
   "outputs": [
    {
     "name": "stdout",
     "output_type": "stream",
     "text": [
      "MSE:\n",
      "{'test': 18105438.200722776, 'train': 18893823.00078074}\n",
      "R2:\n",
      "{'test': 0.8631435021663739, 'train': 0.8319831244690314}\n",
      "Grid Search:\n",
      "{'best_params': {'lasso__alpha': 20, 'lasso__max_iter': 1000, 'polynomialfeatures__degree': 3}, 'cv_results': {'mean_fit_time': array([0.00495422, 0.0265671 , 0.14067614, 0.58001125, 0.00543594,\n",
      "       0.04687893, 0.1744293 , 0.68550825, 0.00785673, 0.09036231,\n",
      "       0.24255157, 0.90972674, 0.00354719, 0.00437474, 0.01114643,\n",
      "       0.11178315, 0.00552201, 0.00782788, 0.02028179, 0.12676084,\n",
      "       0.00761557, 0.01264369, 0.02032423, 0.15416849, 0.00642824,\n",
      "       0.00696623, 0.01583552, 0.0977211 , 0.00622988, 0.00647759,\n",
      "       0.01350176, 0.08442891, 0.00644183, 0.00638342, 0.01377988,\n",
      "       0.08648896, 0.00617814, 0.00651896, 0.01209056, 0.04755938,\n",
      "       0.00631833, 0.00669587, 0.01235175, 0.04612696, 0.00602043,\n",
      "       0.00686729, 0.01176465, 0.05327451]), 'std_fit_time': array([4.20808792e-05, 4.14526463e-03, 3.01121473e-02, 1.15621090e-03,\n",
      "       1.45196915e-04, 6.31153584e-03, 1.34408474e-03, 1.21045113e-01,\n",
      "       3.89814377e-05, 2.66301632e-02, 3.62768173e-02, 5.00124693e-02,\n",
      "       6.29425049e-05, 1.72853470e-04, 1.28853321e-03, 5.52560091e-02,\n",
      "       1.69587135e-03, 1.19328499e-04, 2.79736519e-03, 3.01569700e-02,\n",
      "       3.21865082e-04, 4.82451916e-03, 2.32601166e-03, 3.87314558e-02,\n",
      "       4.49657440e-04, 1.74880028e-04, 1.72948837e-03, 1.36938095e-02,\n",
      "       1.09910965e-04, 2.08377838e-04, 3.40104103e-04, 7.83169270e-03,\n",
      "       2.64644623e-04, 1.66893005e-04, 3.05652618e-04, 1.83973312e-02,\n",
      "       1.36852264e-04, 1.44839287e-04, 1.25253201e-03, 3.68773937e-03,\n",
      "       2.43186951e-05, 3.15308571e-04, 1.26147270e-03, 3.25083733e-04,\n",
      "       3.54051590e-05, 1.79409981e-04, 3.28183174e-04, 6.16312027e-05]), 'mean_score_time': array([0.00212717, 0.0143553 , 0.00432146, 0.00536621, 0.00241983,\n",
      "       0.00333178, 0.00372648, 0.00705254, 0.00358748, 0.0053221 ,\n",
      "       0.00481021, 0.00547206, 0.00165427, 0.0020113 , 0.00269687,\n",
      "       0.00433838, 0.00257206, 0.00357318, 0.00473845, 0.00586295,\n",
      "       0.00340438, 0.00375724, 0.00496042, 0.00607562, 0.00320232,\n",
      "       0.00317824, 0.00409865, 0.00605822, 0.00298285, 0.00292063,\n",
      "       0.00415301, 0.00608838, 0.0030514 , 0.0038594 , 0.00407004,\n",
      "       0.00562048, 0.00291014, 0.0031054 , 0.0041337 , 0.00578749,\n",
      "       0.00296378, 0.0031544 , 0.00424063, 0.00570977, 0.0029943 ,\n",
      "       0.00302958, 0.00407195, 0.00499141]), 'std_score_time': array([3.07559967e-05, 1.06474161e-02, 7.63058662e-04, 1.35052204e-03,\n",
      "       2.51531601e-05, 1.26481056e-04, 6.44445419e-04, 1.56521797e-04,\n",
      "       2.90870667e-05, 1.82306767e-03, 2.59280205e-04, 1.80947781e-03,\n",
      "       8.46385956e-06, 2.38418579e-06, 1.00970268e-04, 3.02433968e-04,\n",
      "       6.69717789e-04, 3.69548798e-05, 5.96046448e-07, 1.71756744e-03,\n",
      "       1.27315521e-04, 1.14202499e-04, 2.53915787e-05, 2.44379044e-04,\n",
      "       3.63588333e-05, 2.20537186e-05, 9.22679901e-05, 1.11341476e-04,\n",
      "       7.24792480e-05, 2.62260437e-05, 2.02894211e-04, 3.52025032e-04,\n",
      "       7.74860382e-06, 9.81450081e-04, 1.44481659e-04, 4.33921814e-05,\n",
      "       1.08003616e-04, 1.49250031e-04, 1.03235245e-04, 1.15275383e-04,\n",
      "       9.56058502e-05, 7.47442245e-05, 1.34706497e-05, 1.78813934e-06,\n",
      "       1.52826309e-04, 7.62939453e-05, 1.43289566e-04, 1.25467777e-03]), 'param_lasso__alpha': masked_array(data=[0, 0, 0, 0, 0, 0, 0, 0, 0, 0, 0, 0, 5, 5, 5, 5, 5, 5,\n",
      "                   5, 5, 5, 5, 5, 5, 10, 10, 10, 10, 10, 10, 10, 10, 10,\n",
      "                   10, 10, 10, 20, 20, 20, 20, 20, 20, 20, 20, 20, 20, 20,\n",
      "                   20],\n",
      "             mask=[False, False, False, False, False, False, False, False,\n",
      "                   False, False, False, False, False, False, False, False,\n",
      "                   False, False, False, False, False, False, False, False,\n",
      "                   False, False, False, False, False, False, False, False,\n",
      "                   False, False, False, False, False, False, False, False,\n",
      "                   False, False, False, False, False, False, False, False],\n",
      "       fill_value='?',\n",
      "            dtype=object), 'param_lasso__max_iter': masked_array(data=[1000, 1000, 1000, 1000, 1500, 1500, 1500, 1500, 2000,\n",
      "                   2000, 2000, 2000, 1000, 1000, 1000, 1000, 1500, 1500,\n",
      "                   1500, 1500, 2000, 2000, 2000, 2000, 1000, 1000, 1000,\n",
      "                   1000, 1500, 1500, 1500, 1500, 2000, 2000, 2000, 2000,\n",
      "                   1000, 1000, 1000, 1000, 1500, 1500, 1500, 1500, 2000,\n",
      "                   2000, 2000, 2000],\n",
      "             mask=[False, False, False, False, False, False, False, False,\n",
      "                   False, False, False, False, False, False, False, False,\n",
      "                   False, False, False, False, False, False, False, False,\n",
      "                   False, False, False, False, False, False, False, False,\n",
      "                   False, False, False, False, False, False, False, False,\n",
      "                   False, False, False, False, False, False, False, False],\n",
      "       fill_value='?',\n",
      "            dtype=object), 'param_polynomialfeatures__degree': masked_array(data=[0, 1, 2, 3, 0, 1, 2, 3, 0, 1, 2, 3, 0, 1, 2, 3, 0, 1,\n",
      "                   2, 3, 0, 1, 2, 3, 0, 1, 2, 3, 0, 1, 2, 3, 0, 1, 2, 3,\n",
      "                   0, 1, 2, 3, 0, 1, 2, 3, 0, 1, 2, 3],\n",
      "             mask=[False, False, False, False, False, False, False, False,\n",
      "                   False, False, False, False, False, False, False, False,\n",
      "                   False, False, False, False, False, False, False, False,\n",
      "                   False, False, False, False, False, False, False, False,\n",
      "                   False, False, False, False, False, False, False, False,\n",
      "                   False, False, False, False, False, False, False, False],\n",
      "       fill_value='?',\n",
      "            dtype=object), 'params': [{'lasso__alpha': 0, 'lasso__max_iter': 1000, 'polynomialfeatures__degree': 0}, {'lasso__alpha': 0, 'lasso__max_iter': 1000, 'polynomialfeatures__degree': 1}, {'lasso__alpha': 0, 'lasso__max_iter': 1000, 'polynomialfeatures__degree': 2}, {'lasso__alpha': 0, 'lasso__max_iter': 1000, 'polynomialfeatures__degree': 3}, {'lasso__alpha': 0, 'lasso__max_iter': 1500, 'polynomialfeatures__degree': 0}, {'lasso__alpha': 0, 'lasso__max_iter': 1500, 'polynomialfeatures__degree': 1}, {'lasso__alpha': 0, 'lasso__max_iter': 1500, 'polynomialfeatures__degree': 2}, {'lasso__alpha': 0, 'lasso__max_iter': 1500, 'polynomialfeatures__degree': 3}, {'lasso__alpha': 0, 'lasso__max_iter': 2000, 'polynomialfeatures__degree': 0}, {'lasso__alpha': 0, 'lasso__max_iter': 2000, 'polynomialfeatures__degree': 1}, {'lasso__alpha': 0, 'lasso__max_iter': 2000, 'polynomialfeatures__degree': 2}, {'lasso__alpha': 0, 'lasso__max_iter': 2000, 'polynomialfeatures__degree': 3}, {'lasso__alpha': 5, 'lasso__max_iter': 1000, 'polynomialfeatures__degree': 0}, {'lasso__alpha': 5, 'lasso__max_iter': 1000, 'polynomialfeatures__degree': 1}, {'lasso__alpha': 5, 'lasso__max_iter': 1000, 'polynomialfeatures__degree': 2}, {'lasso__alpha': 5, 'lasso__max_iter': 1000, 'polynomialfeatures__degree': 3}, {'lasso__alpha': 5, 'lasso__max_iter': 1500, 'polynomialfeatures__degree': 0}, {'lasso__alpha': 5, 'lasso__max_iter': 1500, 'polynomialfeatures__degree': 1}, {'lasso__alpha': 5, 'lasso__max_iter': 1500, 'polynomialfeatures__degree': 2}, {'lasso__alpha': 5, 'lasso__max_iter': 1500, 'polynomialfeatures__degree': 3}, {'lasso__alpha': 5, 'lasso__max_iter': 2000, 'polynomialfeatures__degree': 0}, {'lasso__alpha': 5, 'lasso__max_iter': 2000, 'polynomialfeatures__degree': 1}, {'lasso__alpha': 5, 'lasso__max_iter': 2000, 'polynomialfeatures__degree': 2}, {'lasso__alpha': 5, 'lasso__max_iter': 2000, 'polynomialfeatures__degree': 3}, {'lasso__alpha': 10, 'lasso__max_iter': 1000, 'polynomialfeatures__degree': 0}, {'lasso__alpha': 10, 'lasso__max_iter': 1000, 'polynomialfeatures__degree': 1}, {'lasso__alpha': 10, 'lasso__max_iter': 1000, 'polynomialfeatures__degree': 2}, {'lasso__alpha': 10, 'lasso__max_iter': 1000, 'polynomialfeatures__degree': 3}, {'lasso__alpha': 10, 'lasso__max_iter': 1500, 'polynomialfeatures__degree': 0}, {'lasso__alpha': 10, 'lasso__max_iter': 1500, 'polynomialfeatures__degree': 1}, {'lasso__alpha': 10, 'lasso__max_iter': 1500, 'polynomialfeatures__degree': 2}, {'lasso__alpha': 10, 'lasso__max_iter': 1500, 'polynomialfeatures__degree': 3}, {'lasso__alpha': 10, 'lasso__max_iter': 2000, 'polynomialfeatures__degree': 0}, {'lasso__alpha': 10, 'lasso__max_iter': 2000, 'polynomialfeatures__degree': 1}, {'lasso__alpha': 10, 'lasso__max_iter': 2000, 'polynomialfeatures__degree': 2}, {'lasso__alpha': 10, 'lasso__max_iter': 2000, 'polynomialfeatures__degree': 3}, {'lasso__alpha': 20, 'lasso__max_iter': 1000, 'polynomialfeatures__degree': 0}, {'lasso__alpha': 20, 'lasso__max_iter': 1000, 'polynomialfeatures__degree': 1}, {'lasso__alpha': 20, 'lasso__max_iter': 1000, 'polynomialfeatures__degree': 2}, {'lasso__alpha': 20, 'lasso__max_iter': 1000, 'polynomialfeatures__degree': 3}, {'lasso__alpha': 20, 'lasso__max_iter': 1500, 'polynomialfeatures__degree': 0}, {'lasso__alpha': 20, 'lasso__max_iter': 1500, 'polynomialfeatures__degree': 1}, {'lasso__alpha': 20, 'lasso__max_iter': 1500, 'polynomialfeatures__degree': 2}, {'lasso__alpha': 20, 'lasso__max_iter': 1500, 'polynomialfeatures__degree': 3}, {'lasso__alpha': 20, 'lasso__max_iter': 2000, 'polynomialfeatures__degree': 0}, {'lasso__alpha': 20, 'lasso__max_iter': 2000, 'polynomialfeatures__degree': 1}, {'lasso__alpha': 20, 'lasso__max_iter': 2000, 'polynomialfeatures__degree': 2}, {'lasso__alpha': 20, 'lasso__max_iter': 2000, 'polynomialfeatures__degree': 3}], 'split0_test_score': array([-3.13591198e-04,  6.97141634e-01,  7.98686979e-01,  7.97204612e-01,\n",
      "       -3.13591198e-04,  6.97141634e-01,  7.98686979e-01,  7.97204612e-01,\n",
      "       -3.13591198e-04,  6.97141634e-01,  7.98686979e-01,  7.97204612e-01,\n",
      "       -3.13591198e-04,  6.97219340e-01,  7.99046686e-01,  8.01255197e-01,\n",
      "       -3.13591198e-04,  6.97219340e-01,  7.99046686e-01,  8.01255197e-01,\n",
      "       -3.13591198e-04,  6.97219340e-01,  7.99046686e-01,  8.01255197e-01,\n",
      "       -3.13591198e-04,  6.97278717e-01,  7.99129381e-01,  8.03447590e-01,\n",
      "       -3.13591198e-04,  6.97278717e-01,  7.99129381e-01,  8.03447590e-01,\n",
      "       -3.13591198e-04,  6.97278717e-01,  7.99129381e-01,  8.03447590e-01,\n",
      "       -3.13591198e-04,  6.97367014e-01,  7.99071401e-01,  8.04529195e-01,\n",
      "       -3.13591198e-04,  6.97367014e-01,  7.99071401e-01,  8.04529195e-01,\n",
      "       -3.13591198e-04,  6.97367014e-01,  7.99071401e-01,  8.04529195e-01]), 'split1_test_score': array([-2.95725790e-04,  7.21259373e-01,  8.21733558e-01,  8.23065333e-01,\n",
      "       -2.95725790e-04,  7.21259373e-01,  8.21733558e-01,  8.23065333e-01,\n",
      "       -2.95725790e-04,  7.21259373e-01,  8.21733558e-01,  8.23065333e-01,\n",
      "       -2.95725790e-04,  7.21187456e-01,  8.22151580e-01,  8.26557688e-01,\n",
      "       -2.95725790e-04,  7.21187456e-01,  8.22151580e-01,  8.26557688e-01,\n",
      "       -2.95725790e-04,  7.21187456e-01,  8.22151580e-01,  8.26557688e-01,\n",
      "       -2.95725790e-04,  7.21110904e-01,  8.22551929e-01,  8.27734572e-01,\n",
      "       -2.95725790e-04,  7.21110904e-01,  8.22551929e-01,  8.27734572e-01,\n",
      "       -2.95725790e-04,  7.21110904e-01,  8.22551929e-01,  8.27734572e-01,\n",
      "       -2.95725790e-04,  7.20944725e-01,  8.23172755e-01,  8.27756254e-01,\n",
      "       -2.95725790e-04,  7.20944725e-01,  8.23172755e-01,  8.27756254e-01,\n",
      "       -2.95725790e-04,  7.20944725e-01,  8.23172755e-01,  8.27756254e-01]), 'mean_test_score': array([-3.04658494e-04,  7.09200504e-01,  8.10210269e-01,  8.10134973e-01,\n",
      "       -3.04658494e-04,  7.09200504e-01,  8.10210269e-01,  8.10134973e-01,\n",
      "       -3.04658494e-04,  7.09200504e-01,  8.10210269e-01,  8.10134973e-01,\n",
      "       -3.04658494e-04,  7.09203398e-01,  8.10599133e-01,  8.13906442e-01,\n",
      "       -3.04658494e-04,  7.09203398e-01,  8.10599133e-01,  8.13906442e-01,\n",
      "       -3.04658494e-04,  7.09203398e-01,  8.10599133e-01,  8.13906442e-01,\n",
      "       -3.04658494e-04,  7.09194811e-01,  8.10840655e-01,  8.15591081e-01,\n",
      "       -3.04658494e-04,  7.09194811e-01,  8.10840655e-01,  8.15591081e-01,\n",
      "       -3.04658494e-04,  7.09194811e-01,  8.10840655e-01,  8.15591081e-01,\n",
      "       -3.04658494e-04,  7.09155869e-01,  8.11122078e-01,  8.16142724e-01,\n",
      "       -3.04658494e-04,  7.09155869e-01,  8.11122078e-01,  8.16142724e-01,\n",
      "       -3.04658494e-04,  7.09155869e-01,  8.11122078e-01,  8.16142724e-01]), 'std_test_score': array([8.93270386e-06, 1.20588691e-02, 1.15232896e-02, 1.29303602e-02,\n",
      "       8.93270386e-06, 1.20588691e-02, 1.15232896e-02, 1.29303602e-02,\n",
      "       8.93270386e-06, 1.20588691e-02, 1.15232896e-02, 1.29303602e-02,\n",
      "       8.93270386e-06, 1.19840577e-02, 1.15524472e-02, 1.26512454e-02,\n",
      "       8.93270386e-06, 1.19840577e-02, 1.15524472e-02, 1.26512454e-02,\n",
      "       8.93270386e-06, 1.19840577e-02, 1.15524472e-02, 1.26512454e-02,\n",
      "       8.93270386e-06, 1.19160935e-02, 1.17112741e-02, 1.21434910e-02,\n",
      "       8.93270386e-06, 1.19160935e-02, 1.17112741e-02, 1.21434910e-02,\n",
      "       8.93270386e-06, 1.19160935e-02, 1.17112741e-02, 1.21434910e-02,\n",
      "       8.93270386e-06, 1.17888552e-02, 1.20506774e-02, 1.16135295e-02,\n",
      "       8.93270386e-06, 1.17888552e-02, 1.20506774e-02, 1.16135295e-02,\n",
      "       8.93270386e-06, 1.17888552e-02, 1.20506774e-02, 1.16135295e-02]), 'rank_test_score': array([37, 28, 19, 23, 37, 28, 21, 22, 37, 28, 19, 23, 37, 25, 16,  7, 37,\n",
      "       25, 16,  7, 37, 25, 16,  7, 37, 31, 13,  4, 37, 31, 13,  4, 37, 31,\n",
      "       13,  4, 37, 34, 10,  1, 37, 34, 10,  1, 37, 34, 10,  1],\n",
      "      dtype=int32), 'split0_train_score': array([0.        , 0.72392096, 0.83214548, 0.85831662, 0.        ,\n",
      "       0.72392096, 0.83214548, 0.85831662, 0.        , 0.72392096,\n",
      "       0.83214548, 0.85831662, 0.        , 0.72391519, 0.83206226,\n",
      "       0.85757839, 0.        , 0.72391519, 0.83206226, 0.85757839,\n",
      "       0.        , 0.72391519, 0.83206226, 0.85757839, 0.        ,\n",
      "       0.72389732, 0.83184406, 0.85583368, 0.        , 0.72389732,\n",
      "       0.83184406, 0.85583368, 0.        , 0.72389732, 0.83184406,\n",
      "       0.85583368, 0.        , 0.72382644, 0.83118823, 0.85120443,\n",
      "       0.        , 0.72382644, 0.83118823, 0.85120443, 0.        ,\n",
      "       0.72382644, 0.83118823, 0.85120443]), 'split1_train_score': array([0.        , 0.69997256, 0.80942145, 0.83303476, 0.        ,\n",
      "       0.69997256, 0.80942145, 0.83303476, 0.        , 0.69997256,\n",
      "       0.80942145, 0.83303476, 0.        , 0.69996623, 0.809348  ,\n",
      "       0.83208906, 0.        , 0.69996623, 0.809348  , 0.83208906,\n",
      "       0.        , 0.69996623, 0.809348  , 0.83208906, 0.        ,\n",
      "       0.69994849, 0.80914242, 0.82966518, 0.        , 0.69994849,\n",
      "       0.80914242, 0.82966518, 0.        , 0.69994849, 0.80914242,\n",
      "       0.82966518, 0.        , 0.69988639, 0.80839054, 0.82580999,\n",
      "       0.        , 0.69988639, 0.80839054, 0.82580999, 0.        ,\n",
      "       0.69988639, 0.80839054, 0.82580999]), 'mean_train_score': array([0.        , 0.71194676, 0.82078347, 0.84567569, 0.        ,\n",
      "       0.71194676, 0.82078347, 0.84567569, 0.        , 0.71194676,\n",
      "       0.82078347, 0.84567569, 0.        , 0.71194071, 0.82070513,\n",
      "       0.84483373, 0.        , 0.71194071, 0.82070513, 0.84483373,\n",
      "       0.        , 0.71194071, 0.82070513, 0.84483373, 0.        ,\n",
      "       0.7119229 , 0.82049324, 0.84274943, 0.        , 0.7119229 ,\n",
      "       0.82049324, 0.84274943, 0.        , 0.7119229 , 0.82049324,\n",
      "       0.84274943, 0.        , 0.71185642, 0.81978938, 0.83850721,\n",
      "       0.        , 0.71185642, 0.81978938, 0.83850721, 0.        ,\n",
      "       0.71185642, 0.81978938, 0.83850721]), 'std_train_score': array([0.        , 0.0119742 , 0.01136201, 0.01264093, 0.        ,\n",
      "       0.0119742 , 0.01136201, 0.01264093, 0.        , 0.0119742 ,\n",
      "       0.01136201, 0.01264093, 0.        , 0.01197448, 0.01135713,\n",
      "       0.01274466, 0.        , 0.01197448, 0.01135713, 0.01274466,\n",
      "       0.        , 0.01197448, 0.01135713, 0.01274466, 0.        ,\n",
      "       0.01197442, 0.01135082, 0.01308425, 0.        , 0.01197442,\n",
      "       0.01135082, 0.01308425, 0.        , 0.01197442, 0.01135082,\n",
      "       0.01308425, 0.        , 0.01197003, 0.01139885, 0.01269722,\n",
      "       0.        , 0.01197003, 0.01139885, 0.01269722, 0.        ,\n",
      "       0.01197003, 0.01139885, 0.01269722])}, 'param_grid': {'polynomialfeatures__degree': range(0, 4), 'lasso__alpha': [0, 5, 10, 20], 'lasso__max_iter': [1000, 1500, 2000]}}\n"
     ]
    },
    {
     "data": {
      "text/plain": "<Figure size 432x288 with 1 Axes>",
      "image/png": "[encoded data removed]"
     },
     "metadata": {
      "needs_background": "light"
     },
     "output_type": "display_data"
    },
    {
     "data": {
      "text/plain": "<Figure size 1440x360 with 3 Axes>",
      "image/png": "[encoded data removed]"
     },
     "metadata": {
      "needs_background": "light"
     },
     "output_type": "display_data"
    }
   ],
   "source": [
    "lr_lasso.to_json(\"dist/result.json\")\n",
    "lr_lasso.display()"
   ],
   "metadata": {
    "collapsed": false,
    "pycharm": {
     "name": "#%%\n"
    }
   }
  },
  {
   "cell_type": "markdown",
   "source": [
    "# 4- Linear Regression with Lasso Regularization and RFE"
   ],
   "metadata": {
    "collapsed": false,
    "pycharm": {
     "name": "#%% md\n"
    }
   }
  },
  {
   "cell_type": "code",
   "execution_count": 10,
   "outputs": [
    {
     "name": "stderr",
     "output_type": "stream",
     "text": [
      "/home/allonios/PycharmProjects/health_insurance_cost_prediction/.venv/lib/python3.10/site-packages/sklearn/pipeline.py:382: UserWarning: With alpha=0, this algorithm does not converge well. You are advised to use the LinearRegression estimator\n",
      "  self._final_estimator.fit(Xt, y, **fit_params_last_step)\n",
      "/home/allonios/PycharmProjects/health_insurance_cost_prediction/.venv/lib/python3.10/site-packages/sklearn/linear_model/_coordinate_descent.py:648: UserWarning: Coordinate descent with no regularization may lead to unexpected results and is discouraged.\n",
      "  model = cd_fast.enet_coordinate_descent(\n",
      "/home/allonios/PycharmProjects/health_insurance_cost_prediction/.venv/lib/python3.10/site-packages/sklearn/linear_model/_coordinate_descent.py:648: ConvergenceWarning: Objective did not converge. You might want to increase the number of iterations, check the scale of the features or consider increasing regularisation. Duality gap: 2.525e+10, tolerance: 1.785e+07 Linear regression models with null weight for the l1 regularization term are more efficiently fitted using one of the solvers implemented in sklearn.linear_model.Ridge/RidgeCV instead.\n",
      "  model = cd_fast.enet_coordinate_descent(\n",
      "/home/allonios/PycharmProjects/health_insurance_cost_prediction/.venv/lib/python3.10/site-packages/sklearn/pipeline.py:382: UserWarning: With alpha=0, this algorithm does not converge well. You are advised to use the LinearRegression estimator\n",
      "  self._final_estimator.fit(Xt, y, **fit_params_last_step)\n",
      "/home/allonios/PycharmProjects/health_insurance_cost_prediction/.venv/lib/python3.10/site-packages/sklearn/linear_model/_coordinate_descent.py:648: UserWarning: Coordinate descent with no regularization may lead to unexpected results and is discouraged.\n",
      "  model = cd_fast.enet_coordinate_descent(\n",
      "/home/allonios/PycharmProjects/health_insurance_cost_prediction/.venv/lib/python3.10/site-packages/sklearn/linear_model/_coordinate_descent.py:648: ConvergenceWarning: Objective did not converge. You might want to increase the number of iterations, check the scale of the features or consider increasing regularisation. Duality gap: 2.539e+10, tolerance: 1.684e+07 Linear regression models with null weight for the l1 regularization term are more efficiently fitted using one of the solvers implemented in sklearn.linear_model.Ridge/RidgeCV instead.\n",
      "  model = cd_fast.enet_coordinate_descent(\n",
      "/home/allonios/PycharmProjects/health_insurance_cost_prediction/.venv/lib/python3.10/site-packages/sklearn/pipeline.py:382: UserWarning: With alpha=0, this algorithm does not converge well. You are advised to use the LinearRegression estimator\n",
      "  self._final_estimator.fit(Xt, y, **fit_params_last_step)\n",
      "/home/allonios/PycharmProjects/health_insurance_cost_prediction/.venv/lib/python3.10/site-packages/sklearn/linear_model/_coordinate_descent.py:648: UserWarning: Coordinate descent with no regularization may lead to unexpected results and is discouraged.\n",
      "  model = cd_fast.enet_coordinate_descent(\n",
      "/home/allonios/PycharmProjects/health_insurance_cost_prediction/.venv/lib/python3.10/site-packages/sklearn/pipeline.py:382: UserWarning: With alpha=0, this algorithm does not converge well. You are advised to use the LinearRegression estimator\n",
      "  self._final_estimator.fit(Xt, y, **fit_params_last_step)\n",
      "/home/allonios/PycharmProjects/health_insurance_cost_prediction/.venv/lib/python3.10/site-packages/sklearn/linear_model/_coordinate_descent.py:648: UserWarning: Coordinate descent with no regularization may lead to unexpected results and is discouraged.\n",
      "  model = cd_fast.enet_coordinate_descent(\n",
      "/home/allonios/PycharmProjects/health_insurance_cost_prediction/.venv/lib/python3.10/site-packages/sklearn/linear_model/_coordinate_descent.py:648: ConvergenceWarning: Objective did not converge. You might want to increase the number of iterations, check the scale of the features or consider increasing regularisation. Duality gap: 1.513e+10, tolerance: 1.785e+07 Linear regression models with null weight for the l1 regularization term are more efficiently fitted using one of the solvers implemented in sklearn.linear_model.Ridge/RidgeCV instead.\n",
      "  model = cd_fast.enet_coordinate_descent(\n",
      "/home/allonios/PycharmProjects/health_insurance_cost_prediction/.venv/lib/python3.10/site-packages/sklearn/pipeline.py:382: UserWarning: With alpha=0, this algorithm does not converge well. You are advised to use the LinearRegression estimator\n",
      "  self._final_estimator.fit(Xt, y, **fit_params_last_step)\n",
      "/home/allonios/PycharmProjects/health_insurance_cost_prediction/.venv/lib/python3.10/site-packages/sklearn/linear_model/_coordinate_descent.py:648: UserWarning: Coordinate descent with no regularization may lead to unexpected results and is discouraged.\n",
      "  model = cd_fast.enet_coordinate_descent(\n",
      "/home/allonios/PycharmProjects/health_insurance_cost_prediction/.venv/lib/python3.10/site-packages/sklearn/linear_model/_coordinate_descent.py:648: ConvergenceWarning: Objective did not converge. You might want to increase the number of iterations, check the scale of the features or consider increasing regularisation. Duality gap: 2.525e+10, tolerance: 1.785e+07 Linear regression models with null weight for the l1 regularization term are more efficiently fitted using one of the solvers implemented in sklearn.linear_model.Ridge/RidgeCV instead.\n",
      "  model = cd_fast.enet_coordinate_descent(\n",
      "/home/allonios/PycharmProjects/health_insurance_cost_prediction/.venv/lib/python3.10/site-packages/sklearn/linear_model/_coordinate_descent.py:648: ConvergenceWarning: Objective did not converge. You might want to increase the number of iterations, check the scale of the features or consider increasing regularisation. Duality gap: 1.620e+10, tolerance: 1.684e+07 Linear regression models with null weight for the l1 regularization term are more efficiently fitted using one of the solvers implemented in sklearn.linear_model.Ridge/RidgeCV instead.\n",
      "  model = cd_fast.enet_coordinate_descent(\n",
      "/home/allonios/PycharmProjects/health_insurance_cost_prediction/.venv/lib/python3.10/site-packages/sklearn/pipeline.py:382: UserWarning: With alpha=0, this algorithm does not converge well. You are advised to use the LinearRegression estimator\n",
      "  self._final_estimator.fit(Xt, y, **fit_params_last_step)\n",
      "/home/allonios/PycharmProjects/health_insurance_cost_prediction/.venv/lib/python3.10/site-packages/sklearn/linear_model/_coordinate_descent.py:648: UserWarning: Coordinate descent with no regularization may lead to unexpected results and is discouraged.\n",
      "  model = cd_fast.enet_coordinate_descent(\n",
      "/home/allonios/PycharmProjects/health_insurance_cost_prediction/.venv/lib/python3.10/site-packages/sklearn/linear_model/_coordinate_descent.py:648: ConvergenceWarning: Objective did not converge. You might want to increase the number of iterations, check the scale of the features or consider increasing regularisation. Duality gap: 2.539e+10, tolerance: 1.684e+07 Linear regression models with null weight for the l1 regularization term are more efficiently fitted using one of the solvers implemented in sklearn.linear_model.Ridge/RidgeCV instead.\n",
      "  model = cd_fast.enet_coordinate_descent(\n",
      "/home/allonios/PycharmProjects/health_insurance_cost_prediction/.venv/lib/python3.10/site-packages/sklearn/pipeline.py:382: UserWarning: With alpha=0, this algorithm does not converge well. You are advised to use the LinearRegression estimator\n",
      "  self._final_estimator.fit(Xt, y, **fit_params_last_step)\n",
      "/home/allonios/PycharmProjects/health_insurance_cost_prediction/.venv/lib/python3.10/site-packages/sklearn/linear_model/_coordinate_descent.py:648: UserWarning: Coordinate descent with no regularization may lead to unexpected results and is discouraged.\n",
      "  model = cd_fast.enet_coordinate_descent(\n",
      "/home/allonios/PycharmProjects/health_insurance_cost_prediction/.venv/lib/python3.10/site-packages/sklearn/linear_model/_coordinate_descent.py:648: ConvergenceWarning: Objective did not converge. You might want to increase the number of iterations, check the scale of the features or consider increasing regularisation. Duality gap: 1.513e+10, tolerance: 1.785e+07 Linear regression models with null weight for the l1 regularization term are more efficiently fitted using one of the solvers implemented in sklearn.linear_model.Ridge/RidgeCV instead.\n",
      "  model = cd_fast.enet_coordinate_descent(\n",
      "/home/allonios/PycharmProjects/health_insurance_cost_prediction/.venv/lib/python3.10/site-packages/sklearn/pipeline.py:382: UserWarning: With alpha=0, this algorithm does not converge well. You are advised to use the LinearRegression estimator\n",
      "  self._final_estimator.fit(Xt, y, **fit_params_last_step)\n",
      "/home/allonios/PycharmProjects/health_insurance_cost_prediction/.venv/lib/python3.10/site-packages/sklearn/linear_model/_coordinate_descent.py:648: UserWarning: Coordinate descent with no regularization may lead to unexpected results and is discouraged.\n",
      "  model = cd_fast.enet_coordinate_descent(\n",
      "/home/allonios/PycharmProjects/health_insurance_cost_prediction/.venv/lib/python3.10/site-packages/sklearn/linear_model/_coordinate_descent.py:648: ConvergenceWarning: Objective did not converge. You might want to increase the number of iterations, check the scale of the features or consider increasing regularisation. Duality gap: 1.620e+10, tolerance: 1.684e+07 Linear regression models with null weight for the l1 regularization term are more efficiently fitted using one of the solvers implemented in sklearn.linear_model.Ridge/RidgeCV instead.\n",
      "  model = cd_fast.enet_coordinate_descent(\n",
      "/home/allonios/PycharmProjects/health_insurance_cost_prediction/.venv/lib/python3.10/site-packages/sklearn/pipeline.py:382: UserWarning: With alpha=0, this algorithm does not converge well. You are advised to use the LinearRegression estimator\n",
      "  self._final_estimator.fit(Xt, y, **fit_params_last_step)\n",
      "/home/allonios/PycharmProjects/health_insurance_cost_prediction/.venv/lib/python3.10/site-packages/sklearn/linear_model/_coordinate_descent.py:648: UserWarning: Coordinate descent with no regularization may lead to unexpected results and is discouraged.\n",
      "  model = cd_fast.enet_coordinate_descent(\n",
      "/home/allonios/PycharmProjects/health_insurance_cost_prediction/.venv/lib/python3.10/site-packages/sklearn/linear_model/_coordinate_descent.py:648: ConvergenceWarning: Objective did not converge. You might want to increase the number of iterations, check the scale of the features or consider increasing regularisation. Duality gap: 2.525e+10, tolerance: 1.785e+07 Linear regression models with null weight for the l1 regularization term are more efficiently fitted using one of the solvers implemented in sklearn.linear_model.Ridge/RidgeCV instead.\n",
      "  model = cd_fast.enet_coordinate_descent(\n",
      "/home/allonios/PycharmProjects/health_insurance_cost_prediction/.venv/lib/python3.10/site-packages/sklearn/pipeline.py:382: UserWarning: With alpha=0, this algorithm does not converge well. You are advised to use the LinearRegression estimator\n",
      "  self._final_estimator.fit(Xt, y, **fit_params_last_step)\n",
      "/home/allonios/PycharmProjects/health_insurance_cost_prediction/.venv/lib/python3.10/site-packages/sklearn/linear_model/_coordinate_descent.py:648: UserWarning: Coordinate descent with no regularization may lead to unexpected results and is discouraged.\n",
      "  model = cd_fast.enet_coordinate_descent(\n",
      "/home/allonios/PycharmProjects/health_insurance_cost_prediction/.venv/lib/python3.10/site-packages/sklearn/linear_model/_coordinate_descent.py:648: ConvergenceWarning: Objective did not converge. You might want to increase the number of iterations, check the scale of the features or consider increasing regularisation. Duality gap: 2.539e+10, tolerance: 1.684e+07 Linear regression models with null weight for the l1 regularization term are more efficiently fitted using one of the solvers implemented in sklearn.linear_model.Ridge/RidgeCV instead.\n",
      "  model = cd_fast.enet_coordinate_descent(\n",
      "/home/allonios/PycharmProjects/health_insurance_cost_prediction/.venv/lib/python3.10/site-packages/sklearn/pipeline.py:382: UserWarning: With alpha=0, this algorithm does not converge well. You are advised to use the LinearRegression estimator\n",
      "  self._final_estimator.fit(Xt, y, **fit_params_last_step)\n",
      "/home/allonios/PycharmProjects/health_insurance_cost_prediction/.venv/lib/python3.10/site-packages/sklearn/linear_model/_coordinate_descent.py:648: UserWarning: Coordinate descent with no regularization may lead to unexpected results and is discouraged.\n",
      "  model = cd_fast.enet_coordinate_descent(\n",
      "/home/allonios/PycharmProjects/health_insurance_cost_prediction/.venv/lib/python3.10/site-packages/sklearn/linear_model/_coordinate_descent.py:648: ConvergenceWarning: Objective did not converge. You might want to increase the number of iterations, check the scale of the features or consider increasing regularisation. Duality gap: 1.513e+10, tolerance: 1.785e+07 Linear regression models with null weight for the l1 regularization term are more efficiently fitted using one of the solvers implemented in sklearn.linear_model.Ridge/RidgeCV instead.\n",
      "  model = cd_fast.enet_coordinate_descent(\n",
      "/home/allonios/PycharmProjects/health_insurance_cost_prediction/.venv/lib/python3.10/site-packages/sklearn/pipeline.py:382: UserWarning: With alpha=0, this algorithm does not converge well. You are advised to use the LinearRegression estimator\n",
      "  self._final_estimator.fit(Xt, y, **fit_params_last_step)\n",
      "/home/allonios/PycharmProjects/health_insurance_cost_prediction/.venv/lib/python3.10/site-packages/sklearn/linear_model/_coordinate_descent.py:648: UserWarning: Coordinate descent with no regularization may lead to unexpected results and is discouraged.\n",
      "  model = cd_fast.enet_coordinate_descent(\n",
      "/home/allonios/PycharmProjects/health_insurance_cost_prediction/.venv/lib/python3.10/site-packages/sklearn/linear_model/_coordinate_descent.py:648: ConvergenceWarning: Objective did not converge. You might want to increase the number of iterations, check the scale of the features or consider increasing regularisation. Duality gap: 1.620e+10, tolerance: 1.684e+07 Linear regression models with null weight for the l1 regularization term are more efficiently fitted using one of the solvers implemented in sklearn.linear_model.Ridge/RidgeCV instead.\n",
      "  model = cd_fast.enet_coordinate_descent(\n",
      "/home/allonios/PycharmProjects/health_insurance_cost_prediction/.venv/lib/python3.10/site-packages/sklearn/pipeline.py:382: UserWarning: With alpha=0, this algorithm does not converge well. You are advised to use the LinearRegression estimator\n",
      "  self._final_estimator.fit(Xt, y, **fit_params_last_step)\n",
      "/home/allonios/PycharmProjects/health_insurance_cost_prediction/.venv/lib/python3.10/site-packages/sklearn/linear_model/_coordinate_descent.py:648: UserWarning: Coordinate descent with no regularization may lead to unexpected results and is discouraged.\n",
      "  model = cd_fast.enet_coordinate_descent(\n",
      "/home/allonios/PycharmProjects/health_insurance_cost_prediction/.venv/lib/python3.10/site-packages/sklearn/linear_model/_coordinate_descent.py:648: ConvergenceWarning: Objective did not converge. You might want to increase the number of iterations, check the scale of the features or consider increasing regularisation. Duality gap: 1.296e+10, tolerance: 1.785e+07 Linear regression models with null weight for the l1 regularization term are more efficiently fitted using one of the solvers implemented in sklearn.linear_model.Ridge/RidgeCV instead.\n",
      "  model = cd_fast.enet_coordinate_descent(\n",
      "/home/allonios/PycharmProjects/health_insurance_cost_prediction/.venv/lib/python3.10/site-packages/sklearn/pipeline.py:382: UserWarning: With alpha=0, this algorithm does not converge well. You are advised to use the LinearRegression estimator\n",
      "  self._final_estimator.fit(Xt, y, **fit_params_last_step)\n",
      "/home/allonios/PycharmProjects/health_insurance_cost_prediction/.venv/lib/python3.10/site-packages/sklearn/linear_model/_coordinate_descent.py:648: UserWarning: Coordinate descent with no regularization may lead to unexpected results and is discouraged.\n",
      "  model = cd_fast.enet_coordinate_descent(\n",
      "/home/allonios/PycharmProjects/health_insurance_cost_prediction/.venv/lib/python3.10/site-packages/sklearn/linear_model/_coordinate_descent.py:648: ConvergenceWarning: Objective did not converge. You might want to increase the number of iterations, check the scale of the features or consider increasing regularisation. Duality gap: 1.296e+10, tolerance: 1.785e+07 Linear regression models with null weight for the l1 regularization term are more efficiently fitted using one of the solvers implemented in sklearn.linear_model.Ridge/RidgeCV instead.\n",
      "  model = cd_fast.enet_coordinate_descent(\n",
      "/home/allonios/PycharmProjects/health_insurance_cost_prediction/.venv/lib/python3.10/site-packages/sklearn/pipeline.py:382: UserWarning: With alpha=0, this algorithm does not converge well. You are advised to use the LinearRegression estimator\n",
      "  self._final_estimator.fit(Xt, y, **fit_params_last_step)\n",
      "/home/allonios/PycharmProjects/health_insurance_cost_prediction/.venv/lib/python3.10/site-packages/sklearn/linear_model/_coordinate_descent.py:648: UserWarning: Coordinate descent with no regularization may lead to unexpected results and is discouraged.\n",
      "  model = cd_fast.enet_coordinate_descent(\n",
      "/home/allonios/PycharmProjects/health_insurance_cost_prediction/.venv/lib/python3.10/site-packages/sklearn/pipeline.py:382: UserWarning: With alpha=0, this algorithm does not converge well. You are advised to use the LinearRegression estimator\n",
      "  self._final_estimator.fit(Xt, y, **fit_params_last_step)\n",
      "/home/allonios/PycharmProjects/health_insurance_cost_prediction/.venv/lib/python3.10/site-packages/sklearn/linear_model/_coordinate_descent.py:648: UserWarning: Coordinate descent with no regularization may lead to unexpected results and is discouraged.\n",
      "  model = cd_fast.enet_coordinate_descent(\n",
      "/home/allonios/PycharmProjects/health_insurance_cost_prediction/.venv/lib/python3.10/site-packages/sklearn/linear_model/_coordinate_descent.py:648: ConvergenceWarning: Objective did not converge. You might want to increase the number of iterations, check the scale of the features or consider increasing regularisation. Duality gap: 1.296e+10, tolerance: 1.785e+07 Linear regression models with null weight for the l1 regularization term are more efficiently fitted using one of the solvers implemented in sklearn.linear_model.Ridge/RidgeCV instead.\n",
      "  model = cd_fast.enet_coordinate_descent(\n",
      "/home/allonios/PycharmProjects/health_insurance_cost_prediction/.venv/lib/python3.10/site-packages/sklearn/linear_model/_coordinate_descent.py:648: ConvergenceWarning: Objective did not converge. You might want to increase the number of iterations, check the scale of the features or consider increasing regularisation. Duality gap: 1.438e+10, tolerance: 1.684e+07 Linear regression models with null weight for the l1 regularization term are more efficiently fitted using one of the solvers implemented in sklearn.linear_model.Ridge/RidgeCV instead.\n",
      "  model = cd_fast.enet_coordinate_descent(\n",
      "/home/allonios/PycharmProjects/health_insurance_cost_prediction/.venv/lib/python3.10/site-packages/sklearn/pipeline.py:382: UserWarning: With alpha=0, this algorithm does not converge well. You are advised to use the LinearRegression estimator\n",
      "  self._final_estimator.fit(Xt, y, **fit_params_last_step)\n",
      "/home/allonios/PycharmProjects/health_insurance_cost_prediction/.venv/lib/python3.10/site-packages/sklearn/linear_model/_coordinate_descent.py:648: UserWarning: Coordinate descent with no regularization may lead to unexpected results and is discouraged.\n",
      "  model = cd_fast.enet_coordinate_descent(\n",
      "/home/allonios/PycharmProjects/health_insurance_cost_prediction/.venv/lib/python3.10/site-packages/sklearn/linear_model/_coordinate_descent.py:648: ConvergenceWarning: Objective did not converge. You might want to increase the number of iterations, check the scale of the features or consider increasing regularisation. Duality gap: 1.438e+10, tolerance: 1.684e+07 Linear regression models with null weight for the l1 regularization term are more efficiently fitted using one of the solvers implemented in sklearn.linear_model.Ridge/RidgeCV instead.\n",
      "  model = cd_fast.enet_coordinate_descent(\n",
      "/home/allonios/PycharmProjects/health_insurance_cost_prediction/.venv/lib/python3.10/site-packages/sklearn/pipeline.py:382: UserWarning: With alpha=0, this algorithm does not converge well. You are advised to use the LinearRegression estimator\n",
      "  self._final_estimator.fit(Xt, y, **fit_params_last_step)\n",
      "/home/allonios/PycharmProjects/health_insurance_cost_prediction/.venv/lib/python3.10/site-packages/sklearn/linear_model/_coordinate_descent.py:648: UserWarning: Coordinate descent with no regularization may lead to unexpected results and is discouraged.\n",
      "  model = cd_fast.enet_coordinate_descent(\n",
      "/home/allonios/PycharmProjects/health_insurance_cost_prediction/.venv/lib/python3.10/site-packages/sklearn/linear_model/_coordinate_descent.py:648: ConvergenceWarning: Objective did not converge. You might want to increase the number of iterations, check the scale of the features or consider increasing regularisation. Duality gap: 1.438e+10, tolerance: 1.684e+07 Linear regression models with null weight for the l1 regularization term are more efficiently fitted using one of the solvers implemented in sklearn.linear_model.Ridge/RidgeCV instead.\n",
      "  model = cd_fast.enet_coordinate_descent(\n"
     ]
    },
    {
     "ename": "KeyboardInterrupt",
     "evalue": "",
     "output_type": "error",
     "traceback": [
      "\u001B[0;31m---------------------------------------------------------------------------\u001B[0m",
      "\u001B[0;31mKeyboardInterrupt\u001B[0m                         Traceback (most recent call last)",
      "Input \u001B[0;32mIn [10]\u001B[0m, in \u001B[0;36m<cell line: 1>\u001B[0;34m()\u001B[0m\n\u001B[0;32m----> 1\u001B[0m lr_lasso_rfe \u001B[38;5;241m=\u001B[39m \u001B[43mgenerate_model_summary\u001B[49m\u001B[43m(\u001B[49m\n\u001B[1;32m      2\u001B[0m \u001B[43m    \u001B[49m\u001B[38;5;124;43m\"\u001B[39;49m\u001B[38;5;124;43mlr_lasso_rfe\u001B[39;49m\u001B[38;5;124;43m\"\u001B[39;49m\u001B[43m,\u001B[49m\n\u001B[1;32m      3\u001B[0m \u001B[43m    \u001B[49m\u001B[43mLasso\u001B[49m\u001B[43m(\u001B[49m\u001B[43m)\u001B[49m\u001B[43m,\u001B[49m\n\u001B[1;32m      4\u001B[0m \u001B[43m    \u001B[49m\u001B[43mX_train\u001B[49m\u001B[43m,\u001B[49m\n\u001B[1;32m      5\u001B[0m \u001B[43m    \u001B[49m\u001B[43mX_test\u001B[49m\u001B[43m,\u001B[49m\n\u001B[1;32m      6\u001B[0m \u001B[43m    \u001B[49m\u001B[43my_train\u001B[49m\u001B[43m,\u001B[49m\n\u001B[1;32m      7\u001B[0m \u001B[43m    \u001B[49m\u001B[43my_test\u001B[49m\u001B[43m,\u001B[49m\n\u001B[1;32m      8\u001B[0m \u001B[43m    \u001B[49m\u001B[43mpolynomial_features\u001B[49m\u001B[38;5;241;43m=\u001B[39;49m\u001B[43m{\u001B[49m\u001B[38;5;124;43m\"\u001B[39;49m\u001B[38;5;124;43mdegree\u001B[39;49m\u001B[38;5;124;43m\"\u001B[39;49m\u001B[43m:\u001B[49m\u001B[43m \u001B[49m\u001B[38;5;241;43m2\u001B[39;49m\u001B[43m}\u001B[49m\u001B[43m,\u001B[49m\n\u001B[1;32m      9\u001B[0m \u001B[43m    \u001B[49m\u001B[43mrfe\u001B[49m\u001B[38;5;241;43m=\u001B[39;49m\u001B[43m{\u001B[49m\n\u001B[1;32m     10\u001B[0m \u001B[43m        \u001B[49m\u001B[38;5;124;43m\"\u001B[39;49m\u001B[38;5;124;43mestimator\u001B[39;49m\u001B[38;5;124;43m\"\u001B[39;49m\u001B[43m:\u001B[49m\u001B[43m \u001B[49m\u001B[43mRidge\u001B[49m\u001B[43m(\u001B[49m\u001B[43m)\u001B[49m\u001B[43m,\u001B[49m\n\u001B[1;32m     11\u001B[0m \u001B[43m    \u001B[49m\u001B[43m}\u001B[49m\u001B[43m,\u001B[49m\n\u001B[1;32m     12\u001B[0m \u001B[43m    \u001B[49m\u001B[43mgrid_search\u001B[49m\u001B[38;5;241;43m=\u001B[39;49m\u001B[43m{\u001B[49m\n\u001B[1;32m     13\u001B[0m \u001B[43m        \u001B[49m\u001B[38;5;124;43m\"\u001B[39;49m\u001B[38;5;124;43mparam_grid\u001B[39;49m\u001B[38;5;124;43m\"\u001B[39;49m\u001B[43m:\u001B[49m\u001B[43m \u001B[49m\u001B[43m{\u001B[49m\n\u001B[1;32m     14\u001B[0m \u001B[43m            \u001B[49m\u001B[38;5;124;43m\"\u001B[39;49m\u001B[38;5;124;43mpolynomialfeatures__degree\u001B[39;49m\u001B[38;5;124;43m\"\u001B[39;49m\u001B[43m:\u001B[49m\u001B[43m \u001B[49m\u001B[38;5;28;43mrange\u001B[39;49m\u001B[43m(\u001B[49m\u001B[38;5;241;43m4\u001B[39;49m\u001B[43m)\u001B[49m\u001B[43m,\u001B[49m\n\u001B[1;32m     15\u001B[0m \u001B[43m            \u001B[49m\u001B[38;5;124;43m\"\u001B[39;49m\u001B[38;5;124;43mlasso__alpha\u001B[39;49m\u001B[38;5;124;43m\"\u001B[39;49m\u001B[43m:\u001B[49m\u001B[43m \u001B[49m\u001B[43m[\u001B[49m\u001B[38;5;241;43m0\u001B[39;49m\u001B[43m,\u001B[49m\u001B[43m \u001B[49m\u001B[38;5;241;43m5\u001B[39;49m\u001B[43m,\u001B[49m\u001B[43m \u001B[49m\u001B[38;5;241;43m10\u001B[39;49m\u001B[43m,\u001B[49m\u001B[43m \u001B[49m\u001B[38;5;241;43m20\u001B[39;49m\u001B[43m]\u001B[49m\u001B[43m,\u001B[49m\n\u001B[1;32m     16\u001B[0m \u001B[43m            \u001B[49m\u001B[38;5;124;43m\"\u001B[39;49m\u001B[38;5;124;43mlasso__max_iter\u001B[39;49m\u001B[38;5;124;43m\"\u001B[39;49m\u001B[43m:\u001B[49m\u001B[43m \u001B[49m\u001B[43m[\u001B[49m\u001B[38;5;241;43m1000\u001B[39;49m\u001B[43m,\u001B[49m\u001B[43m \u001B[49m\u001B[38;5;241;43m1500\u001B[39;49m\u001B[43m,\u001B[49m\u001B[43m \u001B[49m\u001B[38;5;241;43m2000\u001B[39;49m\u001B[43m]\u001B[49m\u001B[43m,\u001B[49m\n\u001B[1;32m     17\u001B[0m \u001B[43m        \u001B[49m\u001B[43m}\u001B[49m\u001B[43m,\u001B[49m\n\u001B[1;32m     18\u001B[0m \u001B[43m        \u001B[49m\u001B[38;5;124;43m\"\u001B[39;49m\u001B[38;5;124;43mn_jobs\u001B[39;49m\u001B[38;5;124;43m\"\u001B[39;49m\u001B[43m:\u001B[49m\u001B[43m \u001B[49m\u001B[38;5;241;43m3\u001B[39;49m\n\u001B[1;32m     19\u001B[0m \u001B[43m    \u001B[49m\u001B[43m}\u001B[49m\u001B[43m,\u001B[49m\n\u001B[1;32m     20\u001B[0m \u001B[43m    \u001B[49m\u001B[43mlearning_curve\u001B[49m\u001B[38;5;241;43m=\u001B[39;49m\u001B[43m{\u001B[49m\n\u001B[1;32m     21\u001B[0m \u001B[43m        \u001B[49m\u001B[38;5;124;43m\"\u001B[39;49m\u001B[38;5;124;43mtrain_sizes\u001B[39;49m\u001B[38;5;124;43m\"\u001B[39;49m\u001B[43m:\u001B[49m\u001B[43m \u001B[49m\u001B[43mnp\u001B[49m\u001B[38;5;241;43m.\u001B[39;49m\u001B[43mlinspace\u001B[49m\u001B[43m(\u001B[49m\u001B[38;5;241;43m0.3\u001B[39;49m\u001B[43m,\u001B[49m\u001B[43m \u001B[49m\u001B[38;5;241;43m1\u001B[39;49m\u001B[43m,\u001B[49m\u001B[43m \u001B[49m\u001B[38;5;241;43m10\u001B[39;49m\u001B[43m)\u001B[49m\n\u001B[1;32m     22\u001B[0m \u001B[43m    \u001B[49m\u001B[43m}\u001B[49m\u001B[43m,\u001B[49m\n\u001B[1;32m     23\u001B[0m \u001B[43m)\u001B[49m\n",
      "File \u001B[0;32m~/PycharmProjects/health_insurance_cost_prediction/models/model_builder.py:223\u001B[0m, in \u001B[0;36mgenerate_model_summary\u001B[0;34m(name, model, X_train, X_test, y_train, y_test, polynomial_features, select_percentile, select_from_model, rfe, validation_curve, grid_search, learning_curve, print_params)\u001B[0m\n\u001B[1;32m    221\u001B[0m learning_curve_data \u001B[38;5;241m=\u001B[39m \u001B[38;5;28;01mNone\u001B[39;00m\n\u001B[1;32m    222\u001B[0m \u001B[38;5;28;01mif\u001B[39;00m \u001B[38;5;28misinstance\u001B[39m(learning_curve, \u001B[38;5;28mdict\u001B[39m):\n\u001B[0;32m--> 223\u001B[0m     N, train_lc, val_lc \u001B[38;5;241m=\u001B[39m \u001B[43mlc\u001B[49m\u001B[43m(\u001B[49m\u001B[43mmodel\u001B[49m\u001B[43m,\u001B[49m\u001B[43m \u001B[49m\u001B[43mX_train\u001B[49m\u001B[43m,\u001B[49m\u001B[43m \u001B[49m\u001B[43my_train\u001B[49m\u001B[43m,\u001B[49m\u001B[43m \u001B[49m\u001B[38;5;241;43m*\u001B[39;49m\u001B[38;5;241;43m*\u001B[39;49m\u001B[43mlearning_curve\u001B[49m\u001B[43m)\u001B[49m\n\u001B[1;32m    224\u001B[0m     learning_curve_data \u001B[38;5;241m=\u001B[39m {\u001B[38;5;124m\"\u001B[39m\u001B[38;5;124mN\u001B[39m\u001B[38;5;124m\"\u001B[39m: N, \u001B[38;5;124m\"\u001B[39m\u001B[38;5;124mtrain_lc\u001B[39m\u001B[38;5;124m\"\u001B[39m: train_lc, \u001B[38;5;124m\"\u001B[39m\u001B[38;5;124mval_lc\u001B[39m\u001B[38;5;124m\"\u001B[39m: val_lc}\n\u001B[1;32m    226\u001B[0m \u001B[38;5;28;01mreturn\u001B[39;00m ModelSummary(\n\u001B[1;32m    227\u001B[0m     name\u001B[38;5;241m=\u001B[39mname,\n\u001B[1;32m    228\u001B[0m     mean_squared_error\u001B[38;5;241m=\u001B[39m{\n\u001B[0;32m   (...)\u001B[0m\n\u001B[1;32m    243\u001B[0m     model\u001B[38;5;241m=\u001B[39mmodel\n\u001B[1;32m    244\u001B[0m )\n",
      "File \u001B[0;32m~/PycharmProjects/health_insurance_cost_prediction/.venv/lib/python3.10/site-packages/sklearn/model_selection/_validation.py:1559\u001B[0m, in \u001B[0;36mlearning_curve\u001B[0;34m(estimator, X, y, groups, train_sizes, cv, scoring, exploit_incremental_learning, n_jobs, pre_dispatch, verbose, shuffle, random_state, error_score, return_times, fit_params)\u001B[0m\n\u001B[1;32m   1556\u001B[0m     \u001B[38;5;28;01mfor\u001B[39;00m n_train_samples \u001B[38;5;129;01min\u001B[39;00m train_sizes_abs:\n\u001B[1;32m   1557\u001B[0m         train_test_proportions\u001B[38;5;241m.\u001B[39mappend((train[:n_train_samples], test))\n\u001B[0;32m-> 1559\u001B[0m results \u001B[38;5;241m=\u001B[39m \u001B[43mparallel\u001B[49m\u001B[43m(\u001B[49m\n\u001B[1;32m   1560\u001B[0m \u001B[43m    \u001B[49m\u001B[43mdelayed\u001B[49m\u001B[43m(\u001B[49m\u001B[43m_fit_and_score\u001B[49m\u001B[43m)\u001B[49m\u001B[43m(\u001B[49m\n\u001B[1;32m   1561\u001B[0m \u001B[43m        \u001B[49m\u001B[43mclone\u001B[49m\u001B[43m(\u001B[49m\u001B[43mestimator\u001B[49m\u001B[43m)\u001B[49m\u001B[43m,\u001B[49m\n\u001B[1;32m   1562\u001B[0m \u001B[43m        \u001B[49m\u001B[43mX\u001B[49m\u001B[43m,\u001B[49m\n\u001B[1;32m   1563\u001B[0m \u001B[43m        \u001B[49m\u001B[43my\u001B[49m\u001B[43m,\u001B[49m\n\u001B[1;32m   1564\u001B[0m \u001B[43m        \u001B[49m\u001B[43mscorer\u001B[49m\u001B[43m,\u001B[49m\n\u001B[1;32m   1565\u001B[0m \u001B[43m        \u001B[49m\u001B[43mtrain\u001B[49m\u001B[43m,\u001B[49m\n\u001B[1;32m   1566\u001B[0m \u001B[43m        \u001B[49m\u001B[43mtest\u001B[49m\u001B[43m,\u001B[49m\n\u001B[1;32m   1567\u001B[0m \u001B[43m        \u001B[49m\u001B[43mverbose\u001B[49m\u001B[43m,\u001B[49m\n\u001B[1;32m   1568\u001B[0m \u001B[43m        \u001B[49m\u001B[43mparameters\u001B[49m\u001B[38;5;241;43m=\u001B[39;49m\u001B[38;5;28;43;01mNone\u001B[39;49;00m\u001B[43m,\u001B[49m\n\u001B[1;32m   1569\u001B[0m \u001B[43m        \u001B[49m\u001B[43mfit_params\u001B[49m\u001B[38;5;241;43m=\u001B[39;49m\u001B[43mfit_params\u001B[49m\u001B[43m,\u001B[49m\n\u001B[1;32m   1570\u001B[0m \u001B[43m        \u001B[49m\u001B[43mreturn_train_score\u001B[49m\u001B[38;5;241;43m=\u001B[39;49m\u001B[38;5;28;43;01mTrue\u001B[39;49;00m\u001B[43m,\u001B[49m\n\u001B[1;32m   1571\u001B[0m \u001B[43m        \u001B[49m\u001B[43merror_score\u001B[49m\u001B[38;5;241;43m=\u001B[39;49m\u001B[43merror_score\u001B[49m\u001B[43m,\u001B[49m\n\u001B[1;32m   1572\u001B[0m \u001B[43m        \u001B[49m\u001B[43mreturn_times\u001B[49m\u001B[38;5;241;43m=\u001B[39;49m\u001B[43mreturn_times\u001B[49m\u001B[43m,\u001B[49m\n\u001B[1;32m   1573\u001B[0m \u001B[43m    \u001B[49m\u001B[43m)\u001B[49m\n\u001B[1;32m   1574\u001B[0m \u001B[43m    \u001B[49m\u001B[38;5;28;43;01mfor\u001B[39;49;00m\u001B[43m \u001B[49m\u001B[43mtrain\u001B[49m\u001B[43m,\u001B[49m\u001B[43m \u001B[49m\u001B[43mtest\u001B[49m\u001B[43m \u001B[49m\u001B[38;5;129;43;01min\u001B[39;49;00m\u001B[43m \u001B[49m\u001B[43mtrain_test_proportions\u001B[49m\n\u001B[1;32m   1575\u001B[0m \u001B[43m\u001B[49m\u001B[43m)\u001B[49m\n\u001B[1;32m   1576\u001B[0m results \u001B[38;5;241m=\u001B[39m _aggregate_score_dicts(results)\n\u001B[1;32m   1577\u001B[0m train_scores \u001B[38;5;241m=\u001B[39m results[\u001B[38;5;124m\"\u001B[39m\u001B[38;5;124mtrain_scores\u001B[39m\u001B[38;5;124m\"\u001B[39m]\u001B[38;5;241m.\u001B[39mreshape(\u001B[38;5;241m-\u001B[39m\u001B[38;5;241m1\u001B[39m, n_unique_ticks)\u001B[38;5;241m.\u001B[39mT\n",
      "File \u001B[0;32m~/PycharmProjects/health_insurance_cost_prediction/.venv/lib/python3.10/site-packages/joblib/parallel.py:1046\u001B[0m, in \u001B[0;36mParallel.__call__\u001B[0;34m(self, iterable)\u001B[0m\n\u001B[1;32m   1043\u001B[0m \u001B[38;5;28;01mif\u001B[39;00m \u001B[38;5;28mself\u001B[39m\u001B[38;5;241m.\u001B[39mdispatch_one_batch(iterator):\n\u001B[1;32m   1044\u001B[0m     \u001B[38;5;28mself\u001B[39m\u001B[38;5;241m.\u001B[39m_iterating \u001B[38;5;241m=\u001B[39m \u001B[38;5;28mself\u001B[39m\u001B[38;5;241m.\u001B[39m_original_iterator \u001B[38;5;129;01mis\u001B[39;00m \u001B[38;5;129;01mnot\u001B[39;00m \u001B[38;5;28;01mNone\u001B[39;00m\n\u001B[0;32m-> 1046\u001B[0m \u001B[38;5;28;01mwhile\u001B[39;00m \u001B[38;5;28;43mself\u001B[39;49m\u001B[38;5;241;43m.\u001B[39;49m\u001B[43mdispatch_one_batch\u001B[49m\u001B[43m(\u001B[49m\u001B[43miterator\u001B[49m\u001B[43m)\u001B[49m:\n\u001B[1;32m   1047\u001B[0m     \u001B[38;5;28;01mpass\u001B[39;00m\n\u001B[1;32m   1049\u001B[0m \u001B[38;5;28;01mif\u001B[39;00m pre_dispatch \u001B[38;5;241m==\u001B[39m \u001B[38;5;124m\"\u001B[39m\u001B[38;5;124mall\u001B[39m\u001B[38;5;124m\"\u001B[39m \u001B[38;5;129;01mor\u001B[39;00m n_jobs \u001B[38;5;241m==\u001B[39m \u001B[38;5;241m1\u001B[39m:\n\u001B[1;32m   1050\u001B[0m     \u001B[38;5;66;03m# The iterable was consumed all at once by the above for loop.\u001B[39;00m\n\u001B[1;32m   1051\u001B[0m     \u001B[38;5;66;03m# No need to wait for async callbacks to trigger to\u001B[39;00m\n\u001B[1;32m   1052\u001B[0m     \u001B[38;5;66;03m# consumption.\u001B[39;00m\n",
      "File \u001B[0;32m~/PycharmProjects/health_insurance_cost_prediction/.venv/lib/python3.10/site-packages/joblib/parallel.py:861\u001B[0m, in \u001B[0;36mParallel.dispatch_one_batch\u001B[0;34m(self, iterator)\u001B[0m\n\u001B[1;32m    859\u001B[0m     \u001B[38;5;28;01mreturn\u001B[39;00m \u001B[38;5;28;01mFalse\u001B[39;00m\n\u001B[1;32m    860\u001B[0m \u001B[38;5;28;01melse\u001B[39;00m:\n\u001B[0;32m--> 861\u001B[0m     \u001B[38;5;28;43mself\u001B[39;49m\u001B[38;5;241;43m.\u001B[39;49m\u001B[43m_dispatch\u001B[49m\u001B[43m(\u001B[49m\u001B[43mtasks\u001B[49m\u001B[43m)\u001B[49m\n\u001B[1;32m    862\u001B[0m     \u001B[38;5;28;01mreturn\u001B[39;00m \u001B[38;5;28;01mTrue\u001B[39;00m\n",
      "File \u001B[0;32m~/PycharmProjects/health_insurance_cost_prediction/.venv/lib/python3.10/site-packages/joblib/parallel.py:779\u001B[0m, in \u001B[0;36mParallel._dispatch\u001B[0;34m(self, batch)\u001B[0m\n\u001B[1;32m    777\u001B[0m \u001B[38;5;28;01mwith\u001B[39;00m \u001B[38;5;28mself\u001B[39m\u001B[38;5;241m.\u001B[39m_lock:\n\u001B[1;32m    778\u001B[0m     job_idx \u001B[38;5;241m=\u001B[39m \u001B[38;5;28mlen\u001B[39m(\u001B[38;5;28mself\u001B[39m\u001B[38;5;241m.\u001B[39m_jobs)\n\u001B[0;32m--> 779\u001B[0m     job \u001B[38;5;241m=\u001B[39m \u001B[38;5;28;43mself\u001B[39;49m\u001B[38;5;241;43m.\u001B[39;49m\u001B[43m_backend\u001B[49m\u001B[38;5;241;43m.\u001B[39;49m\u001B[43mapply_async\u001B[49m\u001B[43m(\u001B[49m\u001B[43mbatch\u001B[49m\u001B[43m,\u001B[49m\u001B[43m \u001B[49m\u001B[43mcallback\u001B[49m\u001B[38;5;241;43m=\u001B[39;49m\u001B[43mcb\u001B[49m\u001B[43m)\u001B[49m\n\u001B[1;32m    780\u001B[0m     \u001B[38;5;66;03m# A job can complete so quickly than its callback is\u001B[39;00m\n\u001B[1;32m    781\u001B[0m     \u001B[38;5;66;03m# called before we get here, causing self._jobs to\u001B[39;00m\n\u001B[1;32m    782\u001B[0m     \u001B[38;5;66;03m# grow. To ensure correct results ordering, .insert is\u001B[39;00m\n\u001B[1;32m    783\u001B[0m     \u001B[38;5;66;03m# used (rather than .append) in the following line\u001B[39;00m\n\u001B[1;32m    784\u001B[0m     \u001B[38;5;28mself\u001B[39m\u001B[38;5;241m.\u001B[39m_jobs\u001B[38;5;241m.\u001B[39minsert(job_idx, job)\n",
      "File \u001B[0;32m~/PycharmProjects/health_insurance_cost_prediction/.venv/lib/python3.10/site-packages/joblib/_parallel_backends.py:208\u001B[0m, in \u001B[0;36mSequentialBackend.apply_async\u001B[0;34m(self, func, callback)\u001B[0m\n\u001B[1;32m    206\u001B[0m \u001B[38;5;28;01mdef\u001B[39;00m \u001B[38;5;21mapply_async\u001B[39m(\u001B[38;5;28mself\u001B[39m, func, callback\u001B[38;5;241m=\u001B[39m\u001B[38;5;28;01mNone\u001B[39;00m):\n\u001B[1;32m    207\u001B[0m     \u001B[38;5;124;03m\"\"\"Schedule a func to be run\"\"\"\u001B[39;00m\n\u001B[0;32m--> 208\u001B[0m     result \u001B[38;5;241m=\u001B[39m \u001B[43mImmediateResult\u001B[49m\u001B[43m(\u001B[49m\u001B[43mfunc\u001B[49m\u001B[43m)\u001B[49m\n\u001B[1;32m    209\u001B[0m     \u001B[38;5;28;01mif\u001B[39;00m callback:\n\u001B[1;32m    210\u001B[0m         callback(result)\n",
      "File \u001B[0;32m~/PycharmProjects/health_insurance_cost_prediction/.venv/lib/python3.10/site-packages/joblib/_parallel_backends.py:572\u001B[0m, in \u001B[0;36mImmediateResult.__init__\u001B[0;34m(self, batch)\u001B[0m\n\u001B[1;32m    569\u001B[0m \u001B[38;5;28;01mdef\u001B[39;00m \u001B[38;5;21m__init__\u001B[39m(\u001B[38;5;28mself\u001B[39m, batch):\n\u001B[1;32m    570\u001B[0m     \u001B[38;5;66;03m# Don't delay the application, to avoid keeping the input\u001B[39;00m\n\u001B[1;32m    571\u001B[0m     \u001B[38;5;66;03m# arguments in memory\u001B[39;00m\n\u001B[0;32m--> 572\u001B[0m     \u001B[38;5;28mself\u001B[39m\u001B[38;5;241m.\u001B[39mresults \u001B[38;5;241m=\u001B[39m \u001B[43mbatch\u001B[49m\u001B[43m(\u001B[49m\u001B[43m)\u001B[49m\n",
      "File \u001B[0;32m~/PycharmProjects/health_insurance_cost_prediction/.venv/lib/python3.10/site-packages/joblib/parallel.py:262\u001B[0m, in \u001B[0;36mBatchedCalls.__call__\u001B[0;34m(self)\u001B[0m\n\u001B[1;32m    258\u001B[0m \u001B[38;5;28;01mdef\u001B[39;00m \u001B[38;5;21m__call__\u001B[39m(\u001B[38;5;28mself\u001B[39m):\n\u001B[1;32m    259\u001B[0m     \u001B[38;5;66;03m# Set the default nested backend to self._backend but do not set the\u001B[39;00m\n\u001B[1;32m    260\u001B[0m     \u001B[38;5;66;03m# change the default number of processes to -1\u001B[39;00m\n\u001B[1;32m    261\u001B[0m     \u001B[38;5;28;01mwith\u001B[39;00m parallel_backend(\u001B[38;5;28mself\u001B[39m\u001B[38;5;241m.\u001B[39m_backend, n_jobs\u001B[38;5;241m=\u001B[39m\u001B[38;5;28mself\u001B[39m\u001B[38;5;241m.\u001B[39m_n_jobs):\n\u001B[0;32m--> 262\u001B[0m         \u001B[38;5;28;01mreturn\u001B[39;00m [func(\u001B[38;5;241m*\u001B[39margs, \u001B[38;5;241m*\u001B[39m\u001B[38;5;241m*\u001B[39mkwargs)\n\u001B[1;32m    263\u001B[0m                 \u001B[38;5;28;01mfor\u001B[39;00m func, args, kwargs \u001B[38;5;129;01min\u001B[39;00m \u001B[38;5;28mself\u001B[39m\u001B[38;5;241m.\u001B[39mitems]\n",
      "File \u001B[0;32m~/PycharmProjects/health_insurance_cost_prediction/.venv/lib/python3.10/site-packages/joblib/parallel.py:262\u001B[0m, in \u001B[0;36m<listcomp>\u001B[0;34m(.0)\u001B[0m\n\u001B[1;32m    258\u001B[0m \u001B[38;5;28;01mdef\u001B[39;00m \u001B[38;5;21m__call__\u001B[39m(\u001B[38;5;28mself\u001B[39m):\n\u001B[1;32m    259\u001B[0m     \u001B[38;5;66;03m# Set the default nested backend to self._backend but do not set the\u001B[39;00m\n\u001B[1;32m    260\u001B[0m     \u001B[38;5;66;03m# change the default number of processes to -1\u001B[39;00m\n\u001B[1;32m    261\u001B[0m     \u001B[38;5;28;01mwith\u001B[39;00m parallel_backend(\u001B[38;5;28mself\u001B[39m\u001B[38;5;241m.\u001B[39m_backend, n_jobs\u001B[38;5;241m=\u001B[39m\u001B[38;5;28mself\u001B[39m\u001B[38;5;241m.\u001B[39m_n_jobs):\n\u001B[0;32m--> 262\u001B[0m         \u001B[38;5;28;01mreturn\u001B[39;00m [\u001B[43mfunc\u001B[49m\u001B[43m(\u001B[49m\u001B[38;5;241;43m*\u001B[39;49m\u001B[43margs\u001B[49m\u001B[43m,\u001B[49m\u001B[43m \u001B[49m\u001B[38;5;241;43m*\u001B[39;49m\u001B[38;5;241;43m*\u001B[39;49m\u001B[43mkwargs\u001B[49m\u001B[43m)\u001B[49m\n\u001B[1;32m    263\u001B[0m                 \u001B[38;5;28;01mfor\u001B[39;00m func, args, kwargs \u001B[38;5;129;01min\u001B[39;00m \u001B[38;5;28mself\u001B[39m\u001B[38;5;241m.\u001B[39mitems]\n",
      "File \u001B[0;32m~/PycharmProjects/health_insurance_cost_prediction/.venv/lib/python3.10/site-packages/sklearn/utils/fixes.py:117\u001B[0m, in \u001B[0;36m_FuncWrapper.__call__\u001B[0;34m(self, *args, **kwargs)\u001B[0m\n\u001B[1;32m    115\u001B[0m \u001B[38;5;28;01mdef\u001B[39;00m \u001B[38;5;21m__call__\u001B[39m(\u001B[38;5;28mself\u001B[39m, \u001B[38;5;241m*\u001B[39margs, \u001B[38;5;241m*\u001B[39m\u001B[38;5;241m*\u001B[39mkwargs):\n\u001B[1;32m    116\u001B[0m     \u001B[38;5;28;01mwith\u001B[39;00m config_context(\u001B[38;5;241m*\u001B[39m\u001B[38;5;241m*\u001B[39m\u001B[38;5;28mself\u001B[39m\u001B[38;5;241m.\u001B[39mconfig):\n\u001B[0;32m--> 117\u001B[0m         \u001B[38;5;28;01mreturn\u001B[39;00m \u001B[38;5;28;43mself\u001B[39;49m\u001B[38;5;241;43m.\u001B[39;49m\u001B[43mfunction\u001B[49m\u001B[43m(\u001B[49m\u001B[38;5;241;43m*\u001B[39;49m\u001B[43margs\u001B[49m\u001B[43m,\u001B[49m\u001B[43m \u001B[49m\u001B[38;5;241;43m*\u001B[39;49m\u001B[38;5;241;43m*\u001B[39;49m\u001B[43mkwargs\u001B[49m\u001B[43m)\u001B[49m\n",
      "File \u001B[0;32m~/PycharmProjects/health_insurance_cost_prediction/.venv/lib/python3.10/site-packages/sklearn/model_selection/_validation.py:686\u001B[0m, in \u001B[0;36m_fit_and_score\u001B[0;34m(estimator, X, y, scorer, train, test, verbose, parameters, fit_params, return_train_score, return_parameters, return_n_test_samples, return_times, return_estimator, split_progress, candidate_progress, error_score)\u001B[0m\n\u001B[1;32m    684\u001B[0m         estimator\u001B[38;5;241m.\u001B[39mfit(X_train, \u001B[38;5;241m*\u001B[39m\u001B[38;5;241m*\u001B[39mfit_params)\n\u001B[1;32m    685\u001B[0m     \u001B[38;5;28;01melse\u001B[39;00m:\n\u001B[0;32m--> 686\u001B[0m         \u001B[43mestimator\u001B[49m\u001B[38;5;241;43m.\u001B[39;49m\u001B[43mfit\u001B[49m\u001B[43m(\u001B[49m\u001B[43mX_train\u001B[49m\u001B[43m,\u001B[49m\u001B[43m \u001B[49m\u001B[43my_train\u001B[49m\u001B[43m,\u001B[49m\u001B[43m \u001B[49m\u001B[38;5;241;43m*\u001B[39;49m\u001B[38;5;241;43m*\u001B[39;49m\u001B[43mfit_params\u001B[49m\u001B[43m)\u001B[49m\n\u001B[1;32m    688\u001B[0m \u001B[38;5;28;01mexcept\u001B[39;00m \u001B[38;5;167;01mException\u001B[39;00m:\n\u001B[1;32m    689\u001B[0m     \u001B[38;5;66;03m# Note fit time as time until error\u001B[39;00m\n\u001B[1;32m    690\u001B[0m     fit_time \u001B[38;5;241m=\u001B[39m time\u001B[38;5;241m.\u001B[39mtime() \u001B[38;5;241m-\u001B[39m start_time\n",
      "File \u001B[0;32m~/PycharmProjects/health_insurance_cost_prediction/.venv/lib/python3.10/site-packages/sklearn/pipeline.py:378\u001B[0m, in \u001B[0;36mPipeline.fit\u001B[0;34m(self, X, y, **fit_params)\u001B[0m\n\u001B[1;32m    352\u001B[0m \u001B[38;5;124;03m\"\"\"Fit the model.\u001B[39;00m\n\u001B[1;32m    353\u001B[0m \n\u001B[1;32m    354\u001B[0m \u001B[38;5;124;03mFit all the transformers one after the other and transform the\u001B[39;00m\n\u001B[0;32m   (...)\u001B[0m\n\u001B[1;32m    375\u001B[0m \u001B[38;5;124;03m    Pipeline with fitted steps.\u001B[39;00m\n\u001B[1;32m    376\u001B[0m \u001B[38;5;124;03m\"\"\"\u001B[39;00m\n\u001B[1;32m    377\u001B[0m fit_params_steps \u001B[38;5;241m=\u001B[39m \u001B[38;5;28mself\u001B[39m\u001B[38;5;241m.\u001B[39m_check_fit_params(\u001B[38;5;241m*\u001B[39m\u001B[38;5;241m*\u001B[39mfit_params)\n\u001B[0;32m--> 378\u001B[0m Xt \u001B[38;5;241m=\u001B[39m \u001B[38;5;28;43mself\u001B[39;49m\u001B[38;5;241;43m.\u001B[39;49m\u001B[43m_fit\u001B[49m\u001B[43m(\u001B[49m\u001B[43mX\u001B[49m\u001B[43m,\u001B[49m\u001B[43m \u001B[49m\u001B[43my\u001B[49m\u001B[43m,\u001B[49m\u001B[43m \u001B[49m\u001B[38;5;241;43m*\u001B[39;49m\u001B[38;5;241;43m*\u001B[39;49m\u001B[43mfit_params_steps\u001B[49m\u001B[43m)\u001B[49m\n\u001B[1;32m    379\u001B[0m \u001B[38;5;28;01mwith\u001B[39;00m _print_elapsed_time(\u001B[38;5;124m\"\u001B[39m\u001B[38;5;124mPipeline\u001B[39m\u001B[38;5;124m\"\u001B[39m, \u001B[38;5;28mself\u001B[39m\u001B[38;5;241m.\u001B[39m_log_message(\u001B[38;5;28mlen\u001B[39m(\u001B[38;5;28mself\u001B[39m\u001B[38;5;241m.\u001B[39msteps) \u001B[38;5;241m-\u001B[39m \u001B[38;5;241m1\u001B[39m)):\n\u001B[1;32m    380\u001B[0m     \u001B[38;5;28;01mif\u001B[39;00m \u001B[38;5;28mself\u001B[39m\u001B[38;5;241m.\u001B[39m_final_estimator \u001B[38;5;241m!=\u001B[39m \u001B[38;5;124m\"\u001B[39m\u001B[38;5;124mpassthrough\u001B[39m\u001B[38;5;124m\"\u001B[39m:\n",
      "File \u001B[0;32m~/PycharmProjects/health_insurance_cost_prediction/.venv/lib/python3.10/site-packages/sklearn/pipeline.py:336\u001B[0m, in \u001B[0;36mPipeline._fit\u001B[0;34m(self, X, y, **fit_params_steps)\u001B[0m\n\u001B[1;32m    334\u001B[0m     cloned_transformer \u001B[38;5;241m=\u001B[39m clone(transformer)\n\u001B[1;32m    335\u001B[0m \u001B[38;5;66;03m# Fit or load from cache the current transformer\u001B[39;00m\n\u001B[0;32m--> 336\u001B[0m X, fitted_transformer \u001B[38;5;241m=\u001B[39m \u001B[43mfit_transform_one_cached\u001B[49m\u001B[43m(\u001B[49m\n\u001B[1;32m    337\u001B[0m \u001B[43m    \u001B[49m\u001B[43mcloned_transformer\u001B[49m\u001B[43m,\u001B[49m\n\u001B[1;32m    338\u001B[0m \u001B[43m    \u001B[49m\u001B[43mX\u001B[49m\u001B[43m,\u001B[49m\n\u001B[1;32m    339\u001B[0m \u001B[43m    \u001B[49m\u001B[43my\u001B[49m\u001B[43m,\u001B[49m\n\u001B[1;32m    340\u001B[0m \u001B[43m    \u001B[49m\u001B[38;5;28;43;01mNone\u001B[39;49;00m\u001B[43m,\u001B[49m\n\u001B[1;32m    341\u001B[0m \u001B[43m    \u001B[49m\u001B[43mmessage_clsname\u001B[49m\u001B[38;5;241;43m=\u001B[39;49m\u001B[38;5;124;43m\"\u001B[39;49m\u001B[38;5;124;43mPipeline\u001B[39;49m\u001B[38;5;124;43m\"\u001B[39;49m\u001B[43m,\u001B[49m\n\u001B[1;32m    342\u001B[0m \u001B[43m    \u001B[49m\u001B[43mmessage\u001B[49m\u001B[38;5;241;43m=\u001B[39;49m\u001B[38;5;28;43mself\u001B[39;49m\u001B[38;5;241;43m.\u001B[39;49m\u001B[43m_log_message\u001B[49m\u001B[43m(\u001B[49m\u001B[43mstep_idx\u001B[49m\u001B[43m)\u001B[49m\u001B[43m,\u001B[49m\n\u001B[1;32m    343\u001B[0m \u001B[43m    \u001B[49m\u001B[38;5;241;43m*\u001B[39;49m\u001B[38;5;241;43m*\u001B[39;49m\u001B[43mfit_params_steps\u001B[49m\u001B[43m[\u001B[49m\u001B[43mname\u001B[49m\u001B[43m]\u001B[49m\u001B[43m,\u001B[49m\n\u001B[1;32m    344\u001B[0m \u001B[43m\u001B[49m\u001B[43m)\u001B[49m\n\u001B[1;32m    345\u001B[0m \u001B[38;5;66;03m# Replace the transformer of the step with the fitted\u001B[39;00m\n\u001B[1;32m    346\u001B[0m \u001B[38;5;66;03m# transformer. This is necessary when loading the transformer\u001B[39;00m\n\u001B[1;32m    347\u001B[0m \u001B[38;5;66;03m# from the cache.\u001B[39;00m\n\u001B[1;32m    348\u001B[0m \u001B[38;5;28mself\u001B[39m\u001B[38;5;241m.\u001B[39msteps[step_idx] \u001B[38;5;241m=\u001B[39m (name, fitted_transformer)\n",
      "File \u001B[0;32m~/PycharmProjects/health_insurance_cost_prediction/.venv/lib/python3.10/site-packages/joblib/memory.py:349\u001B[0m, in \u001B[0;36mNotMemorizedFunc.__call__\u001B[0;34m(self, *args, **kwargs)\u001B[0m\n\u001B[1;32m    348\u001B[0m \u001B[38;5;28;01mdef\u001B[39;00m \u001B[38;5;21m__call__\u001B[39m(\u001B[38;5;28mself\u001B[39m, \u001B[38;5;241m*\u001B[39margs, \u001B[38;5;241m*\u001B[39m\u001B[38;5;241m*\u001B[39mkwargs):\n\u001B[0;32m--> 349\u001B[0m     \u001B[38;5;28;01mreturn\u001B[39;00m \u001B[38;5;28;43mself\u001B[39;49m\u001B[38;5;241;43m.\u001B[39;49m\u001B[43mfunc\u001B[49m\u001B[43m(\u001B[49m\u001B[38;5;241;43m*\u001B[39;49m\u001B[43margs\u001B[49m\u001B[43m,\u001B[49m\u001B[43m \u001B[49m\u001B[38;5;241;43m*\u001B[39;49m\u001B[38;5;241;43m*\u001B[39;49m\u001B[43mkwargs\u001B[49m\u001B[43m)\u001B[49m\n",
      "File \u001B[0;32m~/PycharmProjects/health_insurance_cost_prediction/.venv/lib/python3.10/site-packages/sklearn/pipeline.py:870\u001B[0m, in \u001B[0;36m_fit_transform_one\u001B[0;34m(transformer, X, y, weight, message_clsname, message, **fit_params)\u001B[0m\n\u001B[1;32m    868\u001B[0m \u001B[38;5;28;01mwith\u001B[39;00m _print_elapsed_time(message_clsname, message):\n\u001B[1;32m    869\u001B[0m     \u001B[38;5;28;01mif\u001B[39;00m \u001B[38;5;28mhasattr\u001B[39m(transformer, \u001B[38;5;124m\"\u001B[39m\u001B[38;5;124mfit_transform\u001B[39m\u001B[38;5;124m\"\u001B[39m):\n\u001B[0;32m--> 870\u001B[0m         res \u001B[38;5;241m=\u001B[39m \u001B[43mtransformer\u001B[49m\u001B[38;5;241;43m.\u001B[39;49m\u001B[43mfit_transform\u001B[49m\u001B[43m(\u001B[49m\u001B[43mX\u001B[49m\u001B[43m,\u001B[49m\u001B[43m \u001B[49m\u001B[43my\u001B[49m\u001B[43m,\u001B[49m\u001B[43m \u001B[49m\u001B[38;5;241;43m*\u001B[39;49m\u001B[38;5;241;43m*\u001B[39;49m\u001B[43mfit_params\u001B[49m\u001B[43m)\u001B[49m\n\u001B[1;32m    871\u001B[0m     \u001B[38;5;28;01melse\u001B[39;00m:\n\u001B[1;32m    872\u001B[0m         res \u001B[38;5;241m=\u001B[39m transformer\u001B[38;5;241m.\u001B[39mfit(X, y, \u001B[38;5;241m*\u001B[39m\u001B[38;5;241m*\u001B[39mfit_params)\u001B[38;5;241m.\u001B[39mtransform(X)\n",
      "File \u001B[0;32m~/PycharmProjects/health_insurance_cost_prediction/.venv/lib/python3.10/site-packages/sklearn/base.py:870\u001B[0m, in \u001B[0;36mTransformerMixin.fit_transform\u001B[0;34m(self, X, y, **fit_params)\u001B[0m\n\u001B[1;32m    867\u001B[0m     \u001B[38;5;28;01mreturn\u001B[39;00m \u001B[38;5;28mself\u001B[39m\u001B[38;5;241m.\u001B[39mfit(X, \u001B[38;5;241m*\u001B[39m\u001B[38;5;241m*\u001B[39mfit_params)\u001B[38;5;241m.\u001B[39mtransform(X)\n\u001B[1;32m    868\u001B[0m \u001B[38;5;28;01melse\u001B[39;00m:\n\u001B[1;32m    869\u001B[0m     \u001B[38;5;66;03m# fit method of arity 2 (supervised transformation)\u001B[39;00m\n\u001B[0;32m--> 870\u001B[0m     \u001B[38;5;28;01mreturn\u001B[39;00m \u001B[38;5;28;43mself\u001B[39;49m\u001B[38;5;241;43m.\u001B[39;49m\u001B[43mfit\u001B[49m\u001B[43m(\u001B[49m\u001B[43mX\u001B[49m\u001B[43m,\u001B[49m\u001B[43m \u001B[49m\u001B[43my\u001B[49m\u001B[43m,\u001B[49m\u001B[43m \u001B[49m\u001B[38;5;241;43m*\u001B[39;49m\u001B[38;5;241;43m*\u001B[39;49m\u001B[43mfit_params\u001B[49m\u001B[43m)\u001B[49m\u001B[38;5;241m.\u001B[39mtransform(X)\n",
      "File \u001B[0;32m~/PycharmProjects/health_insurance_cost_prediction/.venv/lib/python3.10/site-packages/sklearn/feature_selection/_rfe.py:235\u001B[0m, in \u001B[0;36mRFE.fit\u001B[0;34m(self, X, y, **fit_params)\u001B[0m\n\u001B[1;32m    215\u001B[0m \u001B[38;5;28;01mdef\u001B[39;00m \u001B[38;5;21mfit\u001B[39m(\u001B[38;5;28mself\u001B[39m, X, y, \u001B[38;5;241m*\u001B[39m\u001B[38;5;241m*\u001B[39mfit_params):\n\u001B[1;32m    216\u001B[0m     \u001B[38;5;124;03m\"\"\"Fit the RFE model and then the underlying estimator on the selected features.\u001B[39;00m\n\u001B[1;32m    217\u001B[0m \n\u001B[1;32m    218\u001B[0m \u001B[38;5;124;03m    Parameters\u001B[39;00m\n\u001B[0;32m   (...)\u001B[0m\n\u001B[1;32m    233\u001B[0m \u001B[38;5;124;03m        Fitted estimator.\u001B[39;00m\n\u001B[1;32m    234\u001B[0m \u001B[38;5;124;03m    \"\"\"\u001B[39;00m\n\u001B[0;32m--> 235\u001B[0m     \u001B[38;5;28;01mreturn\u001B[39;00m \u001B[38;5;28;43mself\u001B[39;49m\u001B[38;5;241;43m.\u001B[39;49m\u001B[43m_fit\u001B[49m\u001B[43m(\u001B[49m\u001B[43mX\u001B[49m\u001B[43m,\u001B[49m\u001B[43m \u001B[49m\u001B[43my\u001B[49m\u001B[43m,\u001B[49m\u001B[43m \u001B[49m\u001B[38;5;241;43m*\u001B[39;49m\u001B[38;5;241;43m*\u001B[39;49m\u001B[43mfit_params\u001B[49m\u001B[43m)\u001B[49m\n",
      "File \u001B[0;32m~/PycharmProjects/health_insurance_cost_prediction/.venv/lib/python3.10/site-packages/sklearn/feature_selection/_rfe.py:296\u001B[0m, in \u001B[0;36mRFE._fit\u001B[0;34m(self, X, y, step_score, **fit_params)\u001B[0m\n\u001B[1;32m    293\u001B[0m \u001B[38;5;28;01mif\u001B[39;00m \u001B[38;5;28mself\u001B[39m\u001B[38;5;241m.\u001B[39mverbose \u001B[38;5;241m>\u001B[39m \u001B[38;5;241m0\u001B[39m:\n\u001B[1;32m    294\u001B[0m     \u001B[38;5;28mprint\u001B[39m(\u001B[38;5;124m\"\u001B[39m\u001B[38;5;124mFitting estimator with \u001B[39m\u001B[38;5;132;01m%d\u001B[39;00m\u001B[38;5;124m features.\u001B[39m\u001B[38;5;124m\"\u001B[39m \u001B[38;5;241m%\u001B[39m np\u001B[38;5;241m.\u001B[39msum(support_))\n\u001B[0;32m--> 296\u001B[0m \u001B[43mestimator\u001B[49m\u001B[38;5;241;43m.\u001B[39;49m\u001B[43mfit\u001B[49m\u001B[43m(\u001B[49m\u001B[43mX\u001B[49m\u001B[43m[\u001B[49m\u001B[43m:\u001B[49m\u001B[43m,\u001B[49m\u001B[43m \u001B[49m\u001B[43mfeatures\u001B[49m\u001B[43m]\u001B[49m\u001B[43m,\u001B[49m\u001B[43m \u001B[49m\u001B[43my\u001B[49m\u001B[43m,\u001B[49m\u001B[43m \u001B[49m\u001B[38;5;241;43m*\u001B[39;49m\u001B[38;5;241;43m*\u001B[39;49m\u001B[43mfit_params\u001B[49m\u001B[43m)\u001B[49m\n\u001B[1;32m    298\u001B[0m \u001B[38;5;66;03m# Get importance and rank them\u001B[39;00m\n\u001B[1;32m    299\u001B[0m importances \u001B[38;5;241m=\u001B[39m _get_feature_importances(\n\u001B[1;32m    300\u001B[0m     estimator,\n\u001B[1;32m    301\u001B[0m     \u001B[38;5;28mself\u001B[39m\u001B[38;5;241m.\u001B[39mimportance_getter,\n\u001B[1;32m    302\u001B[0m     transform_func\u001B[38;5;241m=\u001B[39m\u001B[38;5;124m\"\u001B[39m\u001B[38;5;124msquare\u001B[39m\u001B[38;5;124m\"\u001B[39m,\n\u001B[1;32m    303\u001B[0m )\n",
      "File \u001B[0;32m~/PycharmProjects/health_insurance_cost_prediction/.venv/lib/python3.10/site-packages/sklearn/linear_model/_ridge.py:1130\u001B[0m, in \u001B[0;36mRidge.fit\u001B[0;34m(self, X, y, sample_weight)\u001B[0m\n\u001B[1;32m   1121\u001B[0m _accept_sparse \u001B[38;5;241m=\u001B[39m _get_valid_accept_sparse(sparse\u001B[38;5;241m.\u001B[39missparse(X), \u001B[38;5;28mself\u001B[39m\u001B[38;5;241m.\u001B[39msolver)\n\u001B[1;32m   1122\u001B[0m X, y \u001B[38;5;241m=\u001B[39m \u001B[38;5;28mself\u001B[39m\u001B[38;5;241m.\u001B[39m_validate_data(\n\u001B[1;32m   1123\u001B[0m     X,\n\u001B[1;32m   1124\u001B[0m     y,\n\u001B[0;32m   (...)\u001B[0m\n\u001B[1;32m   1128\u001B[0m     y_numeric\u001B[38;5;241m=\u001B[39m\u001B[38;5;28;01mTrue\u001B[39;00m,\n\u001B[1;32m   1129\u001B[0m )\n\u001B[0;32m-> 1130\u001B[0m \u001B[38;5;28;01mreturn\u001B[39;00m \u001B[38;5;28;43msuper\u001B[39;49m\u001B[43m(\u001B[49m\u001B[43m)\u001B[49m\u001B[38;5;241;43m.\u001B[39;49m\u001B[43mfit\u001B[49m\u001B[43m(\u001B[49m\u001B[43mX\u001B[49m\u001B[43m,\u001B[49m\u001B[43m \u001B[49m\u001B[43my\u001B[49m\u001B[43m,\u001B[49m\u001B[43m \u001B[49m\u001B[43msample_weight\u001B[49m\u001B[38;5;241;43m=\u001B[39;49m\u001B[43msample_weight\u001B[49m\u001B[43m)\u001B[49m\n",
      "File \u001B[0;32m~/PycharmProjects/health_insurance_cost_prediction/.venv/lib/python3.10/site-packages/sklearn/linear_model/_ridge.py:889\u001B[0m, in \u001B[0;36m_BaseRidge.fit\u001B[0;34m(self, X, y, sample_weight)\u001B[0m\n\u001B[1;32m    885\u001B[0m     \u001B[38;5;28;01melse\u001B[39;00m:\n\u001B[1;32m    886\u001B[0m         \u001B[38;5;66;03m# for dense matrices or when intercept is set to 0\u001B[39;00m\n\u001B[1;32m    887\u001B[0m         params \u001B[38;5;241m=\u001B[39m {}\n\u001B[0;32m--> 889\u001B[0m     \u001B[38;5;28mself\u001B[39m\u001B[38;5;241m.\u001B[39mcoef_, \u001B[38;5;28mself\u001B[39m\u001B[38;5;241m.\u001B[39mn_iter_ \u001B[38;5;241m=\u001B[39m \u001B[43m_ridge_regression\u001B[49m\u001B[43m(\u001B[49m\n\u001B[1;32m    890\u001B[0m \u001B[43m        \u001B[49m\u001B[43mX\u001B[49m\u001B[43m,\u001B[49m\n\u001B[1;32m    891\u001B[0m \u001B[43m        \u001B[49m\u001B[43my\u001B[49m\u001B[43m,\u001B[49m\n\u001B[1;32m    892\u001B[0m \u001B[43m        \u001B[49m\u001B[43malpha\u001B[49m\u001B[38;5;241;43m=\u001B[39;49m\u001B[38;5;28;43mself\u001B[39;49m\u001B[38;5;241;43m.\u001B[39;49m\u001B[43malpha\u001B[49m\u001B[43m,\u001B[49m\n\u001B[1;32m    893\u001B[0m \u001B[43m        \u001B[49m\u001B[43msample_weight\u001B[49m\u001B[38;5;241;43m=\u001B[39;49m\u001B[43msample_weight\u001B[49m\u001B[43m,\u001B[49m\n\u001B[1;32m    894\u001B[0m \u001B[43m        \u001B[49m\u001B[43mmax_iter\u001B[49m\u001B[38;5;241;43m=\u001B[39;49m\u001B[38;5;28;43mself\u001B[39;49m\u001B[38;5;241;43m.\u001B[39;49m\u001B[43mmax_iter\u001B[49m\u001B[43m,\u001B[49m\n\u001B[1;32m    895\u001B[0m \u001B[43m        \u001B[49m\u001B[43mtol\u001B[49m\u001B[38;5;241;43m=\u001B[39;49m\u001B[38;5;28;43mself\u001B[39;49m\u001B[38;5;241;43m.\u001B[39;49m\u001B[43mtol\u001B[49m\u001B[43m,\u001B[49m\n\u001B[1;32m    896\u001B[0m \u001B[43m        \u001B[49m\u001B[43msolver\u001B[49m\u001B[38;5;241;43m=\u001B[39;49m\u001B[43msolver\u001B[49m\u001B[43m,\u001B[49m\n\u001B[1;32m    897\u001B[0m \u001B[43m        \u001B[49m\u001B[43mpositive\u001B[49m\u001B[38;5;241;43m=\u001B[39;49m\u001B[38;5;28;43mself\u001B[39;49m\u001B[38;5;241;43m.\u001B[39;49m\u001B[43mpositive\u001B[49m\u001B[43m,\u001B[49m\n\u001B[1;32m    898\u001B[0m \u001B[43m        \u001B[49m\u001B[43mrandom_state\u001B[49m\u001B[38;5;241;43m=\u001B[39;49m\u001B[38;5;28;43mself\u001B[39;49m\u001B[38;5;241;43m.\u001B[39;49m\u001B[43mrandom_state\u001B[49m\u001B[43m,\u001B[49m\n\u001B[1;32m    899\u001B[0m \u001B[43m        \u001B[49m\u001B[43mreturn_n_iter\u001B[49m\u001B[38;5;241;43m=\u001B[39;49m\u001B[38;5;28;43;01mTrue\u001B[39;49;00m\u001B[43m,\u001B[49m\n\u001B[1;32m    900\u001B[0m \u001B[43m        \u001B[49m\u001B[43mreturn_intercept\u001B[49m\u001B[38;5;241;43m=\u001B[39;49m\u001B[38;5;28;43;01mFalse\u001B[39;49;00m\u001B[43m,\u001B[49m\n\u001B[1;32m    901\u001B[0m \u001B[43m        \u001B[49m\u001B[43mcheck_input\u001B[49m\u001B[38;5;241;43m=\u001B[39;49m\u001B[38;5;28;43;01mFalse\u001B[39;49;00m\u001B[43m,\u001B[49m\n\u001B[1;32m    902\u001B[0m \u001B[43m        \u001B[49m\u001B[43mfit_intercept\u001B[49m\u001B[38;5;241;43m=\u001B[39;49m\u001B[38;5;28;43mself\u001B[39;49m\u001B[38;5;241;43m.\u001B[39;49m\u001B[43mfit_intercept\u001B[49m\u001B[43m,\u001B[49m\n\u001B[1;32m    903\u001B[0m \u001B[43m        \u001B[49m\u001B[38;5;241;43m*\u001B[39;49m\u001B[38;5;241;43m*\u001B[39;49m\u001B[43mparams\u001B[49m\u001B[43m,\u001B[49m\n\u001B[1;32m    904\u001B[0m \u001B[43m    \u001B[49m\u001B[43m)\u001B[49m\n\u001B[1;32m    905\u001B[0m     \u001B[38;5;28mself\u001B[39m\u001B[38;5;241m.\u001B[39m_set_intercept(X_offset, y_offset, X_scale)\n\u001B[1;32m    907\u001B[0m \u001B[38;5;28;01mreturn\u001B[39;00m \u001B[38;5;28mself\u001B[39m\n",
      "File \u001B[0;32m~/PycharmProjects/health_insurance_cost_prediction/.venv/lib/python3.10/site-packages/sklearn/linear_model/_ridge.py:699\u001B[0m, in \u001B[0;36m_ridge_regression\u001B[0;34m(X, y, alpha, sample_weight, solver, max_iter, tol, verbose, positive, random_state, return_n_iter, return_intercept, X_scale, X_offset, check_input, fit_intercept)\u001B[0m\n\u001B[1;32m    697\u001B[0m \u001B[38;5;28;01melse\u001B[39;00m:\n\u001B[1;32m    698\u001B[0m     \u001B[38;5;28;01mtry\u001B[39;00m:\n\u001B[0;32m--> 699\u001B[0m         coef \u001B[38;5;241m=\u001B[39m \u001B[43m_solve_cholesky\u001B[49m\u001B[43m(\u001B[49m\u001B[43mX\u001B[49m\u001B[43m,\u001B[49m\u001B[43m \u001B[49m\u001B[43my\u001B[49m\u001B[43m,\u001B[49m\u001B[43m \u001B[49m\u001B[43malpha\u001B[49m\u001B[43m)\u001B[49m\n\u001B[1;32m    700\u001B[0m     \u001B[38;5;28;01mexcept\u001B[39;00m linalg\u001B[38;5;241m.\u001B[39mLinAlgError:\n\u001B[1;32m    701\u001B[0m         \u001B[38;5;66;03m# use SVD solver if matrix is singular\u001B[39;00m\n\u001B[1;32m    702\u001B[0m         solver \u001B[38;5;241m=\u001B[39m \u001B[38;5;124m\"\u001B[39m\u001B[38;5;124msvd\u001B[39m\u001B[38;5;124m\"\u001B[39m\n",
      "File \u001B[0;32m~/PycharmProjects/health_insurance_cost_prediction/.venv/lib/python3.10/site-packages/sklearn/linear_model/_ridge.py:205\u001B[0m, in \u001B[0;36m_solve_cholesky\u001B[0;34m(X, y, alpha)\u001B[0m\n\u001B[1;32m    202\u001B[0m n_features \u001B[38;5;241m=\u001B[39m X\u001B[38;5;241m.\u001B[39mshape[\u001B[38;5;241m1\u001B[39m]\n\u001B[1;32m    203\u001B[0m n_targets \u001B[38;5;241m=\u001B[39m y\u001B[38;5;241m.\u001B[39mshape[\u001B[38;5;241m1\u001B[39m]\n\u001B[0;32m--> 205\u001B[0m A \u001B[38;5;241m=\u001B[39m \u001B[43msafe_sparse_dot\u001B[49m\u001B[43m(\u001B[49m\u001B[43mX\u001B[49m\u001B[38;5;241;43m.\u001B[39;49m\u001B[43mT\u001B[49m\u001B[43m,\u001B[49m\u001B[43m \u001B[49m\u001B[43mX\u001B[49m\u001B[43m,\u001B[49m\u001B[43m \u001B[49m\u001B[43mdense_output\u001B[49m\u001B[38;5;241;43m=\u001B[39;49m\u001B[38;5;28;43;01mTrue\u001B[39;49;00m\u001B[43m)\u001B[49m\n\u001B[1;32m    206\u001B[0m Xy \u001B[38;5;241m=\u001B[39m safe_sparse_dot(X\u001B[38;5;241m.\u001B[39mT, y, dense_output\u001B[38;5;241m=\u001B[39m\u001B[38;5;28;01mTrue\u001B[39;00m)\n\u001B[1;32m    208\u001B[0m one_alpha \u001B[38;5;241m=\u001B[39m np\u001B[38;5;241m.\u001B[39marray_equal(alpha, \u001B[38;5;28mlen\u001B[39m(alpha) \u001B[38;5;241m*\u001B[39m [alpha[\u001B[38;5;241m0\u001B[39m]])\n",
      "File \u001B[0;32m~/PycharmProjects/health_insurance_cost_prediction/.venv/lib/python3.10/site-packages/sklearn/utils/extmath.py:155\u001B[0m, in \u001B[0;36msafe_sparse_dot\u001B[0;34m(a, b, dense_output)\u001B[0m\n\u001B[1;32m    151\u001B[0m \u001B[38;5;28;01melse\u001B[39;00m:\n\u001B[1;32m    152\u001B[0m     ret \u001B[38;5;241m=\u001B[39m a \u001B[38;5;241m@\u001B[39m b\n\u001B[1;32m    154\u001B[0m \u001B[38;5;28;01mif\u001B[39;00m (\n\u001B[0;32m--> 155\u001B[0m     \u001B[43msparse\u001B[49m\u001B[38;5;241;43m.\u001B[39;49m\u001B[43missparse\u001B[49m\u001B[43m(\u001B[49m\u001B[43ma\u001B[49m\u001B[43m)\u001B[49m\n\u001B[1;32m    156\u001B[0m     \u001B[38;5;129;01mand\u001B[39;00m sparse\u001B[38;5;241m.\u001B[39missparse(b)\n\u001B[1;32m    157\u001B[0m     \u001B[38;5;129;01mand\u001B[39;00m dense_output\n\u001B[1;32m    158\u001B[0m     \u001B[38;5;129;01mand\u001B[39;00m \u001B[38;5;28mhasattr\u001B[39m(ret, \u001B[38;5;124m\"\u001B[39m\u001B[38;5;124mtoarray\u001B[39m\u001B[38;5;124m\"\u001B[39m)\n\u001B[1;32m    159\u001B[0m ):\n\u001B[1;32m    160\u001B[0m     \u001B[38;5;28;01mreturn\u001B[39;00m ret\u001B[38;5;241m.\u001B[39mtoarray()\n\u001B[1;32m    161\u001B[0m \u001B[38;5;28;01mreturn\u001B[39;00m ret\n",
      "File \u001B[0;32m~/PycharmProjects/health_insurance_cost_prediction/.venv/lib/python3.10/site-packages/scipy/sparse/_base.py:1294\u001B[0m, in \u001B[0;36misspmatrix\u001B[0;34m(x)\u001B[0m\n\u001B[1;32m   1290\u001B[0m         \u001B[38;5;28;01melse\u001B[39;00m:\n\u001B[1;32m   1291\u001B[0m             \u001B[38;5;28;01mreturn\u001B[39;00m np\u001B[38;5;241m.\u001B[39mzeros(\u001B[38;5;28mself\u001B[39m\u001B[38;5;241m.\u001B[39mshape, dtype\u001B[38;5;241m=\u001B[39m\u001B[38;5;28mself\u001B[39m\u001B[38;5;241m.\u001B[39mdtype, order\u001B[38;5;241m=\u001B[39morder)\n\u001B[0;32m-> 1294\u001B[0m \u001B[38;5;28;01mdef\u001B[39;00m \u001B[38;5;21misspmatrix\u001B[39m(x):\n\u001B[1;32m   1295\u001B[0m     \u001B[38;5;124;03m\"\"\"Is x of a sparse matrix type?\u001B[39;00m\n\u001B[1;32m   1296\u001B[0m \n\u001B[1;32m   1297\u001B[0m \u001B[38;5;124;03m    Parameters\u001B[39;00m\n\u001B[0;32m   (...)\u001B[0m\n\u001B[1;32m   1319\u001B[0m \u001B[38;5;124;03m    False\u001B[39;00m\n\u001B[1;32m   1320\u001B[0m \u001B[38;5;124;03m    \"\"\"\u001B[39;00m\n\u001B[1;32m   1321\u001B[0m     \u001B[38;5;28;01mreturn\u001B[39;00m \u001B[38;5;28misinstance\u001B[39m(x, spmatrix)\n",
      "\u001B[0;31mKeyboardInterrupt\u001B[0m: "
     ]
    }
   ],
   "source": [
    "lr_lasso_rfe = generate_model_summary(\n",
    "    \"lr_lasso_rfe\",\n",
    "    Lasso(),\n",
    "    X_train,\n",
    "    X_test,\n",
    "    y_train,\n",
    "    y_test,\n",
    "    polynomial_features={\"degree\": 2},\n",
    "    rfe={\n",
    "        \"estimator\": Ridge(),\n",
    "    },\n",
    "    grid_search={\n",
    "        \"param_grid\": {\n",
    "            \"polynomialfeatures__degree\": range(4),\n",
    "            \"lasso__alpha\": [0, 5, 10, 20],\n",
    "            \"lasso__max_iter\": [1000, 1500, 2000],\n",
    "        },\n",
    "        \"n_jobs\": 3\n",
    "    },\n",
    "    learning_curve={\n",
    "        \"train_sizes\": np.linspace(0.3, 1, 10)\n",
    "    },\n",
    ")"
   ],
   "metadata": {
    "collapsed": false,
    "pycharm": {
     "name": "#%%\n"
    }
   }
  },
  {
   "cell_type": "code",
   "execution_count": null,
   "outputs": [],
   "source": [
    "lr_lasso_rfe.to_json(\"dist/result.json\")\n",
    "lr_lasso_rfe.display()"
   ],
   "metadata": {
    "collapsed": false,
    "pycharm": {
     "name": "#%%\n"
    }
   }
  },
  {
   "cell_type": "markdown",
   "source": [
    "# 5- DecisionTreeRegressor"
   ],
   "metadata": {
    "collapsed": false,
    "pycharm": {
     "name": "#%% md\n"
    }
   }
  },
  {
   "cell_type": "code",
   "execution_count": null,
   "outputs": [],
   "source": [
    "decision_tree = generate_model_summary(\n",
    "    \"decision_tree\",\n",
    "    DecisionTreeRegressor(),\n",
    "    X_train,\n",
    "    X_test,\n",
    "    y_train,\n",
    "    y_test,\n",
    "    polynomial_features={\"degree\": 2},\n",
    "    grid_search={\n",
    "        \"param_grid\": {\n",
    "            \"polynomialfeatures__degree\": range(4),\n",
    "            \"decisiontreeregressor__min_samples_leaf\": [1, 2, 4, 6, 8],\n",
    "            \"decisiontreeregressor__max_depth\": [1, 2, 4, 6, 8],\n",
    "        },\n",
    "        \"n_jobs\": 3\n",
    "    },\n",
    "    learning_curve={\n",
    "        \"train_sizes\": np.linspace(0.3, 1, 10)\n",
    "    },\n",
    ")"
   ],
   "metadata": {
    "collapsed": false,
    "pycharm": {
     "name": "#%%\n"
    }
   }
  },
  {
   "cell_type": "code",
   "execution_count": null,
   "outputs": [],
   "source": [
    "decision_tree.to_json(\"dist/result.json\")\n",
    "decision_tree.display()"
   ],
   "metadata": {
    "collapsed": false,
    "pycharm": {
     "name": "#%%\n"
    }
   }
  },
  {
   "cell_type": "markdown",
   "source": [
    "# 6- Linear SVR"
   ],
   "metadata": {
    "collapsed": false,
    "pycharm": {
     "name": "#%% md\n"
    }
   }
  },
  {
   "cell_type": "code",
   "execution_count": null,
   "outputs": [],
   "source": [
    "linear_svr = generate_model_summary(\n",
    "    \"linear_svr\",\n",
    "    LinearSVR(),\n",
    "    X_train,\n",
    "    X_test,\n",
    "    y_train,\n",
    "    y_test,\n",
    "    polynomial_features={\"degree\": 2},\n",
    "    grid_search={\n",
    "        \"param_grid\": {\n",
    "            \"polynomialfeatures__degree\": range(4),\n",
    "            \"linearsvr__epsilon\": [0, 0.5, 1.0, 1.5, 2],\n",
    "            \"linearsvr__C\": [0, 1, 5, 20, 50],\n",
    "            \"linearsvr__max_iter\": [1000, 1500, 2000],\n",
    "        },\n",
    "        \"n_jobs\": 3\n",
    "    },\n",
    "    learning_curve={\n",
    "        \"train_sizes\": np.linspace(0.3, 1, 10)\n",
    "    },\n",
    ")"
   ],
   "metadata": {
    "collapsed": false,
    "pycharm": {
     "name": "#%%\n"
    }
   }
  },
  {
   "cell_type": "code",
   "execution_count": null,
   "outputs": [],
   "source": [
    "linear_svr.to_json(\"dist/result.json\")\n",
    "linear_svr.display()"
   ],
   "metadata": {
    "collapsed": false,
    "pycharm": {
     "name": "#%%\n"
    }
   }
  },
  {
   "cell_type": "markdown",
   "source": [
    "# 6- SVR\n"
   ],
   "metadata": {
    "collapsed": false,
    "pycharm": {
     "name": "#%% md\n"
    }
   }
  },
  {
   "cell_type": "code",
   "execution_count": null,
   "outputs": [],
   "source": [
    "svr = generate_model_summary(\n",
    "    \"svr\",\n",
    "    SVR(),\n",
    "    X_train,\n",
    "    X_test,\n",
    "    y_train,\n",
    "    y_test,\n",
    "    polynomial_features={\"degree\": 2},\n",
    "    grid_search={\n",
    "        \"param_grid\": {\n",
    "            \"polynomialfeatures__degree\": range(4),\n",
    "            \"svr__epsilon\": [0, 0.5, 1.0, 1.5, 2],\n",
    "            \"svr__degree\": [1, 2],\n",
    "            \"svr__gamma\": [0.1, 1, 10],\n",
    "            \"svr__C\": [0.001, 1, 10, 100],\n",
    "            \"svr__kernel\": [\"linear\", \"ploy\", \"rbf\"],\n",
    "            # \"svr__max_iter\": [1000, 1500, 2000],\n",
    "        },\n",
    "        \"n_jobs\": 3\n",
    "    },\n",
    "    learning_curve={\n",
    "        \"train_sizes\": np.linspace(0.3, 1, 10)\n",
    "    },\n",
    ")"
   ],
   "metadata": {
    "collapsed": false,
    "pycharm": {
     "name": "#%%\n"
    }
   }
  },
  {
   "cell_type": "code",
   "execution_count": null,
   "outputs": [],
   "source": [
    "svr.to_json(\"dist/result.json\")\n",
    "svr.display()"
   ],
   "metadata": {
    "collapsed": false,
    "pycharm": {
     "name": "#%%\n"
    }
   }
  },
  {
   "cell_type": "markdown",
   "source": [
    "# 7- AdaBoostRegressor with LinearRegression"
   ],
   "metadata": {
    "collapsed": false,
    "pycharm": {
     "name": "#%% md\n"
    }
   }
  },
  {
   "cell_type": "code",
   "execution_count": null,
   "outputs": [],
   "source": [
    "ada_boost_ridge = generate_model_summary(\n",
    "    \"ada_boost_ridge\",\n",
    "    AdaBoostRegressor(\n",
    "        Ridge(alpha=5)\n",
    "    ),\n",
    "    X_train,\n",
    "    X_test,\n",
    "    y_train,\n",
    "    y_test,\n",
    "    polynomial_features={\"degree\": 2},\n",
    "    grid_search={\n",
    "        \"param_grid\": {\n",
    "            \"polynomialfeatures__degree\": range(4),\n",
    "            \"adaboostregressor__n_estimators\": [50, 100, 200],\n",
    "            \"adaboostregressor__learning_rate\": [0.001, 0.01],\n",
    "        },\n",
    "        \"n_jobs\": 4\n",
    "    },\n",
    "    learning_curve={\n",
    "        \"train_sizes\": np.linspace(0.3, 1, 10)\n",
    "    },\n",
    ")"
   ],
   "metadata": {
    "collapsed": false,
    "pycharm": {
     "name": "#%%\n"
    }
   }
  },
  {
   "cell_type": "code",
   "execution_count": null,
   "outputs": [],
   "source": [
    "ada_boost_ridge.to_json(\"dist/result.json\")\n",
    "ada_boost_ridge.display()"
   ],
   "metadata": {
    "collapsed": false,
    "pycharm": {
     "name": "#%%\n"
    }
   }
  },
  {
   "cell_type": "markdown",
   "source": [
    "# 8- AdaBoostRegressor with DecisionTreeRegressor\n"
   ],
   "metadata": {
    "collapsed": false,
    "pycharm": {
     "name": "#%% md\n"
    }
   }
  },
  {
   "cell_type": "code",
   "execution_count": null,
   "outputs": [],
   "source": [
    "ada_boost_tree = generate_model_summary(\n",
    "    \"ada_boost_tree\",\n",
    "    AdaBoostRegressor(\n",
    "        DecisionTreeRegressor(max_depth=6, min_samples_leaf=6)\n",
    "    ),\n",
    "    X_train,\n",
    "    X_test,\n",
    "    y_train,\n",
    "    y_test,\n",
    "    polynomial_features={\"degree\": 2},\n",
    "    grid_search={\n",
    "        \"param_grid\": {\n",
    "            \"polynomialfeatures__degree\": range(4),\n",
    "            \"adaboostregressor__n_estimators\": [50, 100, 200],\n",
    "            \"adaboostregressor__learning_rate\": [0.001, 0.01],\n",
    "        },\n",
    "        \"n_jobs\": 4\n",
    "    },\n",
    "    learning_curve={\n",
    "        \"train_sizes\": np.linspace(0.3, 1, 10)\n",
    "    },\n",
    ")"
   ],
   "metadata": {
    "collapsed": false,
    "pycharm": {
     "name": "#%%\n"
    }
   }
  },
  {
   "cell_type": "code",
   "execution_count": null,
   "outputs": [],
   "source": [
    "ada_boost_tree.to_json(\"dist/result.json\")\n",
    "ada_boost_tree.display()"
   ],
   "metadata": {
    "collapsed": false,
    "pycharm": {
     "name": "#%%\n"
    }
   }
  },
  {
   "cell_type": "markdown",
   "source": [
    "# 9- GradientBoostingRegressor"
   ],
   "metadata": {
    "collapsed": false,
    "pycharm": {
     "name": "#%% md\n"
    }
   }
  },
  {
   "cell_type": "code",
   "execution_count": null,
   "outputs": [],
   "source": [
    "gradient_boost = generate_model_summary(\n",
    "    \"gradient_boost\",\n",
    "    GradientBoostingRegressor(),\n",
    "    X_train,\n",
    "    X_test,\n",
    "    y_train,\n",
    "    y_test,\n",
    "    polynomial_features={\"degree\": 2},\n",
    "    grid_search={\n",
    "        \"param_grid\": {\n",
    "            \"polynomialfeatures__degree\": range(4),\n",
    "            \"gradientboostingregressor__max_depth\": [1, 2, 4, 6, 8],\n",
    "            \"gradientboostingregressor__learning_rate\": [0.001, 0.01],\n",
    "            \"gradientboostingregressor__n_estimators\": [50, 100, 200],\n",
    "        },\n",
    "        \"n_jobs\": 4\n",
    "    },\n",
    "    learning_curve={\n",
    "        \"train_sizes\": np.linspace(0.3, 1, 10)\n",
    "    },\n",
    ")"
   ],
   "metadata": {
    "collapsed": false,
    "pycharm": {
     "name": "#%%\n"
    }
   }
  },
  {
   "cell_type": "code",
   "execution_count": null,
   "outputs": [],
   "source": [
    "gradient_boost.to_json(\"dist/result.json\")\n",
    "gradient_boost.display()"
   ],
   "metadata": {
    "collapsed": false,
    "pycharm": {
     "name": "#%%\n"
    }
   }
  },
  {
   "cell_type": "markdown",
   "source": [
    "# 10- RandomForestRegressor"
   ],
   "metadata": {
    "collapsed": false,
    "pycharm": {
     "name": "#%% md\n"
    }
   }
  },
  {
   "cell_type": "code",
   "execution_count": null,
   "outputs": [],
   "source": [
    "random_forest = generate_model_summary(\n",
    "    \"random_forest\",\n",
    "    RandomForestRegressor(),\n",
    "    X_train,\n",
    "    X_test,\n",
    "    y_train,\n",
    "    y_test,\n",
    "    polynomial_features={\"degree\": 2},\n",
    "    grid_search={\n",
    "        \"param_grid\": {\n",
    "            \"polynomialfeatures__degree\": range(4),\n",
    "            \"randomforestregressor__max_leaf_nodes\": [4, 8, 16],\n",
    "            \"randomforestregressor__n_estimators\": [50, 100, 200],\n",
    "        },\n",
    "        \"n_jobs\": 4\n",
    "    },\n",
    "    learning_curve={\n",
    "        \"train_sizes\": np.linspace(0.3, 1, 10)\n",
    "    },\n",
    ")"
   ],
   "metadata": {
    "collapsed": false,
    "pycharm": {
     "name": "#%%\n"
    }
   }
  },
  {
   "cell_type": "code",
   "execution_count": null,
   "outputs": [],
   "source": [
    "random_forest.to_json(\"dist/result.json\")\n",
    "random_forest.display()"
   ],
   "metadata": {
    "collapsed": false,
    "pycharm": {
     "name": "#%%\n"
    }
   }
  },
  {
   "cell_type": "markdown",
   "source": [
    "# 11- VotingRegressor"
   ],
   "metadata": {
    "collapsed": false,
    "pycharm": {
     "name": "#%% md\n"
    }
   }
  },
  {
   "cell_type": "code",
   "execution_count": null,
   "outputs": [],
   "source": [
    "voting = generate_model_summary(\n",
    "    \"voting\",\n",
    "    VotingRegressor(\n",
    "        estimators=[\n",
    "            (\"lr\", Ridge(alpha=5)),\n",
    "            (\"dt\", DecisionTreeRegressor(max_depth=6, min_samples_leaf=6))\n",
    "        ]\n",
    "    ),\n",
    "    X_train,\n",
    "    X_test,\n",
    "    y_train,\n",
    "    y_test,\n",
    "    polynomial_features={\"degree\": 2},\n",
    "    grid_search={\n",
    "        \"param_grid\": {\n",
    "            \"polynomialfeatures__degree\": range(4),\n",
    "        },\n",
    "        \"n_jobs\": 4\n",
    "    },\n",
    "    learning_curve={\n",
    "        \"train_sizes\": np.linspace(0.3, 1, 10)\n",
    "    },\n",
    ")"
   ],
   "metadata": {
    "collapsed": false,
    "pycharm": {
     "name": "#%%\n"
    }
   }
  },
  {
   "cell_type": "code",
   "execution_count": null,
   "outputs": [],
   "source": [
    "voting.to_json(\"dist/result.json\")\n",
    "voting.display()"
   ],
   "metadata": {
    "collapsed": false,
    "pycharm": {
     "name": "#%%\n"
    }
   }
  },
  {
   "cell_type": "markdown",
   "source": [
    "# 12- BaggingRegressor with LinearRegression"
   ],
   "metadata": {
    "collapsed": false,
    "pycharm": {
     "name": "#%% md\n"
    }
   }
  },
  {
   "cell_type": "code",
   "execution_count": null,
   "outputs": [],
   "source": [
    "bagging_ridge = generate_model_summary(\n",
    "    \"bagging_ridge\",\n",
    "    BaggingRegressor(\n",
    "        Ridge(alpha=5)\n",
    "    ),\n",
    "    X_train,\n",
    "    X_test,\n",
    "    y_train,\n",
    "    y_test,\n",
    "    polynomial_features={\"degree\": 2},\n",
    "    grid_search={\n",
    "        \"param_grid\": {\n",
    "            \"polynomialfeatures__degree\": range(4),\n",
    "            \"baggingregressor__n_estimators\": [100, 200, 300],\n",
    "            \"baggingregressor__max_samples\": [50, 100],\n",
    "            # for testing bagging a pasting.\n",
    "            \"baggingregressor__bootstrap\": [True, False],\n",
    "        },\n",
    "        \"n_jobs\": 4\n",
    "    },\n",
    "    learning_curve={\n",
    "        \"train_sizes\": np.linspace(0.3, 1, 10)\n",
    "    },\n",
    ")"
   ],
   "metadata": {
    "collapsed": false,
    "pycharm": {
     "name": "#%%\n"
    }
   }
  },
  {
   "cell_type": "code",
   "execution_count": null,
   "outputs": [],
   "source": [
    "bagging_ridge.to_json(\"dist/result.json\")\n",
    "bagging_ridge.display()"
   ],
   "metadata": {
    "collapsed": false,
    "pycharm": {
     "name": "#%%\n"
    }
   }
  },
  {
   "cell_type": "markdown",
   "source": [
    "# 13- Bagging with DecisionTreeRegressor"
   ],
   "metadata": {
    "collapsed": false,
    "pycharm": {
     "name": "#%% md\n"
    }
   }
  },
  {
   "cell_type": "code",
   "execution_count": null,
   "outputs": [],
   "source": [
    "bagging_tree = generate_model_summary(\n",
    "    \"bagging_tree\",\n",
    "    DecisionTreeRegressor(\n",
    "        max_depth=6, min_samples_leaf=6\n",
    "    ),\n",
    "    X_train,\n",
    "    X_test,\n",
    "    y_train,\n",
    "    y_test,\n",
    "    polynomial_features={\"degree\": 2},\n",
    "    grid_search={\n",
    "        \"param_grid\": {\n",
    "            \"polynomialfeatures__degree\": range(4),\n",
    "            \"baggingregressor__n_estimators\": [100, 200, 300],\n",
    "            \"baggingregressor__max_samples\": [50, 100],\n",
    "            # for testing bagging a pasting.\n",
    "            \"baggingregressor__bootstrap\": [True, False],\n",
    "        },\n",
    "        \"n_jobs\": 4\n",
    "    },\n",
    "    learning_curve={\n",
    "        \"train_sizes\": np.linspace(0.3, 1, 10)\n",
    "    },\n",
    ")"
   ],
   "metadata": {
    "collapsed": false,
    "pycharm": {
     "name": "#%%\n"
    }
   }
  },
  {
   "cell_type": "code",
   "execution_count": null,
   "outputs": [],
   "source": [
    "bagging_tree.to_json(\"dist/result.json\")\n",
    "bagging_tree.display()"
   ],
   "metadata": {
    "collapsed": false,
    "pycharm": {
     "name": "#%%\n"
    }
   }
  }
 ],
 "metadata": {
  "kernelspec": {
   "display_name": "Python 3",
   "language": "python",
   "name": "python3"
  },
  "language_info": {
   "codemirror_mode": {
    "name": "ipython",
    "version": 2
   },
   "file_extension": ".py",
   "mimetype": "text/x-python",
   "name": "python",
   "nbconvert_exporter": "python",
   "pygments_lexer": "ipython2",
   "version": "2.7.6"
  }
 },
 "nbformat": 4,
 "nbformat_minor": 0
}